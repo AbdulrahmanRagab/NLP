{
 "cells": [
  {
   "cell_type": "code",
   "execution_count": 1,
   "id": "c69c4b4f",
   "metadata": {},
   "outputs": [],
   "source": [
    "import spacy"
   ]
  },
  {
   "cell_type": "code",
   "execution_count": 2,
   "id": "2ca8415c",
   "metadata": {},
   "outputs": [],
   "source": [
    "nlp = spacy.load('en_core_web_sm')"
   ]
  },
  {
   "cell_type": "code",
   "execution_count": 12,
   "id": "174cc415",
   "metadata": {},
   "outputs": [],
   "source": [
    "doc1 = nlp(u\"I am a runner running in a race because I love to run since I ran today\") "
   ]
  },
  {
   "cell_type": "code",
   "execution_count": 13,
   "id": "31fb1bc4",
   "metadata": {},
   "outputs": [
    {
     "name": "stdout",
     "output_type": "stream",
     "text": [
      "I\n",
      "am\n",
      "a\n",
      "runner\n",
      "running\n",
      "in\n",
      "a\n",
      "race\n",
      "because\n",
      "I\n",
      "love\n",
      "to\n",
      "run\n",
      "since\n",
      "I\n",
      "ran\n",
      "today\n"
     ]
    }
   ],
   "source": [
    "for token in doc1:\n",
    "    print(token.text)"
   ]
  },
  {
   "cell_type": "code",
   "execution_count": 14,
   "id": "6cd2ee65",
   "metadata": {},
   "outputs": [
    {
     "name": "stdout",
     "output_type": "stream",
     "text": [
      "I          PRON         pronoun\n",
      "am          AUX         auxiliary\n",
      "a          DET         determiner\n",
      "runner          NOUN         noun\n",
      "running          VERB         verb\n",
      "in          ADP         adposition\n",
      "a          DET         determiner\n",
      "race          NOUN         noun\n",
      "because          SCONJ         subordinating conjunction\n",
      "I          PRON         pronoun\n",
      "love          VERB         verb\n",
      "to          PART         particle\n",
      "run          VERB         verb\n",
      "since          SCONJ         subordinating conjunction\n",
      "I          PRON         pronoun\n",
      "ran          VERB         verb\n",
      "today          NOUN         noun\n"
     ]
    }
   ],
   "source": [
    "for token in doc1:\n",
    "    print(token.text , \"        \" , token.pos_ , \"       \" , spacy.explain(token.pos_) )"
   ]
  },
  {
   "cell_type": "code",
   "execution_count": 15,
   "id": "af14cd7e",
   "metadata": {},
   "outputs": [
    {
     "name": "stdout",
     "output_type": "stream",
     "text": [
      "I        PRON       I\n",
      "am        AUX       be\n",
      "a        DET       a\n",
      "runner        NOUN       runner\n",
      "running        VERB       run\n",
      "in        ADP       in\n",
      "a        DET       a\n",
      "race        NOUN       race\n",
      "because        SCONJ       because\n",
      "I        PRON       I\n",
      "love        VERB       love\n",
      "to        PART       to\n",
      "run        VERB       run\n",
      "since        SCONJ       since\n",
      "I        PRON       I\n",
      "ran        VERB       run\n",
      "today        NOUN       today\n"
     ]
    }
   ],
   "source": [
    "for token in doc1:\n",
    "    print(token.text , \"      \" , token.pos_ , \"     \" , token.lemma_ )"
   ]
  },
  {
   "cell_type": "code",
   "execution_count": 16,
   "id": "7953b846",
   "metadata": {},
   "outputs": [],
   "source": [
    "def show_lemma(text):\n",
    "    for token in text:\n",
    "        print(f'{token.text:{10}} {token.pos_:{10}} {token.lemma_:{10}}')"
   ]
  },
  {
   "cell_type": "code",
   "execution_count": 17,
   "id": "b71c07cf",
   "metadata": {},
   "outputs": [
    {
     "name": "stdout",
     "output_type": "stream",
     "text": [
      "I          PRON       I         \n",
      "saw        VERB       see       \n",
      "eighteen   NUM        eighteen  \n",
      "mice       NOUN       mouse     \n",
      "today      NOUN       today     \n",
      "!          PUNCT      !         \n"
     ]
    }
   ],
   "source": [
    "doc2 = nlp(\"I saw eighteen mice today!\")\n",
    "show_lemma(doc2)"
   ]
  },
  {
   "cell_type": "code",
   "execution_count": 18,
   "id": "a84d4cdb",
   "metadata": {},
   "outputs": [
    {
     "name": "stdout",
     "output_type": "stream",
     "text": [
      "I          PRON       I         \n",
      "am         AUX        be        \n",
      "meeting    VERB       meet      \n",
      "him        PRON       he        \n",
      "tomorrow   NOUN       tomorrow  \n",
      "at         ADP        at        \n",
      "the        DET        the       \n",
      "meeting    NOUN       meeting   \n",
      ".          PUNCT      .         \n"
     ]
    }
   ],
   "source": [
    "doc3 = nlp(u\"I am meeting him tomorrow at the meeting.\") \n",
    "show_lemma(doc3)"
   ]
  },
  {
   "cell_type": "code",
   "execution_count": 22,
   "id": "444a3980",
   "metadata": {},
   "outputs": [
    {
     "ename": "ImportError",
     "evalue": "cannot import name 'WordNetLemmatizerrdNetlemmatizer' from 'nltk.stem' (C:\\Users\\Abdelrahman\\anaconda3\\lib\\site-packages\\nltk\\stem\\__init__.py)",
     "output_type": "error",
     "traceback": [
      "\u001b[1;31m---------------------------------------------------------------------------\u001b[0m",
      "\u001b[1;31mImportError\u001b[0m                               Traceback (most recent call last)",
      "Input \u001b[1;32mIn [22]\u001b[0m, in \u001b[0;36m<cell line: 1>\u001b[1;34m()\u001b[0m\n\u001b[1;32m----> 1\u001b[0m \u001b[38;5;28;01mfrom\u001b[39;00m \u001b[38;5;21;01mnltk\u001b[39;00m\u001b[38;5;21;01m.\u001b[39;00m\u001b[38;5;21;01mstem\u001b[39;00m \u001b[38;5;28;01mimport\u001b[39;00m WordNetLemmatizerrdNetlemmatizer\n",
      "\u001b[1;31mImportError\u001b[0m: cannot import name 'WordNetLemmatizerrdNetlemmatizer' from 'nltk.stem' (C:\\Users\\Abdelrahman\\anaconda3\\lib\\site-packages\\nltk\\stem\\__init__.py)"
     ]
    }
   ],
   "source": [
    "from nltk.stem import WordNetLemmatizerrdNetlemmatizer"
   ]
  },
  {
   "cell_type": "code",
   "execution_count": null,
   "id": "a14d44c1",
   "metadata": {},
   "outputs": [],
   "source": []
  }
 ],
 "metadata": {
  "kernelspec": {
   "display_name": "Python 3 (ipykernel)",
   "language": "python",
   "name": "python3"
  },
  "language_info": {
   "codemirror_mode": {
    "name": "ipython",
    "version": 3
   },
   "file_extension": ".py",
   "mimetype": "text/x-python",
   "name": "python",
   "nbconvert_exporter": "python",
   "pygments_lexer": "ipython3",
   "version": "3.9.12"
  }
 },
 "nbformat": 4,
 "nbformat_minor": 5
}
