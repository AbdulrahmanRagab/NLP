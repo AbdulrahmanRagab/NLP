{
 "cells": [
  {
   "cell_type": "code",
   "execution_count": 1,
   "id": "0d3b8141",
   "metadata": {},
   "outputs": [],
   "source": [
    "import spacy"
   ]
  },
  {
   "cell_type": "code",
   "execution_count": 2,
   "id": "f274e004",
   "metadata": {},
   "outputs": [],
   "source": [
    "nlp = spacy.load('en_core_web_sm')"
   ]
  },
  {
   "cell_type": "code",
   "execution_count": 3,
   "id": "f5d35ad8",
   "metadata": {},
   "outputs": [],
   "source": [
    "doc1 = nlp(u'Apple to build a Hong Kong factory for $6 million')"
   ]
  },
  {
   "cell_type": "code",
   "execution_count": 4,
   "id": "b2bf25c6",
   "metadata": {},
   "outputs": [
    {
     "name": "stdout",
     "output_type": "stream",
     "text": [
      "Apple\n",
      "to\n",
      "build\n",
      "a\n",
      "Hong\n",
      "Kong\n",
      "factory\n",
      "for\n",
      "$\n",
      "6\n",
      "million\n"
     ]
    }
   ],
   "source": [
    "for token in doc1:\n",
    "    print(token.text)"
   ]
  },
  {
   "cell_type": "code",
   "execution_count": 9,
   "id": "d8910849",
   "metadata": {},
   "outputs": [
    {
     "name": "stdout",
     "output_type": "stream",
     "text": [
      "Apple\n",
      "ORG Companies, agencies, institutions, etc.\n",
      "Hong Kong\n",
      "GPE Countries, cities, states\n",
      "$6 million\n",
      "MONEY Monetary values, including unit\n"
     ]
    }
   ],
   "source": [
    "for entity in doc1.ents:\n",
    "    print(entity.text)\n",
    "    print(entity.label_ , spacy.explain(entity.label_))\n",
    "#     print(ent.start) \n",
    "#     print(ent.end) \n",
    "#     print(ent.start_char) \n",
    "#     print(ent.end_char) "
   ]
  },
  {
   "cell_type": "code",
   "execution_count": 12,
   "id": "e66f7304",
   "metadata": {},
   "outputs": [],
   "source": [
    "def show_ents(doc):\n",
    "    if doc.ents: \n",
    "        for ent in doc.ents: \n",
    "        \n",
    "            print(ent.text+' - '+ent.label_+' - '+str(spacy.explain(ent.label_))) \n",
    "            print('-----------------------------') \n",
    "    else: \n",
    "        print('No named entities found.')"
   ]
  },
  {
   "cell_type": "code",
   "execution_count": 13,
   "id": "d40e01b1",
   "metadata": {},
   "outputs": [
    {
     "name": "stdout",
     "output_type": "stream",
     "text": [
      "No named entities found.\n"
     ]
    }
   ],
   "source": [
    "show_ents(nlp('Hi how are you'))"
   ]
  },
  {
   "cell_type": "code",
   "execution_count": 21,
   "id": "c36d3ed5",
   "metadata": {},
   "outputs": [],
   "source": [
    "def show_ents(doc):\n",
    "    if doc.ents:\n",
    "        for entity in doc.ents:\n",
    "            print(entity.text , entity.label_ , \"=\" , spacy.explain(ent.label_))\n",
    "    else:\n",
    "        print(\"no entities\")"
   ]
  },
  {
   "cell_type": "code",
   "execution_count": 22,
   "id": "4e6f328c",
   "metadata": {},
   "outputs": [
    {
     "name": "stdout",
     "output_type": "stream",
     "text": [
      "no entities\n"
     ]
    }
   ],
   "source": [
    "show_ents(nlp(\"how are you\"))"
   ]
  },
  {
   "cell_type": "code",
   "execution_count": 23,
   "id": "5bf9cb1b",
   "metadata": {},
   "outputs": [
    {
     "name": "stdout",
     "output_type": "stream",
     "text": [
      "california GPE = Monetary values, including unit\n"
     ]
    }
   ],
   "source": [
    "show_ents(nlp(\"i visited california\"))"
   ]
  },
  {
   "cell_type": "code",
   "execution_count": 24,
   "id": "b92ffe53",
   "metadata": {},
   "outputs": [],
   "source": [
    "from spacy.tokens import Span \n",
    "doc =nlp('CPRO to build a U.K. factory for $6 million')"
   ]
  },
  {
   "cell_type": "code",
   "execution_count": 25,
   "id": "ebfbbd75",
   "metadata": {},
   "outputs": [],
   "source": [
    "ORG = doc.vocab.strings[u'ORG']"
   ]
  },
  {
   "cell_type": "code",
   "execution_count": 26,
   "id": "7a2b4811",
   "metadata": {},
   "outputs": [],
   "source": [
    "new_ent = Span(doc, 0, 1, label=ORG) "
   ]
  },
  {
   "cell_type": "code",
   "execution_count": 29,
   "id": "22329c67",
   "metadata": {},
   "outputs": [
    {
     "name": "stdout",
     "output_type": "stream",
     "text": [
      "CPRO ORG = Monetary values, including unit\n",
      "U.K. GPE = Monetary values, including unit\n",
      "$6 million MONEY = Monetary values, including unit\n"
     ]
    }
   ],
   "source": [
    "doc =nlp('CPRO to build a U.K. factory for $6 million') \n",
    "doc.ents = list(doc.ents) + [new_ent] \n",
    "show_ents(doc)"
   ]
  },
  {
   "cell_type": "code",
   "execution_count": 38,
   "id": "7b6d461f",
   "metadata": {},
   "outputs": [],
   "source": [
    "# doc2 = nlp(u\"Autonomous cars shift insurance liability toward manufacturers.\")\n",
    "doc2 = nlp(u\"i visited my brother yesterday in california\")"
   ]
  },
  {
   "cell_type": "code",
   "execution_count": 39,
   "id": "f836a434",
   "metadata": {},
   "outputs": [
    {
     "name": "stdout",
     "output_type": "stream",
     "text": [
      "i NP  =  noun phrase\n",
      "my brother NP  =  noun phrase\n",
      "california NP  =  noun phrase\n"
     ]
    }
   ],
   "source": [
    "for chunk in doc2.noun_chunks:\n",
    "    print(chunk.text , chunk.label_ , \" = \" ,spacy.explain(chunk.label_))"
   ]
  },
  {
   "cell_type": "code",
   "execution_count": 46,
   "id": "d60a9669",
   "metadata": {},
   "outputs": [],
   "source": [
    "doc3 = nlp(''' \n",
    "In economics, inflation (or less frequently, price inflation) is a general rise in the price \n",
    "level in an economy over a period of time, resulting in a sustained drop in the \n",
    "purchasing power of money. When the general price level rises, each unit of currency \n",
    "''') "
   ]
  },
  {
   "cell_type": "code",
   "execution_count": 47,
   "id": "2e57b2a0",
   "metadata": {},
   "outputs": [
    {
     "name": "stdout",
     "output_type": "stream",
     "text": [
      "economics NP\n",
      "inflation NP\n",
      "price inflation NP\n",
      "a general rise NP\n",
      "the price \n",
      "level NP\n",
      "an economy NP\n",
      "a period NP\n",
      "time NP\n",
      "a sustained drop NP\n",
      "the \n",
      "purchasing power NP\n",
      "money NP\n",
      "the general price level NP\n",
      "currency NP\n"
     ]
    }
   ],
   "source": [
    "for ch in doc3.noun_chunks:\n",
    "    print(ch.text , ch.label_)"
   ]
  },
  {
   "cell_type": "code",
   "execution_count": null,
   "id": "0b741bfa",
   "metadata": {},
   "outputs": [],
   "source": []
  }
 ],
 "metadata": {
  "kernelspec": {
   "display_name": "Python 3 (ipykernel)",
   "language": "python",
   "name": "python3"
  },
  "language_info": {
   "codemirror_mode": {
    "name": "ipython",
    "version": 3
   },
   "file_extension": ".py",
   "mimetype": "text/x-python",
   "name": "python",
   "nbconvert_exporter": "python",
   "pygments_lexer": "ipython3",
   "version": "3.9.12"
  }
 },
 "nbformat": 4,
 "nbformat_minor": 5
}
