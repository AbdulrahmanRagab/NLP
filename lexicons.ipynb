{
 "cells": [
  {
   "cell_type": "code",
   "execution_count": 1,
   "id": "5cb2deff",
   "metadata": {},
   "outputs": [],
   "source": [
    "from nltk.corpus import wordnet"
   ]
  },
  {
   "cell_type": "code",
   "execution_count": 3,
   "id": "bc1a9c07",
   "metadata": {},
   "outputs": [
    {
     "data": {
      "text/plain": [
       "[Synset('plan.n.01'),\n",
       " Synset('program.n.02'),\n",
       " Synset('broadcast.n.02'),\n",
       " Synset('platform.n.02'),\n",
       " Synset('program.n.05'),\n",
       " Synset('course_of_study.n.01'),\n",
       " Synset('program.n.07'),\n",
       " Synset('program.n.08'),\n",
       " Synset('program.v.01'),\n",
       " Synset('program.v.02')]"
      ]
     },
     "execution_count": 3,
     "metadata": {},
     "output_type": "execute_result"
    }
   ],
   "source": [
    "doc = wordnet.synsets(\"program\")\n",
    "doc"
   ]
  },
  {
   "cell_type": "code",
   "execution_count": 4,
   "id": "68ddd296",
   "metadata": {},
   "outputs": [
    {
     "data": {
      "text/plain": [
       "Synset('plan.n.01')"
      ]
     },
     "execution_count": 4,
     "metadata": {},
     "output_type": "execute_result"
    }
   ],
   "source": [
    "doc[0]"
   ]
  },
  {
   "cell_type": "code",
   "execution_count": 6,
   "id": "8012713d",
   "metadata": {},
   "outputs": [
    {
     "data": {
      "text/plain": [
       "'plan.n.01'"
      ]
     },
     "execution_count": 6,
     "metadata": {},
     "output_type": "execute_result"
    }
   ],
   "source": [
    "doc[0].name()"
   ]
  },
  {
   "cell_type": "code",
   "execution_count": 7,
   "id": "56a6532f",
   "metadata": {},
   "outputs": [
    {
     "data": {
      "text/plain": [
       "'a series of steps to be carried out or goals to be accomplished'"
      ]
     },
     "execution_count": 7,
     "metadata": {},
     "output_type": "execute_result"
    }
   ],
   "source": [
    "doc[0].definition()"
   ]
  },
  {
   "cell_type": "code",
   "execution_count": 8,
   "id": "fe5d6fe2",
   "metadata": {},
   "outputs": [
    {
     "data": {
      "text/plain": [
       "['they drew up a six-step plan', 'they discussed plans for a new bond issue']"
      ]
     },
     "execution_count": 8,
     "metadata": {},
     "output_type": "execute_result"
    }
   ],
   "source": [
    "doc[0].examples()"
   ]
  },
  {
   "cell_type": "code",
   "execution_count": 9,
   "id": "2c4403fc",
   "metadata": {},
   "outputs": [
    {
     "data": {
      "text/plain": [
       "[Synset('dog.n.01'),\n",
       " Synset('frump.n.01'),\n",
       " Synset('dog.n.03'),\n",
       " Synset('cad.n.01'),\n",
       " Synset('frank.n.02'),\n",
       " Synset('pawl.n.01'),\n",
       " Synset('andiron.n.01'),\n",
       " Synset('chase.v.01')]"
      ]
     },
     "execution_count": 9,
     "metadata": {},
     "output_type": "execute_result"
    }
   ],
   "source": [
    "wordnet.synsets(\"dog\")"
   ]
  },
  {
   "cell_type": "code",
   "execution_count": 17,
   "id": "c609122b",
   "metadata": {},
   "outputs": [
    {
     "data": {
      "text/plain": [
       "[Synset('plan.n.01'),\n",
       " Synset('program.n.02'),\n",
       " Synset('broadcast.n.02'),\n",
       " Synset('platform.n.02'),\n",
       " Synset('program.n.05'),\n",
       " Synset('course_of_study.n.01'),\n",
       " Synset('program.n.07'),\n",
       " Synset('program.n.08'),\n",
       " Synset('program.v.01'),\n",
       " Synset('program.v.02')]"
      ]
     },
     "execution_count": 17,
     "metadata": {},
     "output_type": "execute_result"
    }
   ],
   "source": [
    "program = wordnet.synsets(\"program\")\n",
    "program"
   ]
  },
  {
   "cell_type": "code",
   "execution_count": 18,
   "id": "64668a59",
   "metadata": {},
   "outputs": [
    {
     "data": {
      "text/plain": [
       "'a series of steps to be carried out or goals to be accomplished'"
      ]
     },
     "execution_count": 18,
     "metadata": {},
     "output_type": "execute_result"
    }
   ],
   "source": [
    "art[0].definition()"
   ]
  },
  {
   "cell_type": "code",
   "execution_count": 22,
   "id": "0ed7175e",
   "metadata": {
    "scrolled": true
   },
   "outputs": [
    {
     "name": "stdout",
     "output_type": "stream",
     "text": [
      "Synset('plan.n.01')\n",
      "a series of steps to be carried out or goals to be accomplished\n",
      "---------------------------------\n",
      "Synset('program.n.02')\n",
      "a system of projects or services intended to meet a public need\n",
      "---------------------------------\n",
      "Synset('broadcast.n.02')\n",
      "a radio or television show\n",
      "---------------------------------\n",
      "Synset('platform.n.02')\n",
      "a document stating the aims and principles of a political party\n",
      "---------------------------------\n",
      "Synset('program.n.05')\n",
      "an announcement of the events that will occur as part of a theatrical or sporting event\n",
      "---------------------------------\n",
      "Synset('course_of_study.n.01')\n",
      "an integrated course of academic studies\n",
      "---------------------------------\n",
      "Synset('program.n.07')\n",
      "(computer science) a sequence of instructions that a computer can interpret and execute\n",
      "---------------------------------\n"
     ]
    }
   ],
   "source": [
    "for i in range(len(wordnet.synsets(\"plan\"))):\n",
    "    print(program[i])\n",
    "    print(program[i].definition())\n",
    "    print(\"---------------------------------\")"
   ]
  },
  {
   "cell_type": "code",
   "execution_count": 25,
   "id": "28370867",
   "metadata": {},
   "outputs": [
    {
     "name": "stdout",
     "output_type": "stream",
     "text": [
      "def the 3rd planet from the sun; the planet we live on\n",
      "ex ['the Earth moves around the sun', 'he sailed around the world']\n",
      "-----------------\n",
      "def the loose soft material that makes up a large part of the land surface\n",
      "ex ['they dug into the earth outside the church']\n",
      "-----------------\n",
      "def the solid part of the earth's surface\n",
      "ex ['the plane turned away from the sea and moved back over land', 'the earth shook for several minutes', 'he dropped the logs on the ground']\n",
      "-----------------\n",
      "def the abode of mortals (as contrasted with Heaven or Hell)\n",
      "ex ['it was hell on earth']\n",
      "-----------------\n",
      "def once thought to be one of four elements composing the universe (Empedocles)\n",
      "ex []\n",
      "-----------------\n",
      "def the concerns of this life as distinguished from heaven and the afterlife\n",
      "ex ['they consider the church to be independent of the world']\n",
      "-----------------\n",
      "def a connection between an electrical device and a large conducting body, such as the earth (which is taken to be at zero voltage)\n",
      "ex []\n",
      "-----------------\n",
      "def hide in the earth like a hunted animal\n",
      "ex []\n",
      "-----------------\n",
      "def connect to the earth\n",
      "ex ['earth the circuit']\n",
      "-----------------\n"
     ]
    }
   ],
   "source": [
    "word = \"earth\"\n",
    "for i in wordnet.synsets(word):\n",
    "    print(\"def\" , i.definition())\n",
    "    print(\"ex\" , i.examples())\n",
    "    print(\"-----------------\")"
   ]
  },
  {
   "cell_type": "code",
   "execution_count": 29,
   "id": "f3f18f75",
   "metadata": {},
   "outputs": [
    {
     "data": {
      "text/plain": [
       "[Synset('aid.n.02'),\n",
       " Synset('assistant.n.01'),\n",
       " Synset('aid.n.01'),\n",
       " Synset('avail.n.01'),\n",
       " Synset('help.v.01'),\n",
       " Synset('help.v.02'),\n",
       " Synset('help.v.03'),\n",
       " Synset('help_oneself.v.01'),\n",
       " Synset('serve.v.05'),\n",
       " Synset('help.v.06'),\n",
       " Synset('avail.v.03'),\n",
       " Synset('help.v.08')]"
      ]
     },
     "execution_count": 29,
     "metadata": {},
     "output_type": "execute_result"
    }
   ],
   "source": [
    "wordnet.synsets(\"help\")"
   ]
  },
  {
   "cell_type": "code",
   "execution_count": 31,
   "id": "33777cca",
   "metadata": {},
   "outputs": [
    {
     "name": "stdout",
     "output_type": "stream",
     "text": [
      "Def is  the activity of contributing to the fulfillment of a need or furtherance of an effort or purpose\n",
      "Ex is  ['he gave me an assist with the housework', 'could not walk without assistance', 'rescue party went to their aid', 'offered his help in unloading']\n",
      "--------------\n",
      "Def is  a person who contributes to the fulfillment of a need or furtherance of an effort or purpose\n",
      "Ex is  ['my invaluable assistant', 'they hired additional help to finish the work']\n",
      "--------------\n",
      "Def is  a resource\n",
      "Ex is  ['visual aids in teaching']\n",
      "--------------\n",
      "Def is  a means of serving\n",
      "Ex is  ['of no avail', \"there's no help for it\"]\n",
      "--------------\n",
      "Def is  give help or assistance; be of service\n",
      "Ex is  ['Everyone helped out during the earthquake', 'Can you help me carry this table?', 'She never helps around the house']\n",
      "--------------\n",
      "Def is  improve the condition of\n",
      "Ex is  ['These pills will help the patient']\n",
      "--------------\n",
      "Def is  be of use\n",
      "Ex is  ['This will help to prevent accidents']\n",
      "--------------\n",
      "Def is  abstain from doing; always used with a negative\n",
      "Ex is  [\"I can't help myself--I have to smoke\", 'She could not help watching the sad spectacle']\n",
      "--------------\n",
      "Def is  help to some food; help with food or drink\n",
      "Ex is  ['I served him three times, and after that he helped himself']\n",
      "--------------\n",
      "Def is  contribute to the furtherance of\n",
      "Ex is  ['This money will help the development of literacy in developing countries']\n",
      "--------------\n",
      "Def is  take or use\n",
      "Ex is  ['She helped herself to some of the office supplies']\n",
      "--------------\n",
      "Def is  improve; change for the better\n",
      "Ex is  ['New slipcovers will help the old living room furniture']\n",
      "--------------\n"
     ]
    }
   ],
   "source": [
    "word = \"help\"\n",
    "for i in wordnet.synsets(word):\n",
    "    print(\"Def is \" , i.definition())\n",
    "    print(\"Ex is \" , i.examples())\n",
    "#     print(\"oppos is \" , i.antonyms())\n",
    "    print(\"--------------\")"
   ]
  },
  {
   "cell_type": "code",
   "execution_count": 34,
   "id": "4ab11b3e",
   "metadata": {},
   "outputs": [
    {
     "name": "stdout",
     "output_type": "stream",
     "text": [
      "{'proficient', 'skilful', 'dependable', 'honest', 'ripe', 'trade_good', 'salutary', 'thoroughly', 'undecomposed', 'good', 'in_force', 'safe', 'adept', 'full', 'just', 'estimable', 'commodity', 'goodness', 'in_effect', 'skillful', 'unspoilt', 'sound', 'effective', 'upright', 'right', 'beneficial', 'respectable', 'unspoiled', 'soundly', 'dear', 'secure', 'honorable', 'serious', 'expert', 'well', 'practiced', 'near'}\n",
      "-------------------\n",
      "{<bound method Lemma.name of Lemma('evil.a.01.evil')>, <bound method Lemma.name of Lemma('evil.n.03.evil')>, <bound method Lemma.name of Lemma('bad.n.01.badness')>, <bound method Lemma.name of Lemma('ill.r.01.ill')>, <bound method Lemma.name of Lemma('bad.a.01.bad')>, <bound method Lemma.name of Lemma('evil.n.03.evilness')>, <bound method Lemma.name of Lemma('bad.n.01.bad')>}\n"
     ]
    }
   ],
   "source": [
    "syno = []\n",
    "anton = []\n",
    "for i in wordnet.synsets(\"good\"):\n",
    "    for lemma in i.lemmas():\n",
    "        syno.append(lemma.name())\n",
    "        if lemma.antonyms():\n",
    "            anton.append(lemma.antonyms()[0].name)\n",
    "print(set(syno))\n",
    "print(\"-------------------\")\n",
    "print(set(anton))"
   ]
  },
  {
   "cell_type": "code",
   "execution_count": 40,
   "id": "4314569f",
   "metadata": {},
   "outputs": [
    {
     "data": {
      "text/plain": [
       "[Synset('good.n.01'),\n",
       " Synset('good.n.02'),\n",
       " Synset('good.n.03'),\n",
       " Synset('commodity.n.01'),\n",
       " Synset('good.a.01'),\n",
       " Synset('full.s.06'),\n",
       " Synset('good.a.03'),\n",
       " Synset('estimable.s.02'),\n",
       " Synset('beneficial.s.01'),\n",
       " Synset('good.s.06'),\n",
       " Synset('good.s.07'),\n",
       " Synset('adept.s.01'),\n",
       " Synset('good.s.09'),\n",
       " Synset('dear.s.02'),\n",
       " Synset('dependable.s.04'),\n",
       " Synset('good.s.12'),\n",
       " Synset('good.s.13'),\n",
       " Synset('effective.s.04'),\n",
       " Synset('good.s.15'),\n",
       " Synset('good.s.16'),\n",
       " Synset('good.s.17'),\n",
       " Synset('good.s.18'),\n",
       " Synset('good.s.19'),\n",
       " Synset('good.s.20'),\n",
       " Synset('good.s.21'),\n",
       " Synset('well.r.01'),\n",
       " Synset('thoroughly.r.02')]"
      ]
     },
     "execution_count": 40,
     "metadata": {},
     "output_type": "execute_result"
    }
   ],
   "source": [
    "good = wordnet.synsets(\"good\")\n",
    "good"
   ]
  },
  {
   "cell_type": "code",
   "execution_count": 43,
   "id": "bce990cb",
   "metadata": {},
   "outputs": [
    {
     "ename": "AttributeError",
     "evalue": "'Synset' object has no attribute 'antonyms'",
     "output_type": "error",
     "traceback": [
      "\u001b[1;31m---------------------------------------------------------------------------\u001b[0m",
      "\u001b[1;31mAttributeError\u001b[0m                            Traceback (most recent call last)",
      "Input \u001b[1;32mIn [43]\u001b[0m, in \u001b[0;36m<cell line: 1>\u001b[1;34m()\u001b[0m\n\u001b[1;32m----> 1\u001b[0m \u001b[43mgood\u001b[49m\u001b[43m[\u001b[49m\u001b[38;5;241;43m0\u001b[39;49m\u001b[43m]\u001b[49m\u001b[38;5;241;43m.\u001b[39;49m\u001b[43mantonyms\u001b[49m()\n",
      "\u001b[1;31mAttributeError\u001b[0m: 'Synset' object has no attribute 'antonyms'"
     ]
    }
   ],
   "source": [
    "good[0].antonyms()"
   ]
  },
  {
   "cell_type": "code",
   "execution_count": 44,
   "id": "40cc529a",
   "metadata": {},
   "outputs": [],
   "source": [
    "from nltk.tokenize import word_tokenize"
   ]
  },
  {
   "cell_type": "code",
   "execution_count": 59,
   "id": "256fa13d",
   "metadata": {},
   "outputs": [
    {
     "name": "stdout",
     "output_type": "stream",
     "text": [
      "word is :  i\n",
      "{'i', 'one', 'single', 'I', '1', 'ace', 'unity', 'iodin', 'ane', 'iodine', 'atomic_number_53'}\n",
      "-----------------------------------------------\n",
      "word is :  need\n",
      "{'postulate', 'penury', 'necessitate', 'need', 'pauperization', 'motive', 'pauperism', 'require', 'indigence', 'ask', 'demand', 'call_for', 'want', 'motivation', 'take', 'involve'}\n",
      "-----------------------------------------------\n",
      "word is :  to\n",
      "set()\n",
      "-----------------------------------------------\n",
      "word is :  go\n",
      "{'hold_out', 'operate', 'perish', 'become', 'expire', 'fling', 'decease', 'choke', 'run', 'move', 'go', 'give_way', 'give_out', 'turn', 'kick_the_bucket', 'work', 'disco_biscuit', 'break', 'get', 'spell', 'live_on', 'conk_out', 'pass', 'travel', 'give-up_the_ghost', 'snuff_it', \"cash_in_one's_chips\", 'get_going', 'tour', 'whirl', 'live', 'exit', 'pop_off', 'croak', 'sound', 'die', 'go_bad', 'Adam', 'fit', 'pass_away', 'lead', 'rifle', 'extend', 'break_down', 'depart', 'function', 'last', 'plump', 'blend_in', 'offer', 'run_short', 'proceed', 'buy_the_farm', 'locomote', 'X', 'XTC', 'start', 'ecstasy', 'run_low', 'go_game', 'endure', 'hold_up', 'cristal', 'conk', 'hug_drug', 'survive', 'belong', 'go_away', 'blend', 'fail', 'drop_dead', 'crack'}\n",
      "-----------------------------------------------\n",
      "word is :  right\n",
      "{'rectify', 'right_field', 'ripe', 'good', 'decent', 'justly', 'properly', 'aright', 'mightily', 'correct', 'proper', 'in_good_order', 'redress', 'right-hand', 'flop', 'right_on', 'the_right_way', 'rightfield', 'right_wing', 'decently', 'right', 'mighty', 'powerful', 'veracious', 'rightfulness', 'compensate', 'correctly', 'right_hand'}\n",
      "-----------------------------------------------\n",
      "word is :  now\n",
      "{'immediately', 'directly', 'like_a_shot', 'nowadays', 'today', 'at_present', 'instantly', 'right_away', 'at_once', 'now', 'straightaway', 'forthwith', 'straight_off'}\n",
      "-----------------------------------------------\n",
      "word is :  to\n",
      "set()\n",
      "-----------------------------------------------\n",
      "word is :  my\n",
      "set()\n",
      "-----------------------------------------------\n",
      "word is :  friend\n",
      "{'supporter', 'booster', 'friend', 'protagonist', 'Friend', 'acquaintance', 'ally', 'Quaker', 'admirer', 'champion'}\n",
      "-----------------------------------------------\n",
      "word is :  Hasan\n",
      "set()\n",
      "-----------------------------------------------\n"
     ]
    }
   ],
   "source": [
    "text = \"i need to go right now to my friend Hasan\"\n",
    "for word in word_tokenize(text):\n",
    "    syn = []\n",
    "    for i in wordnet.synsets(word):\n",
    "        for lemma in i.lemmas():\n",
    "            syn.append(lemma.name())\n",
    "    print(\"word is : \", word)\n",
    "    print(set(syn))\n",
    "    print('-----------------------------------------------')"
   ]
  },
  {
   "cell_type": "code",
   "execution_count": 60,
   "id": "05f299f3",
   "metadata": {},
   "outputs": [],
   "source": [
    "word1 = \"lion\"\n",
    "word2 = \"tiger\""
   ]
  },
  {
   "cell_type": "code",
   "execution_count": 66,
   "id": "d8c01ef5",
   "metadata": {},
   "outputs": [
    {
     "name": "stdout",
     "output_type": "stream",
     "text": [
      "[Synset('lion.n.01'), Synset('lion.n.02'), Synset('leo.n.01'), Synset('leo.n.03')]\n",
      "[Synset('tiger.n.01'), Synset('tiger.n.02')]\n"
     ]
    }
   ],
   "source": [
    "w1 = wordnet.synsets(word1)\n",
    "print(w1)\n",
    "w2 = wordnet.synsets(word2)\n",
    "print(w2)"
   ]
  },
  {
   "cell_type": "code",
   "execution_count": 68,
   "id": "99f0ed80",
   "metadata": {},
   "outputs": [
    {
     "name": "stdout",
     "output_type": "stream",
     "text": [
      "lion.n.01 and tiger.n.01\n"
     ]
    }
   ],
   "source": [
    "print(w1[0].name() , \"and\" , w2[0].name() ,\"and\" , si)"
   ]
  },
  {
   "cell_type": "code",
   "execution_count": 3,
   "id": "8f5c48b5",
   "metadata": {},
   "outputs": [
    {
     "data": {
      "text/plain": [
       "[Synset('trial.n.02'),\n",
       " Synset('test.n.02'),\n",
       " Synset('examination.n.02'),\n",
       " Synset('test.n.04'),\n",
       " Synset('test.n.05'),\n",
       " Synset('test.n.06'),\n",
       " Synset('test.v.01'),\n",
       " Synset('screen.v.01'),\n",
       " Synset('quiz.v.01'),\n",
       " Synset('test.v.04'),\n",
       " Synset('test.v.05'),\n",
       " Synset('test.v.06'),\n",
       " Synset('test.v.07')]"
      ]
     },
     "execution_count": 3,
     "metadata": {},
     "output_type": "execute_result"
    }
   ],
   "source": [
    "wordnet.synsets(\"test\")"
   ]
  },
  {
   "cell_type": "code",
   "execution_count": 6,
   "id": "8e632ce1",
   "metadata": {},
   "outputs": [
    {
     "data": {
      "text/plain": [
       "[Synset('trial.n.02'),\n",
       " Synset('test.n.02'),\n",
       " Synset('examination.n.02'),\n",
       " Synset('test.n.04'),\n",
       " Synset('test.n.05'),\n",
       " Synset('test.n.06'),\n",
       " Synset('test.v.01'),\n",
       " Synset('screen.v.01'),\n",
       " Synset('quiz.v.01'),\n",
       " Synset('test.v.04'),\n",
       " Synset('test.v.05'),\n",
       " Synset('test.v.06'),\n",
       " Synset('test.v.07')]"
      ]
     },
     "execution_count": 6,
     "metadata": {},
     "output_type": "execute_result"
    }
   ],
   "source": [
    "doc = wordnet.synsets(\"test\")\n",
    "doc"
   ]
  },
  {
   "cell_type": "code",
   "execution_count": 7,
   "id": "4637722f",
   "metadata": {},
   "outputs": [
    {
     "data": {
      "text/plain": [
       "'trying something to find out about it'"
      ]
     },
     "execution_count": 7,
     "metadata": {},
     "output_type": "execute_result"
    }
   ],
   "source": [
    "doc[0].definition()"
   ]
  },
  {
   "cell_type": "code",
   "execution_count": 8,
   "id": "fb31fa63",
   "metadata": {},
   "outputs": [
    {
     "data": {
      "text/plain": [
       "['a sample for ten days free trial',\n",
       " 'a trial of progesterone failed to relieve the pain']"
      ]
     },
     "execution_count": 8,
     "metadata": {},
     "output_type": "execute_result"
    }
   ],
   "source": [
    "doc[0].examples()"
   ]
  },
  {
   "cell_type": "code",
   "execution_count": 11,
   "id": "33554835",
   "metadata": {},
   "outputs": [
    {
     "name": "stdout",
     "output_type": "stream",
     "text": [
      "def a series of steps to be carried out or goals to be accomplished\n",
      "ex  ['they drew up a six-step plan', 'they discussed plans for a new bond issue']\n",
      "------------------------------\n",
      "def a system of projects or services intended to meet a public need\n",
      "ex  ['he proposed an elaborate program of public works', 'working mothers rely on the day care program']\n",
      "------------------------------\n",
      "def a radio or television show\n",
      "ex  ['did you see his program last night?']\n",
      "------------------------------\n",
      "def a document stating the aims and principles of a political party\n",
      "ex  ['their candidate simply ignored the party platform', 'they won the election even though they offered no positive program']\n",
      "------------------------------\n",
      "def an announcement of the events that will occur as part of a theatrical or sporting event\n",
      "ex  [\"you can't tell the players without a program\"]\n",
      "------------------------------\n",
      "def an integrated course of academic studies\n",
      "ex  ['he was admitted to a new program at the university']\n",
      "------------------------------\n",
      "def (computer science) a sequence of instructions that a computer can interpret and execute\n",
      "ex  ['the program required several hundred lines of code']\n",
      "------------------------------\n",
      "def a performance (or series of performances) at a public presentation\n",
      "ex  ['the program lasted more than two hours']\n",
      "------------------------------\n",
      "def arrange a program of or for\n",
      "ex  ['program the 80th birthday party']\n",
      "------------------------------\n",
      "def write a computer program\n",
      "ex  []\n",
      "------------------------------\n"
     ]
    }
   ],
   "source": [
    "doc = \"program\"\n",
    "for i in wordnet.synsets(doc):\n",
    "    print(\"def\" , i.definition())\n",
    "    print(\"ex \" , i.examples())\n",
    "    print(\"------------------------------\")"
   ]
  },
  {
   "cell_type": "code",
   "execution_count": 13,
   "id": "d9c355e9",
   "metadata": {},
   "outputs": [
    {
     "name": "stdout",
     "output_type": "stream",
     "text": [
      "['plan', 'program', 'programme', 'program', 'programme', 'broadcast', 'program', 'programme', 'platform', 'political_platform', 'political_program', 'program', 'program', 'programme', 'course_of_study', 'program', 'programme', 'curriculum', 'syllabus', 'program', 'programme', 'computer_program', 'computer_programme', 'program', 'programme', 'program', 'programme', 'program', 'programme']\n"
     ]
    }
   ],
   "source": [
    "syno = []\n",
    "for i in wordnet.synsets(\"program\"):\n",
    "    for lemma in i.lemmas():\n",
    "        syno.append(lemma.name())\n",
    "print(syno)"
   ]
  },
  {
   "cell_type": "code",
   "execution_count": 14,
   "id": "f7105564",
   "metadata": {},
   "outputs": [],
   "source": [
    "from nltk.tokenize import word_tokenize"
   ]
  },
  {
   "cell_type": "code",
   "execution_count": 15,
   "id": "f0fc2dd4",
   "metadata": {},
   "outputs": [],
   "source": [
    "text = \"i need to go rirht now to my friend hassan\""
   ]
  },
  {
   "cell_type": "code",
   "execution_count": 17,
   "id": "8121dbab",
   "metadata": {},
   "outputs": [
    {
     "name": "stdout",
     "output_type": "stream",
     "text": [
      "the word is :  i\n",
      "{'ane', 'i', 'one', 'single', '1', 'ace', 'I', 'unity', 'iodine', 'iodin', 'atomic_number_53'}\n",
      "the word is :  need\n",
      "{'call_for', 'penury', 'pauperism', 'involve', 'motive', 'pauperization', 'want', 'postulate', 'demand', 'necessitate', 'take', 'need', 'require', 'indigence', 'motivation', 'ask'}\n",
      "the word is :  to\n",
      "set()\n",
      "the word is :  go\n",
      "{'live', 'turn', 'run', \"cash_in_one's_chips\", 'go_game', 'buy_the_farm', 'go_away', 'X', 'get_going', 'get', 'break', 'survive', 'become', 'give_way', 'travel', 'live_on', 'drop_dead', 'whirl', 'endure', 'decease', 'snuff_it', 'sound', 'belong', 'start', 'blend_in', 'perish', 'choke', 'blend', 'tour', 'go', 'kick_the_bucket', 'fit', 'go_bad', 'pop_off', 'hug_drug', 'offer', 'conk', 'conk_out', 'fail', 'exit', 'plump', 'spell', 'locomote', 'crack', 'give-up_the_ghost', 'hold_up', 'pass', 'Adam', 'cristal', 'proceed', 'pass_away', 'give_out', 'fling', 'work', 'function', 'rifle', 'run_short', 'last', 'operate', 'croak', 'break_down', 'move', 'ecstasy', 'run_low', 'XTC', 'expire', 'hold_out', 'lead', 'depart', 'die', 'disco_biscuit', 'extend'}\n",
      "the word is :  rirht\n",
      "set()\n",
      "the word is :  now\n",
      "{'like_a_shot', 'at_present', 'instantly', 'straightaway', 'immediately', 'at_once', 'straight_off', 'right_away', 'today', 'directly', 'nowadays', 'forthwith', 'now'}\n",
      "the word is :  to\n",
      "set()\n",
      "the word is :  my\n",
      "set()\n",
      "the word is :  friend\n",
      "{'champion', 'friend', 'ally', 'booster', 'Quaker', 'protagonist', 'Friend', 'supporter', 'acquaintance', 'admirer'}\n",
      "the word is :  hassan\n",
      "set()\n"
     ]
    }
   ],
   "source": [
    "for word in word_tokenize(text):\n",
    "    syno = []\n",
    "    for i in wordnet.synsets(word):\n",
    "        for lemma in i.lemmas():\n",
    "            syno.append(lemma.name())\n",
    "    print(\"the word is : \" , word)\n",
    "    print(set(syno))"
   ]
  },
  {
   "cell_type": "code",
   "execution_count": 19,
   "id": "390f49c9",
   "metadata": {},
   "outputs": [],
   "source": [
    "word1 = \"lion\"\n",
    "word2 = \"tiger\""
   ]
  },
  {
   "cell_type": "code",
   "execution_count": 21,
   "id": "265f0344",
   "metadata": {},
   "outputs": [
    {
     "name": "stdout",
     "output_type": "stream",
     "text": [
      "[Synset('lion.n.01'), Synset('lion.n.02'), Synset('leo.n.01'), Synset('leo.n.03')]\n",
      "[Synset('tiger.n.01'), Synset('tiger.n.02')]\n"
     ]
    }
   ],
   "source": [
    "w1 = wordnet.synsets(word1)\n",
    "print(w1)\n",
    "w2 = wordnet.synsets(word2)\n",
    "print(w2)"
   ]
  },
  {
   "cell_type": "code",
   "execution_count": 24,
   "id": "94d69707",
   "metadata": {},
   "outputs": [
    {
     "data": {
      "text/plain": [
       "0.5217391304347826"
      ]
     },
     "execution_count": 24,
     "metadata": {},
     "output_type": "execute_result"
    }
   ],
   "source": [
    "w1[0].wup_similarity(w2[0])"
   ]
  },
  {
   "cell_type": "code",
   "execution_count": 33,
   "id": "726dee9f",
   "metadata": {},
   "outputs": [
    {
     "name": "stdout",
     "output_type": "stream",
     "text": [
      "iodine.n.01 and iodine.n.01 simi 1.0\n",
      "----------------------------------\n",
      "iodine.n.01 and need.n.01 simi 0.36363636363636365\n",
      "----------------------------------\n",
      "iodine.n.01 and go.n.01 simi 0.2857142857142857\n",
      "----------------------------------\n",
      "iodine.n.01 and now.n.01 simi 0.36363636363636365\n",
      "----------------------------------\n",
      "iodine.n.01 and friend.n.01 simi 0.36363636363636365\n",
      "----------------------------------\n",
      "need.n.01 and iodine.n.01 simi 0.36363636363636365\n",
      "----------------------------------\n",
      "need.n.01 and need.n.01 simi 1.0\n",
      "----------------------------------\n",
      "need.n.01 and go.n.01 simi 0.26666666666666666\n",
      "----------------------------------\n",
      "need.n.01 and now.n.01 simi 0.5\n",
      "----------------------------------\n",
      "need.n.01 and friend.n.01 simi 0.18181818181818182\n",
      "----------------------------------\n",
      "go.n.01 and iodine.n.01 simi 0.2857142857142857\n",
      "----------------------------------\n",
      "go.n.01 and need.n.01 simi 0.26666666666666666\n",
      "----------------------------------\n",
      "go.n.01 and go.n.01 simi 1.0\n",
      "----------------------------------\n",
      "go.n.01 and now.n.01 simi 0.26666666666666666\n",
      "----------------------------------\n",
      "go.n.01 and friend.n.01 simi 0.14285714285714285\n",
      "----------------------------------\n",
      "now.n.01 and iodine.n.01 simi 0.36363636363636365\n",
      "----------------------------------\n",
      "now.n.01 and need.n.01 simi 0.5\n",
      "----------------------------------\n",
      "now.n.01 and go.n.01 simi 0.26666666666666666\n",
      "----------------------------------\n",
      "now.n.01 and now.n.01 simi 1.0\n",
      "----------------------------------\n",
      "now.n.01 and friend.n.01 simi 0.18181818181818182\n",
      "----------------------------------\n",
      "friend.n.01 and iodine.n.01 simi 0.36363636363636365\n",
      "----------------------------------\n",
      "friend.n.01 and need.n.01 simi 0.18181818181818182\n",
      "----------------------------------\n",
      "friend.n.01 and go.n.01 simi 0.14285714285714285\n",
      "----------------------------------\n",
      "friend.n.01 and now.n.01 simi 0.18181818181818182\n",
      "----------------------------------\n",
      "friend.n.01 and friend.n.01 simi 0.75\n",
      "----------------------------------\n"
     ]
    }
   ],
   "source": [
    "for word1 in word_tokenize(text):\n",
    "    for word2 in word_tokenize(text):\n",
    "        if len(wordnet.synsets(word1)) > 0 and len(wordnet.synsets(word2)) > 0:\n",
    "            w1 = wordnet.synset(wordnet.synsets(word1)[0].name())\n",
    "            w2 = wordnet.synset(wordnet.synsets(word2)[0].name())\n",
    "            print(wordnet.synsets(word1)[0].name() , \"and\" , wordnet.synsets(word2)[0].name(),\"simi\",w1.wup_similarity(w2))\n",
    "            print(\"----------------------------------\")\n",
    "    "
   ]
  },
  {
   "cell_type": "code",
   "execution_count": null,
   "id": "eeacf334",
   "metadata": {},
   "outputs": [],
   "source": []
  }
 ],
 "metadata": {
  "kernelspec": {
   "display_name": "Python 3 (ipykernel)",
   "language": "python",
   "name": "python3"
  },
  "language_info": {
   "codemirror_mode": {
    "name": "ipython",
    "version": 3
   },
   "file_extension": ".py",
   "mimetype": "text/x-python",
   "name": "python",
   "nbconvert_exporter": "python",
   "pygments_lexer": "ipython3",
   "version": "3.9.12"
  }
 },
 "nbformat": 4,
 "nbformat_minor": 5
}
