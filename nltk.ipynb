{
 "cells": [
  {
   "cell_type": "code",
   "execution_count": 11,
   "id": "5fda799e",
   "metadata": {},
   "outputs": [],
   "source": [
    "import string"
   ]
  },
  {
   "cell_type": "code",
   "execution_count": 12,
   "id": "88cd9cd9",
   "metadata": {},
   "outputs": [],
   "source": [
    "punc = string.punctuation"
   ]
  },
  {
   "cell_type": "code",
   "execution_count": 13,
   "id": "b84b5f9f",
   "metadata": {},
   "outputs": [],
   "source": [
    "text='Hello!!!, I love NLP, will use python in our code.'"
   ]
  },
  {
   "cell_type": "code",
   "execution_count": 14,
   "id": "78c639da",
   "metadata": {},
   "outputs": [
    {
     "name": "stdout",
     "output_type": "stream",
     "text": [
      "Hello I love NLP will use python in our code\n"
     ]
    }
   ],
   "source": [
    "non_punc = \"\"\n",
    "for char in text:\n",
    "    if char not in punc:\n",
    "        non_punc = non_punc + char\n",
    "print(non_punc)"
   ]
  },
  {
   "cell_type": "code",
   "execution_count": 15,
   "id": "3e4b3794",
   "metadata": {},
   "outputs": [],
   "source": [
    "from nltk.tokenize import word_tokenize"
   ]
  },
  {
   "cell_type": "code",
   "execution_count": 16,
   "id": "380c9bb0",
   "metadata": {},
   "outputs": [],
   "source": [
    "doc = \"i've been playing football everyday! and i love coding!\""
   ]
  },
  {
   "cell_type": "code",
   "execution_count": 17,
   "id": "aa4d4d4a",
   "metadata": {},
   "outputs": [],
   "source": [
    "token = word_tokenize(doc)"
   ]
  },
  {
   "cell_type": "code",
   "execution_count": 18,
   "id": "d0225799",
   "metadata": {},
   "outputs": [
    {
     "data": {
      "text/plain": [
       "['i',\n",
       " \"'ve\",\n",
       " 'been',\n",
       " 'playing',\n",
       " 'football',\n",
       " 'everyday',\n",
       " '!',\n",
       " 'and',\n",
       " 'i',\n",
       " 'love',\n",
       " 'coding',\n",
       " '!']"
      ]
     },
     "execution_count": 18,
     "metadata": {},
     "output_type": "execute_result"
    }
   ],
   "source": [
    "token"
   ]
  },
  {
   "cell_type": "code",
   "execution_count": 19,
   "id": "038c1589",
   "metadata": {},
   "outputs": [],
   "source": [
    "import nltk\n",
    "from nltk.corpus import stopwords"
   ]
  },
  {
   "cell_type": "code",
   "execution_count": 20,
   "id": "15e38226",
   "metadata": {},
   "outputs": [
    {
     "data": {
      "text/plain": [
       "['i',\n",
       " 'me',\n",
       " 'my',\n",
       " 'myself',\n",
       " 'we',\n",
       " 'our',\n",
       " 'ours',\n",
       " 'ourselves',\n",
       " 'you',\n",
       " \"you're\",\n",
       " \"you've\",\n",
       " \"you'll\",\n",
       " \"you'd\",\n",
       " 'your',\n",
       " 'yours',\n",
       " 'yourself',\n",
       " 'yourselves',\n",
       " 'he',\n",
       " 'him',\n",
       " 'his',\n",
       " 'himself',\n",
       " 'she',\n",
       " \"she's\",\n",
       " 'her',\n",
       " 'hers',\n",
       " 'herself',\n",
       " 'it',\n",
       " \"it's\",\n",
       " 'its',\n",
       " 'itself',\n",
       " 'they',\n",
       " 'them',\n",
       " 'their',\n",
       " 'theirs',\n",
       " 'themselves',\n",
       " 'what',\n",
       " 'which',\n",
       " 'who',\n",
       " 'whom',\n",
       " 'this',\n",
       " 'that',\n",
       " \"that'll\",\n",
       " 'these',\n",
       " 'those',\n",
       " 'am',\n",
       " 'is',\n",
       " 'are',\n",
       " 'was',\n",
       " 'were',\n",
       " 'be',\n",
       " 'been',\n",
       " 'being',\n",
       " 'have',\n",
       " 'has',\n",
       " 'had',\n",
       " 'having',\n",
       " 'do',\n",
       " 'does',\n",
       " 'did',\n",
       " 'doing',\n",
       " 'a',\n",
       " 'an',\n",
       " 'the',\n",
       " 'and',\n",
       " 'but',\n",
       " 'if',\n",
       " 'or',\n",
       " 'because',\n",
       " 'as',\n",
       " 'until',\n",
       " 'while',\n",
       " 'of',\n",
       " 'at',\n",
       " 'by',\n",
       " 'for',\n",
       " 'with',\n",
       " 'about',\n",
       " 'against',\n",
       " 'between',\n",
       " 'into',\n",
       " 'through',\n",
       " 'during',\n",
       " 'before',\n",
       " 'after',\n",
       " 'above',\n",
       " 'below',\n",
       " 'to',\n",
       " 'from',\n",
       " 'up',\n",
       " 'down',\n",
       " 'in',\n",
       " 'out',\n",
       " 'on',\n",
       " 'off',\n",
       " 'over',\n",
       " 'under',\n",
       " 'again',\n",
       " 'further',\n",
       " 'then',\n",
       " 'once',\n",
       " 'here',\n",
       " 'there',\n",
       " 'when',\n",
       " 'where',\n",
       " 'why',\n",
       " 'how',\n",
       " 'all',\n",
       " 'any',\n",
       " 'both',\n",
       " 'each',\n",
       " 'few',\n",
       " 'more',\n",
       " 'most',\n",
       " 'other',\n",
       " 'some',\n",
       " 'such',\n",
       " 'no',\n",
       " 'nor',\n",
       " 'not',\n",
       " 'only',\n",
       " 'own',\n",
       " 'same',\n",
       " 'so',\n",
       " 'than',\n",
       " 'too',\n",
       " 'very',\n",
       " 's',\n",
       " 't',\n",
       " 'can',\n",
       " 'will',\n",
       " 'just',\n",
       " 'don',\n",
       " \"don't\",\n",
       " 'should',\n",
       " \"should've\",\n",
       " 'now',\n",
       " 'd',\n",
       " 'll',\n",
       " 'm',\n",
       " 'o',\n",
       " 're',\n",
       " 've',\n",
       " 'y',\n",
       " 'ain',\n",
       " 'aren',\n",
       " \"aren't\",\n",
       " 'couldn',\n",
       " \"couldn't\",\n",
       " 'didn',\n",
       " \"didn't\",\n",
       " 'doesn',\n",
       " \"doesn't\",\n",
       " 'hadn',\n",
       " \"hadn't\",\n",
       " 'hasn',\n",
       " \"hasn't\",\n",
       " 'haven',\n",
       " \"haven't\",\n",
       " 'isn',\n",
       " \"isn't\",\n",
       " 'ma',\n",
       " 'mightn',\n",
       " \"mightn't\",\n",
       " 'mustn',\n",
       " \"mustn't\",\n",
       " 'needn',\n",
       " \"needn't\",\n",
       " 'shan',\n",
       " \"shan't\",\n",
       " 'shouldn',\n",
       " \"shouldn't\",\n",
       " 'wasn',\n",
       " \"wasn't\",\n",
       " 'weren',\n",
       " \"weren't\",\n",
       " 'won',\n",
       " \"won't\",\n",
       " 'wouldn',\n",
       " \"wouldn't\"]"
      ]
     },
     "execution_count": 20,
     "metadata": {},
     "output_type": "execute_result"
    }
   ],
   "source": [
    "stop_words = nltk.corpus.stopwords.words('english')\n",
    "stop_words"
   ]
  },
  {
   "cell_type": "code",
   "execution_count": 21,
   "id": "141ee0e5",
   "metadata": {},
   "outputs": [
    {
     "name": "stdout",
     "output_type": "stream",
     "text": [
      " 've playing football everyday ! love coding !\n"
     ]
    }
   ],
   "source": [
    "text = \"\"\n",
    "for word in token:\n",
    "    if word not in stop_words:\n",
    "        text = text + \" \" + word\n",
    "print(text)"
   ]
  },
  {
   "cell_type": "code",
   "execution_count": 22,
   "id": "cbc48c5b",
   "metadata": {},
   "outputs": [],
   "source": [
    "# from nltk import stem"
   ]
  },
  {
   "cell_type": "code",
   "execution_count": 23,
   "id": "d290a78a",
   "metadata": {},
   "outputs": [],
   "source": [
    "ps = nltk.PorterStemmer()"
   ]
  },
  {
   "cell_type": "code",
   "execution_count": 24,
   "id": "758e27fc",
   "metadata": {},
   "outputs": [
    {
     "data": {
      "text/plain": [
       "'play'"
      ]
     },
     "execution_count": 24,
     "metadata": {},
     "output_type": "execute_result"
    }
   ],
   "source": [
    "ps.stem(\"playing\")"
   ]
  },
  {
   "cell_type": "code",
   "execution_count": 25,
   "id": "d14ced1b",
   "metadata": {},
   "outputs": [],
   "source": [
    "from nltk.tokenize import word_tokenize"
   ]
  },
  {
   "cell_type": "code",
   "execution_count": 26,
   "id": "e0fd26cf",
   "metadata": {},
   "outputs": [],
   "source": [
    "doc1 = \"we love football\""
   ]
  },
  {
   "cell_type": "code",
   "execution_count": 27,
   "id": "c15f6155",
   "metadata": {},
   "outputs": [
    {
     "data": {
      "text/plain": [
       "['i',\n",
       " \"'ve\",\n",
       " 'been',\n",
       " 'playing',\n",
       " 'football',\n",
       " 'everyday',\n",
       " '!',\n",
       " 'and',\n",
       " 'i',\n",
       " 'love',\n",
       " 'coding',\n",
       " '!']"
      ]
     },
     "execution_count": 27,
     "metadata": {},
     "output_type": "execute_result"
    }
   ],
   "source": [
    "tokens = word_tokenize(doc)\n",
    "tokens"
   ]
  },
  {
   "cell_type": "code",
   "execution_count": 32,
   "id": "68992f49",
   "metadata": {},
   "outputs": [],
   "source": [
    "import nltk\n",
    "from nltk.stem.porter import  *\n",
    "from nltk.stem import WordNetLemmatizer"
   ]
  },
  {
   "cell_type": "code",
   "execution_count": 29,
   "id": "de79ee14",
   "metadata": {},
   "outputs": [],
   "source": [
    "porter = PorterStemmer()"
   ]
  },
  {
   "cell_type": "code",
   "execution_count": 31,
   "id": "7c7a4ace",
   "metadata": {},
   "outputs": [
    {
     "name": "stdout",
     "output_type": "stream",
     "text": [
      "i i\n",
      "'ve 've\n",
      "been been\n",
      "playing play\n",
      "football footbal\n",
      "everyday everyday\n",
      "! !\n",
      "and and\n",
      "i i\n",
      "love love\n",
      "coding code\n",
      "! !\n"
     ]
    }
   ],
   "source": [
    "for word in tokens:\n",
    "    print(f\"{word} {porter.stem(word)}\")"
   ]
  },
  {
   "cell_type": "code",
   "execution_count": 50,
   "id": "d9f1a3ca",
   "metadata": {},
   "outputs": [],
   "source": [
    "lemma_nltk = WordNetLemmatizer()"
   ]
  },
  {
   "cell_type": "code",
   "execution_count": 37,
   "id": "b10ce90f",
   "metadata": {},
   "outputs": [
    {
     "data": {
      "text/plain": [
       "'playing'"
      ]
     },
     "execution_count": 37,
     "metadata": {},
     "output_type": "execute_result"
    }
   ],
   "source": [
    "lemma.lemmatize(\"playing\")"
   ]
  },
  {
   "cell_type": "code",
   "execution_count": 38,
   "id": "aa1721a3",
   "metadata": {},
   "outputs": [
    {
     "data": {
      "text/plain": [
       "'play'"
      ]
     },
     "execution_count": 38,
     "metadata": {},
     "output_type": "execute_result"
    }
   ],
   "source": [
    "lemma.lemmatize(\"plays\")"
   ]
  },
  {
   "cell_type": "code",
   "execution_count": 46,
   "id": "dcba08f6",
   "metadata": {},
   "outputs": [
    {
     "data": {
      "text/plain": [
       "'wa'"
      ]
     },
     "execution_count": 46,
     "metadata": {},
     "output_type": "execute_result"
    }
   ],
   "source": [
    "lemma.lemmatize(\"was\")"
   ]
  },
  {
   "cell_type": "code",
   "execution_count": 42,
   "id": "94da6cc0",
   "metadata": {},
   "outputs": [
    {
     "data": {
      "text/plain": [
       "'play'"
      ]
     },
     "execution_count": 42,
     "metadata": {},
     "output_type": "execute_result"
    }
   ],
   "source": [
    "porter.stem(\"playing\")"
   ]
  },
  {
   "cell_type": "code",
   "execution_count": 45,
   "id": "1c155fb4",
   "metadata": {},
   "outputs": [
    {
     "data": {
      "text/plain": [
       "'wa'"
      ]
     },
     "execution_count": 45,
     "metadata": {},
     "output_type": "execute_result"
    }
   ],
   "source": [
    "porter.stem(\"was\")"
   ]
  },
  {
   "cell_type": "code",
   "execution_count": 34,
   "id": "5b9c4b25",
   "metadata": {},
   "outputs": [
    {
     "name": "stdout",
     "output_type": "stream",
     "text": [
      "i  =  i\n",
      "'ve  =  've\n",
      "been  =  been\n",
      "playing  =  playing\n",
      "football  =  football\n",
      "everyday  =  everyday\n",
      "!  =  !\n",
      "and  =  and\n",
      "i  =  i\n",
      "love  =  love\n",
      "coding  =  coding\n",
      "!  =  !\n"
     ]
    }
   ],
   "source": [
    "for word in tokens:\n",
    "    print(word ,\" = \" , lemma.lemmatize(word) )"
   ]
  },
  {
   "cell_type": "code",
   "execution_count": 47,
   "id": "f1b70181",
   "metadata": {},
   "outputs": [],
   "source": [
    "import spacy"
   ]
  },
  {
   "cell_type": "code",
   "execution_count": 48,
   "id": "b32400cc",
   "metadata": {},
   "outputs": [],
   "source": [
    "nlp = spacy.load(\"en_core_web_sm\")"
   ]
  },
  {
   "cell_type": "code",
   "execution_count": 55,
   "id": "7d7b4409",
   "metadata": {},
   "outputs": [],
   "source": [
    "doc = nlp(\"i ate kake and played wee\")"
   ]
  },
  {
   "cell_type": "code",
   "execution_count": 57,
   "id": "47896e7b",
   "metadata": {},
   "outputs": [
    {
     "name": "stdout",
     "output_type": "stream",
     "text": [
      "i     I\n",
      "ate     eat\n",
      "kake     kake\n",
      "and     and\n",
      "played     play\n",
      "wee     wee\n"
     ]
    }
   ],
   "source": [
    "for i in doc:\n",
    "    print(i.text , \"   \" , i.lemma_)"
   ]
  },
  {
   "cell_type": "code",
   "execution_count": 62,
   "id": "8fb4c625",
   "metadata": {},
   "outputs": [],
   "source": [
    "def sh_lemma(text):\n",
    "    for token in text:\n",
    "        print(token.text , \"   \" , token.lemma_)"
   ]
  },
  {
   "cell_type": "code",
   "execution_count": 63,
   "id": "4f92a025",
   "metadata": {},
   "outputs": [],
   "source": [
    "text = nlp(\"i played\")"
   ]
  },
  {
   "cell_type": "code",
   "execution_count": 64,
   "id": "0a138dec",
   "metadata": {},
   "outputs": [
    {
     "name": "stdout",
     "output_type": "stream",
     "text": [
      "i     I\n",
      "played     play\n"
     ]
    }
   ],
   "source": [
    "sh_lemma(text)"
   ]
  },
  {
   "cell_type": "code",
   "execution_count": null,
   "id": "99f85a23",
   "metadata": {},
   "outputs": [],
   "source": []
  }
 ],
 "metadata": {
  "kernelspec": {
   "display_name": "Python 3 (ipykernel)",
   "language": "python",
   "name": "python3"
  },
  "language_info": {
   "codemirror_mode": {
    "name": "ipython",
    "version": 3
   },
   "file_extension": ".py",
   "mimetype": "text/x-python",
   "name": "python",
   "nbconvert_exporter": "python",
   "pygments_lexer": "ipython3",
   "version": "3.9.12"
  }
 },
 "nbformat": 4,
 "nbformat_minor": 5
}
