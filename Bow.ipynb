{
 "cells": [
  {
   "cell_type": "code",
   "execution_count": 1,
   "id": "309a8f2c",
   "metadata": {},
   "outputs": [],
   "source": [
    "allsentences = [\"Joe waited for the train\", \n",
    " \"The train was late\", \n",
    " \"Mary and Samantha took the bus\", \n",
    " \"I looked for Mary and Samantha at the bus station\", \n",
    " \"Mary and Samantha arrived at the bus station early but waited until noon for the bus\"] "
   ]
  },
  {
   "cell_type": "code",
   "execution_count": 2,
   "id": "068606b0",
   "metadata": {},
   "outputs": [],
   "source": [
    "from sklearn.feature_extraction.text import CountVectorizer"
   ]
  },
  {
   "cell_type": "code",
   "execution_count": 3,
   "id": "89d83530",
   "metadata": {},
   "outputs": [],
   "source": [
    "vec = CountVectorizer()\n",
    "x = vec.fit_transform(allsentences)"
   ]
  },
  {
   "cell_type": "code",
   "execution_count": 4,
   "id": "04b29d0d",
   "metadata": {},
   "outputs": [
    {
     "name": "stdout",
     "output_type": "stream",
     "text": [
      "Joe waited for the train\n",
      "[0 0 0 0 0 0 1 1 0 0 0 0 0 0 1 0 1 0 1 0]\n",
      "The train was late\n",
      "[0 0 0 0 0 0 0 0 1 0 0 0 0 0 1 0 1 0 0 1]\n",
      "Mary and Samantha took the bus\n",
      "[1 0 0 1 0 0 0 0 0 0 1 0 1 0 1 1 0 0 0 0]\n",
      "I looked for Mary and Samantha at the bus station\n",
      "[1 0 1 1 0 0 1 0 0 1 1 0 1 1 1 0 0 0 0 0]\n",
      "Mary and Samantha arrived at the bus station early but waited until noon for the bus\n",
      "[1 1 1 2 1 1 1 0 0 0 1 1 1 1 2 0 0 1 1 0]\n"
     ]
    }
   ],
   "source": [
    "for i in range(len(allsentences)):\n",
    "    print(allsentences[i])\n",
    "    print(x.toarray()[i])"
   ]
  },
  {
   "cell_type": "code",
   "execution_count": 5,
   "id": "1fc8caf6",
   "metadata": {},
   "outputs": [
    {
     "data": {
      "text/plain": [
       "array([[0, 0, 0, 0, 0, 0, 1, 1, 0, 0, 0, 0, 0, 0, 1, 0, 1, 0, 1, 0],\n",
       "       [0, 0, 0, 0, 0, 0, 0, 0, 1, 0, 0, 0, 0, 0, 1, 0, 1, 0, 0, 1],\n",
       "       [1, 0, 0, 1, 0, 0, 0, 0, 0, 0, 1, 0, 1, 0, 1, 1, 0, 0, 0, 0],\n",
       "       [1, 0, 1, 1, 0, 0, 1, 0, 0, 1, 1, 0, 1, 1, 1, 0, 0, 0, 0, 0],\n",
       "       [1, 1, 1, 2, 1, 1, 1, 0, 0, 0, 1, 1, 1, 1, 2, 0, 0, 1, 1, 0]],\n",
       "      dtype=int64)"
      ]
     },
     "execution_count": 5,
     "metadata": {},
     "output_type": "execute_result"
    }
   ],
   "source": [
    "x.toarray()"
   ]
  },
  {
   "cell_type": "code",
   "execution_count": 6,
   "id": "e819f1ab",
   "metadata": {},
   "outputs": [
    {
     "data": {
      "text/plain": [
       "[array([0, 0, 0, 0, 0, 0, 1, 1, 0, 0, 0, 0, 0, 0, 1, 0, 1, 0, 1, 0],\n",
       "       dtype=int64),\n",
       " array([0, 0, 0, 0, 0, 0, 0, 0, 1, 0, 0, 0, 0, 0, 1, 0, 1, 0, 0, 1],\n",
       "       dtype=int64),\n",
       " array([1, 0, 0, 1, 0, 0, 0, 0, 0, 0, 1, 0, 1, 0, 1, 1, 0, 0, 0, 0],\n",
       "       dtype=int64),\n",
       " array([1, 0, 1, 1, 0, 0, 1, 0, 0, 1, 1, 0, 1, 1, 1, 0, 0, 0, 0, 0],\n",
       "       dtype=int64),\n",
       " array([1, 1, 1, 2, 1, 1, 1, 0, 0, 0, 1, 1, 1, 1, 2, 0, 0, 1, 1, 0],\n",
       "       dtype=int64)]"
      ]
     },
     "execution_count": 6,
     "metadata": {},
     "output_type": "execute_result"
    }
   ],
   "source": [
    "list(x.toarray())"
   ]
  },
  {
   "cell_type": "code",
   "execution_count": 7,
   "id": "0f88a042",
   "metadata": {},
   "outputs": [
    {
     "data": {
      "text/plain": [
       "CountVectorizer()"
      ]
     },
     "execution_count": 7,
     "metadata": {},
     "output_type": "execute_result"
    }
   ],
   "source": [
    "vec"
   ]
  },
  {
   "cell_type": "code",
   "execution_count": 8,
   "id": "92a5cd73",
   "metadata": {},
   "outputs": [
    {
     "name": "stdout",
     "output_type": "stream",
     "text": [
      "['and', 'arrived', 'at', 'bus', 'but', 'early', 'for', 'joe', 'late', 'looked', 'mary', 'noon', 'samantha', 'station', 'the', 'took', 'train', 'until', 'waited', 'was']\n"
     ]
    },
    {
     "name": "stderr",
     "output_type": "stream",
     "text": [
      "C:\\Users\\Abdelrahman\\anaconda3\\lib\\site-packages\\sklearn\\utils\\deprecation.py:87: FutureWarning: Function get_feature_names is deprecated; get_feature_names is deprecated in 1.0 and will be removed in 1.2. Please use get_feature_names_out instead.\n",
      "  warnings.warn(msg, category=FutureWarning)\n"
     ]
    }
   ],
   "source": [
    "print(vec.get_feature_names())"
   ]
  },
  {
   "cell_type": "code",
   "execution_count": 9,
   "id": "1cf052da",
   "metadata": {},
   "outputs": [],
   "source": [
    "allsentences = [\"Joe joe waited for the train\", \n",
    " \"The train was late\", \n",
    " \"Mary and Samantha took the bus\", \n",
    " \"I looked for Mary and Samantha at the bus station\", \n",
    " \"Mary and Samantha arrived at the bus station early but waited until noon for the bus\"] "
   ]
  },
  {
   "cell_type": "code",
   "execution_count": 10,
   "id": "5e1612a6",
   "metadata": {},
   "outputs": [],
   "source": [
    "vec = CountVectorizer()"
   ]
  },
  {
   "cell_type": "code",
   "execution_count": 11,
   "id": "13a79290",
   "metadata": {},
   "outputs": [],
   "source": [
    "bow_marix = vec.fit_transform(allsentences)"
   ]
  },
  {
   "cell_type": "code",
   "execution_count": 12,
   "id": "61313eb8",
   "metadata": {},
   "outputs": [
    {
     "data": {
      "text/plain": [
       "dtype('int64')"
      ]
     },
     "execution_count": 12,
     "metadata": {},
     "output_type": "execute_result"
    }
   ],
   "source": [
    "bow_marix.dtype"
   ]
  },
  {
   "cell_type": "code",
   "execution_count": 13,
   "id": "36a4758d",
   "metadata": {},
   "outputs": [
    {
     "data": {
      "text/plain": [
       "(5, 20)"
      ]
     },
     "execution_count": 13,
     "metadata": {},
     "output_type": "execute_result"
    }
   ],
   "source": [
    "bow_marix.shape"
   ]
  },
  {
   "cell_type": "code",
   "execution_count": 14,
   "id": "d0c53408",
   "metadata": {},
   "outputs": [
    {
     "data": {
      "text/plain": [
       "['and',\n",
       " 'arrived',\n",
       " 'at',\n",
       " 'bus',\n",
       " 'but',\n",
       " 'early',\n",
       " 'for',\n",
       " 'joe',\n",
       " 'late',\n",
       " 'looked',\n",
       " 'mary',\n",
       " 'noon',\n",
       " 'samantha',\n",
       " 'station',\n",
       " 'the',\n",
       " 'took',\n",
       " 'train',\n",
       " 'until',\n",
       " 'waited',\n",
       " 'was']"
      ]
     },
     "execution_count": 14,
     "metadata": {},
     "output_type": "execute_result"
    }
   ],
   "source": [
    "vec.get_feature_names()"
   ]
  },
  {
   "cell_type": "code",
   "execution_count": 16,
   "id": "0f9f3436",
   "metadata": {},
   "outputs": [
    {
     "data": {
      "text/plain": [
       "array([[0, 0, 0, 0, 0, 0, 1, 2, 0, 0, 0, 0, 0, 0, 1, 0, 1, 0, 1, 0],\n",
       "       [0, 0, 0, 0, 0, 0, 0, 0, 1, 0, 0, 0, 0, 0, 1, 0, 1, 0, 0, 1],\n",
       "       [1, 0, 0, 1, 0, 0, 0, 0, 0, 0, 1, 0, 1, 0, 1, 1, 0, 0, 0, 0],\n",
       "       [1, 0, 1, 1, 0, 0, 1, 0, 0, 1, 1, 0, 1, 1, 1, 0, 0, 0, 0, 0],\n",
       "       [1, 1, 1, 2, 1, 1, 1, 0, 0, 0, 1, 1, 1, 1, 2, 0, 0, 1, 1, 0]],\n",
       "      dtype=int64)"
      ]
     },
     "execution_count": 16,
     "metadata": {},
     "output_type": "execute_result"
    }
   ],
   "source": [
    "bow_marix.toarray()"
   ]
  },
  {
   "cell_type": "code",
   "execution_count": 17,
   "id": "d48d650f",
   "metadata": {},
   "outputs": [
    {
     "name": "stdout",
     "output_type": "stream",
     "text": [
      "['and', 'arrived', 'at', 'bus', 'but', 'early', 'for', 'joe', 'late', 'looked', 'mary', 'noon', 'samantha', 'station', 'the', 'took', 'train', 'until', 'waited', 'was']\n",
      "[[0 0 0 0 0 0 1 2 0 0 0 0 0 0 1 0 1 0 1 0]\n",
      " [0 0 0 0 0 0 0 0 1 0 0 0 0 0 1 0 1 0 0 1]\n",
      " [1 0 0 1 0 0 0 0 0 0 1 0 1 0 1 1 0 0 0 0]\n",
      " [1 0 1 1 0 0 1 0 0 1 1 0 1 1 1 0 0 0 0 0]\n",
      " [1 1 1 2 1 1 1 0 0 0 1 1 1 1 2 0 0 1 1 0]]\n"
     ]
    }
   ],
   "source": [
    "print(vec.get_feature_names())\n",
    "print(bow_marix.toarray());"
   ]
  },
  {
   "cell_type": "code",
   "execution_count": 18,
   "id": "5b292fb4",
   "metadata": {},
   "outputs": [],
   "source": [
    "vec = CountVectorizer(stop_words='english')\n",
    "bow_marix = vec.fit_transform(allsentences)"
   ]
  },
  {
   "cell_type": "code",
   "execution_count": 19,
   "id": "3675d8ac",
   "metadata": {
    "scrolled": true
   },
   "outputs": [
    {
     "data": {
      "text/plain": [
       "['arrived',\n",
       " 'bus',\n",
       " 'early',\n",
       " 'joe',\n",
       " 'late',\n",
       " 'looked',\n",
       " 'mary',\n",
       " 'noon',\n",
       " 'samantha',\n",
       " 'station',\n",
       " 'took',\n",
       " 'train',\n",
       " 'waited']"
      ]
     },
     "execution_count": 19,
     "metadata": {},
     "output_type": "execute_result"
    }
   ],
   "source": [
    "vec.get_feature_names()"
   ]
  },
  {
   "cell_type": "code",
   "execution_count": 20,
   "id": "94dfd5c8",
   "metadata": {},
   "outputs": [
    {
     "data": {
      "text/plain": [
       "array([[0, 0, 0, 2, 0, 0, 0, 0, 0, 0, 0, 1, 1],\n",
       "       [0, 0, 0, 0, 1, 0, 0, 0, 0, 0, 0, 1, 0],\n",
       "       [0, 1, 0, 0, 0, 0, 1, 0, 1, 0, 1, 0, 0],\n",
       "       [0, 1, 0, 0, 0, 1, 1, 0, 1, 1, 0, 0, 0],\n",
       "       [1, 2, 1, 0, 0, 0, 1, 1, 1, 1, 0, 0, 1]], dtype=int64)"
      ]
     },
     "execution_count": 20,
     "metadata": {},
     "output_type": "execute_result"
    }
   ],
   "source": [
    "bow_marix.toarray()"
   ]
  },
  {
   "cell_type": "code",
   "execution_count": 21,
   "id": "52f5587f",
   "metadata": {},
   "outputs": [],
   "source": [
    "allsentences = [\"نجحت مني في الاختبار\",\n",
    "                \"تمكن محمد من السفر هذا اليوم\" ,\n",
    "                \"اعتقد ان جورج سيتصل بنا اليوم\" ,\n",
    "                \"لا اظن ان الاختبار سيكون سهل\"]"
   ]
  },
  {
   "cell_type": "code",
   "execution_count": 22,
   "id": "489a3bb2",
   "metadata": {},
   "outputs": [],
   "source": [
    "vec = CountVectorizer()"
   ]
  },
  {
   "cell_type": "code",
   "execution_count": 23,
   "id": "a44bb0ed",
   "metadata": {},
   "outputs": [],
   "source": [
    "bow_matrix = vec.fit_transform(allsentences)"
   ]
  },
  {
   "cell_type": "code",
   "execution_count": 24,
   "id": "fce02e0f",
   "metadata": {},
   "outputs": [
    {
     "data": {
      "text/plain": [
       "['اظن',\n",
       " 'اعتقد',\n",
       " 'الاختبار',\n",
       " 'السفر',\n",
       " 'اليوم',\n",
       " 'ان',\n",
       " 'بنا',\n",
       " 'تمكن',\n",
       " 'جورج',\n",
       " 'سهل',\n",
       " 'سيتصل',\n",
       " 'سيكون',\n",
       " 'في',\n",
       " 'لا',\n",
       " 'محمد',\n",
       " 'من',\n",
       " 'مني',\n",
       " 'نجحت',\n",
       " 'هذا']"
      ]
     },
     "execution_count": 24,
     "metadata": {},
     "output_type": "execute_result"
    }
   ],
   "source": [
    "vec.get_feature_names()"
   ]
  },
  {
   "cell_type": "code",
   "execution_count": 66,
   "id": "b14b8ce3",
   "metadata": {},
   "outputs": [
    {
     "data": {
      "text/plain": [
       "array([[0, 0, 0, 1, 0, 0, 0, 0, 0, 0, 0, 1, 1],\n",
       "       [0, 0, 0, 0, 1, 0, 0, 0, 0, 0, 0, 1, 0],\n",
       "       [0, 1, 0, 0, 0, 0, 1, 0, 1, 0, 1, 0, 0],\n",
       "       [0, 1, 0, 0, 0, 1, 1, 0, 1, 1, 0, 0, 0],\n",
       "       [1, 2, 1, 0, 0, 0, 1, 1, 1, 1, 0, 0, 1]], dtype=int64)"
      ]
     },
     "execution_count": 66,
     "metadata": {},
     "output_type": "execute_result"
    }
   ],
   "source": [
    "bow_marix.toarray()"
   ]
  },
  {
   "cell_type": "code",
   "execution_count": null,
   "id": "7b455cda",
   "metadata": {},
   "outputs": [],
   "source": []
  }
 ],
 "metadata": {
  "kernelspec": {
   "display_name": "Python 3 (ipykernel)",
   "language": "python",
   "name": "python3"
  },
  "language_info": {
   "codemirror_mode": {
    "name": "ipython",
    "version": 3
   },
   "file_extension": ".py",
   "mimetype": "text/x-python",
   "name": "python",
   "nbconvert_exporter": "python",
   "pygments_lexer": "ipython3",
   "version": "3.9.12"
  }
 },
 "nbformat": 4,
 "nbformat_minor": 5
}
