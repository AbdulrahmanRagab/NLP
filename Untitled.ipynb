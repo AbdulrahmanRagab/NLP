{
 "cells": [
  {
   "cell_type": "code",
   "execution_count": 34,
   "id": "18aae4e6",
   "metadata": {},
   "outputs": [],
   "source": [
    "import re"
   ]
  },
  {
   "cell_type": "code",
   "execution_count": 35,
   "id": "514591b0",
   "metadata": {},
   "outputs": [],
   "source": [
    "doc = '''b i love fliying\n",
    "b aanad b asndkad kasdkadm'''"
   ]
  },
  {
   "cell_type": "code",
   "execution_count": 36,
   "id": "77d26bb8",
   "metadata": {},
   "outputs": [],
   "source": [
    "def clean(doc):\n",
    "    for sen in range(0, len(doc)):\n",
    "        doc = re.sub(r'\\^[a-zA-Z]\\s+', ' ', doc)\n",
    "        doc = re.sub(r'^b\\s+', '', doc)\n",
    "        doc = re.sub(r'\\s+[a-zA-Z]\\s+', ' ', doc)\n",
    "        \n",
    "        return doc"
   ]
  },
  {
   "cell_type": "code",
   "execution_count": 37,
   "id": "c1331b4e",
   "metadata": {},
   "outputs": [
    {
     "data": {
      "text/plain": [
       "'i love fliying aanad asndkad kasdkadm'"
      ]
     },
     "execution_count": 37,
     "metadata": {},
     "output_type": "execute_result"
    }
   ],
   "source": [
    "clean(doc)"
   ]
  },
  {
   "cell_type": "code",
   "execution_count": 38,
   "id": "d092264b",
   "metadata": {},
   "outputs": [],
   "source": [
    "def clean(doc):\n",
    "    doc = ' '.join([re.sub(r'\\^[a-zA-Z]\\s+',word) for word in doc])\n",
    "#     for sen in range(0, len(doc)):\n",
    "#         doc = re.sub(r'\\^[a-zA-Z]\\s+', ' ', doc)"
   ]
  },
  {
   "cell_type": "code",
   "execution_count": 40,
   "id": "d384dea2",
   "metadata": {},
   "outputs": [
    {
     "ename": "AttributeError",
     "evalue": "'str' object has no attribute 'apply'",
     "output_type": "error",
     "traceback": [
      "\u001b[1;31m---------------------------------------------------------------------------\u001b[0m",
      "\u001b[1;31mAttributeError\u001b[0m                            Traceback (most recent call last)",
      "Input \u001b[1;32mIn [40]\u001b[0m, in \u001b[0;36m<cell line: 1>\u001b[1;34m()\u001b[0m\n\u001b[1;32m----> 1\u001b[0m kk \u001b[38;5;241m=\u001b[39m \u001b[43mdoc\u001b[49m\u001b[38;5;241;43m.\u001b[39;49m\u001b[43mapply\u001b[49m(\u001b[38;5;28;01mlambda\u001b[39;00m x:clean(x))\n",
      "\u001b[1;31mAttributeError\u001b[0m: 'str' object has no attribute 'apply'"
     ]
    }
   ],
   "source": [
    "kk = doc.apply(lambda x:clean(x))"
   ]
  },
  {
   "cell_type": "code",
   "execution_count": null,
   "id": "4dc4c012",
   "metadata": {},
   "outputs": [],
   "source": []
  },
  {
   "cell_type": "code",
   "execution_count": null,
   "id": "867a60a7",
   "metadata": {},
   "outputs": [],
   "source": []
  },
  {
   "cell_type": "code",
   "execution_count": 3,
   "id": "02dc8c5d",
   "metadata": {},
   "outputs": [
    {
     "ename": "SyntaxError",
     "evalue": "invalid syntax (3255601849.py, line 2)",
     "output_type": "error",
     "traceback": [
      "\u001b[1;36m  Input \u001b[1;32mIn [3]\u001b[1;36m\u001b[0m\n\u001b[1;33m    text = \"\".join(word for word in text re.sub(r'^b\\s+', '', text))\u001b[0m\n\u001b[1;37m                                         ^\u001b[0m\n\u001b[1;31mSyntaxError\u001b[0m\u001b[1;31m:\u001b[0m invalid syntax\n"
     ]
    }
   ],
   "source": [
    "def clean(text):\n",
    "        for word in text:\n",
    "            re.re.sub(r'^b\\s+', '', document)"
   ]
  },
  {
   "cell_type": "code",
   "execution_count": null,
   "id": "e0ace90e",
   "metadata": {},
   "outputs": [],
   "source": [
    "document = re.sub(r'^b\\s+', '', document)"
   ]
  },
  {
   "cell_type": "code",
   "execution_count": null,
   "id": "d36977b0",
   "metadata": {},
   "outputs": [],
   "source": [
    "for sen in range(0, len(X)):"
   ]
  },
  {
   "cell_type": "code",
   "execution_count": null,
   "id": "586bc9f2",
   "metadata": {},
   "outputs": [],
   "source": []
  },
  {
   "cell_type": "code",
   "execution_count": null,
   "id": "dc13a45e",
   "metadata": {},
   "outputs": [],
   "source": []
  }
 ],
 "metadata": {
  "kernelspec": {
   "display_name": "Python 3 (ipykernel)",
   "language": "python",
   "name": "python3"
  },
  "language_info": {
   "codemirror_mode": {
    "name": "ipython",
    "version": 3
   },
   "file_extension": ".py",
   "mimetype": "text/x-python",
   "name": "python",
   "nbconvert_exporter": "python",
   "pygments_lexer": "ipython3",
   "version": "3.9.12"
  }
 },
 "nbformat": 4,
 "nbformat_minor": 5
}
