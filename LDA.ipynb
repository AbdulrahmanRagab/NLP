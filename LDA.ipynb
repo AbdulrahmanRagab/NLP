{
 "cells": [
  {
   "cell_type": "code",
   "execution_count": 1,
   "id": "49fa118b",
   "metadata": {},
   "outputs": [],
   "source": [
    "import pandas as pd\n",
    "import numpy as np"
   ]
  },
  {
   "cell_type": "code",
   "execution_count": 2,
   "id": "daeb5546",
   "metadata": {},
   "outputs": [],
   "source": [
    "df = pd.read_csv(\"J:/Data science/data/NLP/npr.csv\")"
   ]
  },
  {
   "cell_type": "code",
   "execution_count": 3,
   "id": "4fcc7de4",
   "metadata": {},
   "outputs": [
    {
     "data": {
      "text/html": [
       "<div>\n",
       "<style scoped>\n",
       "    .dataframe tbody tr th:only-of-type {\n",
       "        vertical-align: middle;\n",
       "    }\n",
       "\n",
       "    .dataframe tbody tr th {\n",
       "        vertical-align: top;\n",
       "    }\n",
       "\n",
       "    .dataframe thead th {\n",
       "        text-align: right;\n",
       "    }\n",
       "</style>\n",
       "<table border=\"1\" class=\"dataframe\">\n",
       "  <thead>\n",
       "    <tr style=\"text-align: right;\">\n",
       "      <th></th>\n",
       "      <th>Article</th>\n",
       "    </tr>\n",
       "  </thead>\n",
       "  <tbody>\n",
       "    <tr>\n",
       "      <th>0</th>\n",
       "      <td>In the Washington of 2016, even when the polic...</td>\n",
       "    </tr>\n",
       "    <tr>\n",
       "      <th>1</th>\n",
       "      <td>Donald Trump has used Twitter  —   his prefe...</td>\n",
       "    </tr>\n",
       "    <tr>\n",
       "      <th>2</th>\n",
       "      <td>Donald Trump is unabashedly praising Russian...</td>\n",
       "    </tr>\n",
       "    <tr>\n",
       "      <th>3</th>\n",
       "      <td>Updated at 2:50 p. m. ET, Russian President Vl...</td>\n",
       "    </tr>\n",
       "    <tr>\n",
       "      <th>4</th>\n",
       "      <td>From photography, illustration and video, to d...</td>\n",
       "    </tr>\n",
       "  </tbody>\n",
       "</table>\n",
       "</div>"
      ],
      "text/plain": [
       "                                             Article\n",
       "0  In the Washington of 2016, even when the polic...\n",
       "1    Donald Trump has used Twitter  —   his prefe...\n",
       "2    Donald Trump is unabashedly praising Russian...\n",
       "3  Updated at 2:50 p. m. ET, Russian President Vl...\n",
       "4  From photography, illustration and video, to d..."
      ]
     },
     "execution_count": 3,
     "metadata": {},
     "output_type": "execute_result"
    }
   ],
   "source": [
    "df.head()"
   ]
  },
  {
   "cell_type": "code",
   "execution_count": 4,
   "id": "968953f4",
   "metadata": {},
   "outputs": [],
   "source": [
    "from sklearn.feature_extraction.text import CountVectorizer"
   ]
  },
  {
   "cell_type": "code",
   "execution_count": 5,
   "id": "d6339b18",
   "metadata": {},
   "outputs": [],
   "source": [
    "count_vec = CountVectorizer(max_df = 0.95 , min_df = 2 , stop_words=\"english\")\n",
    "matrix_bow = count_vec.fit_transform(df['Article'])"
   ]
  },
  {
   "cell_type": "code",
   "execution_count": 6,
   "id": "d70c853a",
   "metadata": {},
   "outputs": [
    {
     "data": {
      "text/plain": [
       "<11992x54777 sparse matrix of type '<class 'numpy.int64'>'\n",
       "\twith 3033388 stored elements in Compressed Sparse Row format>"
      ]
     },
     "execution_count": 6,
     "metadata": {},
     "output_type": "execute_result"
    }
   ],
   "source": [
    "matrix_bow"
   ]
  },
  {
   "cell_type": "code",
   "execution_count": 13,
   "id": "15872df4",
   "metadata": {},
   "outputs": [
    {
     "name": "stdout",
     "output_type": "stream",
     "text": [
      "  (0, 53112)\t2\n",
      "  (0, 436)\t3\n",
      "  (0, 37382)\t2\n",
      "  (0, 5867)\t1\n",
      "  (0, 37411)\t2\n",
      "  (0, 43740)\t1\n",
      "  (0, 54403)\t3\n",
      "  (0, 44460)\t2\n",
      "  (0, 28875)\t3\n",
      "  (0, 44648)\t1\n",
      "  (0, 16578)\t1\n",
      "  (0, 12950)\t1\n",
      "  (0, 604)\t1\n",
      "  (0, 38079)\t6\n",
      "  (0, 34145)\t15\n",
      "  (0, 32459)\t1\n",
      "  (0, 42732)\t1\n",
      "  (0, 42390)\t9\n",
      "  (0, 2437)\t2\n",
      "  (0, 25508)\t5\n",
      "  (0, 16123)\t4\n",
      "  (0, 26752)\t3\n",
      "  (0, 10646)\t1\n",
      "  (0, 41011)\t4\n",
      "  (0, 29070)\t1\n",
      "  :\t:\n",
      "  (11991, 4315)\t1\n",
      "  (11991, 28887)\t1\n",
      "  (11991, 32585)\t1\n",
      "  (11991, 50599)\t1\n",
      "  (11991, 9067)\t1\n",
      "  (11991, 38652)\t1\n",
      "  (11991, 47768)\t2\n",
      "  (11991, 33536)\t1\n",
      "  (11991, 16527)\t1\n",
      "  (11991, 41081)\t1\n",
      "  (11991, 14611)\t1\n",
      "  (11991, 28356)\t1\n",
      "  (11991, 35785)\t1\n",
      "  (11991, 33620)\t14\n",
      "  (11991, 7316)\t1\n",
      "  (11991, 45088)\t1\n",
      "  (11991, 22720)\t1\n",
      "  (11991, 51838)\t1\n",
      "  (11991, 37235)\t1\n",
      "  (11991, 49654)\t1\n",
      "  (11991, 15275)\t1\n",
      "  (11991, 53567)\t1\n",
      "  (11991, 12752)\t1\n",
      "  (11991, 20202)\t1\n",
      "  (11991, 47633)\t11\n"
     ]
    }
   ],
   "source": [
    "print(matrix_bow)"
   ]
  },
  {
   "cell_type": "code",
   "execution_count": 10,
   "id": "f632bc73",
   "metadata": {},
   "outputs": [
    {
     "data": {
      "text/plain": [
       "54777"
      ]
     },
     "execution_count": 10,
     "metadata": {},
     "output_type": "execute_result"
    }
   ],
   "source": [
    "len(count_vec.get_feature_names())"
   ]
  },
  {
   "cell_type": "code",
   "execution_count": 32,
   "id": "962e7d49",
   "metadata": {},
   "outputs": [
    {
     "name": "stdout",
     "output_type": "stream",
     "text": [
      "inconvenience\n",
      "ariel\n",
      "newsom\n",
      "barder\n",
      "opportunistic\n",
      "spas\n",
      "bakery\n",
      "anytime\n",
      "specious\n",
      "principled\n"
     ]
    }
   ],
   "source": [
    "import random\n",
    "for i in range(10):\n",
    "    rand_word_id = random.randint(0,54777)\n",
    "    print(count_vec.get_feature_names()[rand_word_id])"
   ]
  },
  {
   "cell_type": "code",
   "execution_count": 15,
   "id": "a1542863",
   "metadata": {},
   "outputs": [],
   "source": [
    "from sklearn.decomposition import LatentDirichletAllocation as LDA"
   ]
  },
  {
   "cell_type": "code",
   "execution_count": 16,
   "id": "d0eb04c1",
   "metadata": {},
   "outputs": [
    {
     "data": {
      "text/plain": [
       "LatentDirichletAllocation(n_components=7)"
      ]
     },
     "execution_count": 16,
     "metadata": {},
     "output_type": "execute_result"
    }
   ],
   "source": [
    "lda = LDA(n_components=7)\n",
    "lda.fit(matrix_bow)"
   ]
  },
  {
   "cell_type": "code",
   "execution_count": 21,
   "id": "ffccf602",
   "metadata": {},
   "outputs": [
    {
     "data": {
      "text/plain": [
       "array([[3.30473381e+01, 9.51600056e+02, 1.42857147e-01, ...,\n",
       "        1.43219061e-01, 1.14269183e+00, 1.42857144e-01],\n",
       "       [1.74798417e+01, 2.67750098e+02, 1.42857145e-01, ...,\n",
       "        2.62498075e+00, 1.14232980e+00, 1.42857143e-01],\n",
       "       [1.13490361e+00, 1.30457797e+03, 1.42863942e-01, ...,\n",
       "        1.42912408e-01, 1.42857146e-01, 1.42857143e-01],\n",
       "       ...,\n",
       "       [1.69889094e+01, 4.57011926e+02, 1.42857145e-01, ...,\n",
       "        1.42857145e-01, 1.42857145e-01, 1.42860862e-01],\n",
       "       [9.10384392e+00, 8.87217110e+02, 1.42857148e-01, ...,\n",
       "        1.42902075e-01, 1.42857148e-01, 1.42880752e-01],\n",
       "       [3.10173176e+00, 1.55619348e+03, 1.42857148e-01, ...,\n",
       "        3.65985408e+00, 1.42990797e-01, 1.42860999e-01]])"
      ]
     },
     "execution_count": 21,
     "metadata": {},
     "output_type": "execute_result"
    }
   ],
   "source": [
    "lda.components_"
   ]
  },
  {
   "cell_type": "code",
   "execution_count": 22,
   "id": "0429f902",
   "metadata": {},
   "outputs": [
    {
     "data": {
      "text/plain": [
       "(7, 54777)"
      ]
     },
     "execution_count": 22,
     "metadata": {},
     "output_type": "execute_result"
    }
   ],
   "source": [
    "lda.components_.shape"
   ]
  },
  {
   "cell_type": "code",
   "execution_count": 23,
   "id": "e0d7b061",
   "metadata": {},
   "outputs": [
    {
     "data": {
      "text/plain": [
       "array([3.30473381e+01, 9.51600056e+02, 1.42857147e-01, ...,\n",
       "       1.43219061e-01, 1.14269183e+00, 1.42857144e-01])"
      ]
     },
     "execution_count": 23,
     "metadata": {},
     "output_type": "execute_result"
    }
   ],
   "source": [
    "single_topic = lda.components_[0]\n",
    "single_topic"
   ]
  },
  {
   "cell_type": "code",
   "execution_count": 24,
   "id": "198cd687",
   "metadata": {},
   "outputs": [
    {
     "data": {
      "text/plain": [
       "(54777,)"
      ]
     },
     "execution_count": 24,
     "metadata": {},
     "output_type": "execute_result"
    }
   ],
   "source": [
    "single_topic.shape"
   ]
  },
  {
   "cell_type": "code",
   "execution_count": 25,
   "id": "25237a4a",
   "metadata": {},
   "outputs": [
    {
     "data": {
      "text/plain": [
       "array([31115, 33132, 21349, ..., 28659, 33390, 42993], dtype=int64)"
      ]
     },
     "execution_count": 25,
     "metadata": {},
     "output_type": "execute_result"
    }
   ],
   "source": [
    "single_topic.argsort()"
   ]
  },
  {
   "cell_type": "code",
   "execution_count": 26,
   "id": "6a56c8d2",
   "metadata": {},
   "outputs": [
    {
     "data": {
      "text/plain": [
       "array([43238, 49459, 54102, 54412, 36283, 53152, 26752, 28659, 33390,\n",
       "       42993], dtype=int64)"
      ]
     },
     "execution_count": 26,
     "metadata": {},
     "output_type": "execute_result"
    }
   ],
   "source": [
    "single_topic.argsort()[-10:]"
   ]
  },
  {
   "cell_type": "code",
   "execution_count": 28,
   "id": "aa875a8f",
   "metadata": {},
   "outputs": [
    {
     "name": "stdout",
     "output_type": "stream",
     "text": [
      "scientists\n",
      "time\n",
      "world\n",
      "years\n",
      "people\n",
      "water\n",
      "just\n",
      "like\n",
      "new\n",
      "says\n"
     ]
    }
   ],
   "source": [
    "for i in single_topic.argsort()[-10:]:\n",
    "    print(count_vec.get_feature_names()[i])"
   ]
  },
  {
   "cell_type": "code",
   "execution_count": 33,
   "id": "f64c7e1a",
   "metadata": {},
   "outputs": [
    {
     "name": "stdout",
     "output_type": "stream",
     "text": [
      "cluster 0\n",
      "['scientists', 'time', 'world', 'years', 'people', 'water', 'just', 'like', 'new', 'says']\n",
      "\n",
      "\n",
      "cluster 1\n",
      "['way', 'don', 'really', 'time', 'know', 'think', 'just', 'like', 'people', 'says']\n",
      "\n",
      "\n",
      "cluster 2\n",
      "['women', 'said', 'like', 'students', 'school', 'percent', 'care', 'people', 'health', 'says']\n",
      "\n",
      "\n",
      "cluster 3\n",
      "['songs', 'band', 'way', 'time', 'album', 'song', 'just', 'new', 'like', 'music']\n",
      "\n",
      "\n",
      "cluster 4\n",
      "['people', 'new', 'obama', 'house', 'campaign', 'state', 'clinton', 'president', 'said', 'trump']\n",
      "\n",
      "\n",
      "cluster 5\n",
      "['world', 'state', 'countries', 'country', 'military', 'government', 'war', 'people', 'says', 'said']\n",
      "\n",
      "\n",
      "cluster 6\n",
      "['000', 'said', 'money', 'country', 'million', 'year', 'years', 'new', 'people', 'says']\n",
      "\n",
      "\n"
     ]
    }
   ],
   "source": [
    "for i,topic in enumerate(lda.components_):\n",
    "    print(\"cluster\" , i)\n",
    "    print([count_vec.get_feature_names()[i] for i in topic.argsort()[-10:]])\n",
    "    print(\"\\n\")"
   ]
  },
  {
   "cell_type": "code",
   "execution_count": 34,
   "id": "7a2d1ae1",
   "metadata": {},
   "outputs": [
    {
     "data": {
      "text/plain": [
       "<11992x54777 sparse matrix of type '<class 'numpy.int64'>'\n",
       "\twith 3033388 stored elements in Compressed Sparse Row format>"
      ]
     },
     "execution_count": 34,
     "metadata": {},
     "output_type": "execute_result"
    }
   ],
   "source": [
    "matrix_bow"
   ]
  },
  {
   "cell_type": "code",
   "execution_count": 35,
   "id": "c72916cd",
   "metadata": {},
   "outputs": [
    {
     "data": {
      "text/plain": [
       "array([[2.25552143e-04, 2.25470463e-04, 2.25391272e-04, ...,\n",
       "        7.64945762e-01, 2.33926889e-01, 2.25459619e-04],\n",
       "       [4.40943070e-04, 2.60133487e-02, 4.40707984e-04, ...,\n",
       "        5.53187027e-01, 4.19035186e-01, 4.42119280e-04],\n",
       "       [3.28404737e-04, 3.28603243e-04, 3.28312612e-04, ...,\n",
       "        8.11604599e-01, 1.86752867e-01, 3.28447035e-04],\n",
       "       ...,\n",
       "       [2.49525716e-01, 3.34669399e-01, 1.56007410e-01, ...,\n",
       "        2.47564839e-02, 1.60275943e-01, 7.43668719e-02],\n",
       "       [4.32872111e-04, 5.82387482e-02, 4.33298351e-04, ...,\n",
       "        8.71238779e-01, 2.06354909e-02, 4.85876625e-02],\n",
       "       [2.54480929e-04, 3.15229398e-01, 2.54380826e-04, ...,\n",
       "        1.87023001e-01, 2.54507323e-04, 4.96729986e-01]])"
      ]
     },
     "execution_count": 35,
     "metadata": {},
     "output_type": "execute_result"
    }
   ],
   "source": [
    "topic_results = lda.transform(matrix_bow)\n",
    "topic_results"
   ]
  },
  {
   "cell_type": "code",
   "execution_count": 36,
   "id": "3f417f39",
   "metadata": {},
   "outputs": [
    {
     "data": {
      "text/plain": [
       "(11992, 7)"
      ]
     },
     "execution_count": 36,
     "metadata": {},
     "output_type": "execute_result"
    }
   ],
   "source": [
    "topic_results.shape"
   ]
  },
  {
   "cell_type": "code",
   "execution_count": 38,
   "id": "2cb5cbf1",
   "metadata": {},
   "outputs": [
    {
     "data": {
      "text/plain": [
       "array([0.  , 0.  , 0.  , 0.  , 0.76, 0.23, 0.  ])"
      ]
     },
     "execution_count": 38,
     "metadata": {},
     "output_type": "execute_result"
    }
   ],
   "source": [
    "topic_results[0].round(2)"
   ]
  },
  {
   "cell_type": "code",
   "execution_count": 40,
   "id": "6dde76e9",
   "metadata": {},
   "outputs": [
    {
     "data": {
      "text/plain": [
       "array([4, 4, 4, ..., 1, 4, 6], dtype=int64)"
      ]
     },
     "execution_count": 40,
     "metadata": {},
     "output_type": "execute_result"
    }
   ],
   "source": [
    "topic_results.argmax(axis=1)"
   ]
  },
  {
   "cell_type": "code",
   "execution_count": 42,
   "id": "383fd1c5",
   "metadata": {},
   "outputs": [
    {
     "data": {
      "text/html": [
       "<div>\n",
       "<style scoped>\n",
       "    .dataframe tbody tr th:only-of-type {\n",
       "        vertical-align: middle;\n",
       "    }\n",
       "\n",
       "    .dataframe tbody tr th {\n",
       "        vertical-align: top;\n",
       "    }\n",
       "\n",
       "    .dataframe thead th {\n",
       "        text-align: right;\n",
       "    }\n",
       "</style>\n",
       "<table border=\"1\" class=\"dataframe\">\n",
       "  <thead>\n",
       "    <tr style=\"text-align: right;\">\n",
       "      <th></th>\n",
       "      <th>Article</th>\n",
       "      <th>topic</th>\n",
       "    </tr>\n",
       "  </thead>\n",
       "  <tbody>\n",
       "    <tr>\n",
       "      <th>0</th>\n",
       "      <td>In the Washington of 2016, even when the polic...</td>\n",
       "      <td>4</td>\n",
       "    </tr>\n",
       "    <tr>\n",
       "      <th>1</th>\n",
       "      <td>Donald Trump has used Twitter  —   his prefe...</td>\n",
       "      <td>4</td>\n",
       "    </tr>\n",
       "    <tr>\n",
       "      <th>2</th>\n",
       "      <td>Donald Trump is unabashedly praising Russian...</td>\n",
       "      <td>4</td>\n",
       "    </tr>\n",
       "    <tr>\n",
       "      <th>3</th>\n",
       "      <td>Updated at 2:50 p. m. ET, Russian President Vl...</td>\n",
       "      <td>4</td>\n",
       "    </tr>\n",
       "    <tr>\n",
       "      <th>4</th>\n",
       "      <td>From photography, illustration and video, to d...</td>\n",
       "      <td>4</td>\n",
       "    </tr>\n",
       "    <tr>\n",
       "      <th>5</th>\n",
       "      <td>I did not want to join yoga class. I hated tho...</td>\n",
       "      <td>2</td>\n",
       "    </tr>\n",
       "    <tr>\n",
       "      <th>6</th>\n",
       "      <td>With a   who has publicly supported the debunk...</td>\n",
       "      <td>2</td>\n",
       "    </tr>\n",
       "    <tr>\n",
       "      <th>7</th>\n",
       "      <td>I was standing by the airport exit, debating w...</td>\n",
       "      <td>1</td>\n",
       "    </tr>\n",
       "    <tr>\n",
       "      <th>8</th>\n",
       "      <td>If movies were trying to be more realistic, pe...</td>\n",
       "      <td>0</td>\n",
       "    </tr>\n",
       "    <tr>\n",
       "      <th>9</th>\n",
       "      <td>Eighteen years ago, on New Year’s Eve, David F...</td>\n",
       "      <td>1</td>\n",
       "    </tr>\n",
       "  </tbody>\n",
       "</table>\n",
       "</div>"
      ],
      "text/plain": [
       "                                             Article  topic\n",
       "0  In the Washington of 2016, even when the polic...      4\n",
       "1    Donald Trump has used Twitter  —   his prefe...      4\n",
       "2    Donald Trump is unabashedly praising Russian...      4\n",
       "3  Updated at 2:50 p. m. ET, Russian President Vl...      4\n",
       "4  From photography, illustration and video, to d...      4\n",
       "5  I did not want to join yoga class. I hated tho...      2\n",
       "6  With a   who has publicly supported the debunk...      2\n",
       "7  I was standing by the airport exit, debating w...      1\n",
       "8  If movies were trying to be more realistic, pe...      0\n",
       "9  Eighteen years ago, on New Year’s Eve, David F...      1"
      ]
     },
     "execution_count": 42,
     "metadata": {},
     "output_type": "execute_result"
    }
   ],
   "source": [
    "df[\"topic\"] = topic_results.argmax(axis=1)\n",
    "df.head(10)"
   ]
  },
  {
   "cell_type": "code",
   "execution_count": null,
   "id": "0f004c27",
   "metadata": {},
   "outputs": [],
   "source": []
  }
 ],
 "metadata": {
  "kernelspec": {
   "display_name": "Python 3 (ipykernel)",
   "language": "python",
   "name": "python3"
  },
  "language_info": {
   "codemirror_mode": {
    "name": "ipython",
    "version": 3
   },
   "file_extension": ".py",
   "mimetype": "text/x-python",
   "name": "python",
   "nbconvert_exporter": "python",
   "pygments_lexer": "ipython3",
   "version": "3.9.12"
  }
 },
 "nbformat": 4,
 "nbformat_minor": 5
}
