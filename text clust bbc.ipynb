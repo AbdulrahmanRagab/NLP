{
 "cells": [
  {
   "cell_type": "code",
   "execution_count": 1,
   "id": "b88729aa",
   "metadata": {},
   "outputs": [],
   "source": [
    "import pandas as pd\n",
    "import numpy as np\n",
    "from sklearn.cluster import KMeans\n",
    "from sklearn.feature_extraction.text import TfidfVectorizer\n",
    "from sklearn.decomposition import PCA\n",
    "import matplotlib.pyplot as plt\n",
    "from sklearn.datasets import load_files"
   ]
  },
  {
   "cell_type": "code",
   "execution_count": 3,
   "id": "2dfc89a7",
   "metadata": {},
   "outputs": [],
   "source": [
    "path = \"J:/Data science/data/NLP/bbc\""
   ]
  },
  {
   "cell_type": "code",
   "execution_count": 4,
   "id": "a5c650cb",
   "metadata": {},
   "outputs": [],
   "source": [
    "data = load_files(path,encoding=\"utf-8\" , decode_error=\"replace\", random_state=1000)"
   ]
  },
  {
   "cell_type": "code",
   "execution_count": 6,
   "id": "cfbb3891",
   "metadata": {},
   "outputs": [],
   "source": [
    "df = pd.DataFrame(list(zip(data['data'], data['target'])), columns=['text', 'label'])"
   ]
  },
  {
   "cell_type": "code",
   "execution_count": 7,
   "id": "6fde1ca7",
   "metadata": {},
   "outputs": [
    {
     "data": {
      "text/html": [
       "<div>\n",
       "<style scoped>\n",
       "    .dataframe tbody tr th:only-of-type {\n",
       "        vertical-align: middle;\n",
       "    }\n",
       "\n",
       "    .dataframe tbody tr th {\n",
       "        vertical-align: top;\n",
       "    }\n",
       "\n",
       "    .dataframe thead th {\n",
       "        text-align: right;\n",
       "    }\n",
       "</style>\n",
       "<table border=\"1\" class=\"dataframe\">\n",
       "  <thead>\n",
       "    <tr style=\"text-align: right;\">\n",
       "      <th></th>\n",
       "      <th>text</th>\n",
       "      <th>label</th>\n",
       "    </tr>\n",
       "  </thead>\n",
       "  <tbody>\n",
       "    <tr>\n",
       "      <th>0</th>\n",
       "      <td>News Corp eyes video games market\\n\\nNews Corp...</td>\n",
       "      <td>0</td>\n",
       "    </tr>\n",
       "    <tr>\n",
       "      <th>1</th>\n",
       "      <td>Wasps 31-37 Leicester\\n\\nLeicester withstood a...</td>\n",
       "      <td>3</td>\n",
       "    </tr>\n",
       "    <tr>\n",
       "      <th>2</th>\n",
       "      <td>Looks and music to drive mobiles\\n\\nMobile pho...</td>\n",
       "      <td>4</td>\n",
       "    </tr>\n",
       "    <tr>\n",
       "      <th>3</th>\n",
       "      <td>'Errors' doomed first Dome sale\\n\\nThe initial...</td>\n",
       "      <td>2</td>\n",
       "    </tr>\n",
       "    <tr>\n",
       "      <th>4</th>\n",
       "      <td>Sculthorpe wants Lions captaincy\\n\\nPaul Scult...</td>\n",
       "      <td>3</td>\n",
       "    </tr>\n",
       "  </tbody>\n",
       "</table>\n",
       "</div>"
      ],
      "text/plain": [
       "                                                text  label\n",
       "0  News Corp eyes video games market\\n\\nNews Corp...      0\n",
       "1  Wasps 31-37 Leicester\\n\\nLeicester withstood a...      3\n",
       "2  Looks and music to drive mobiles\\n\\nMobile pho...      4\n",
       "3  'Errors' doomed first Dome sale\\n\\nThe initial...      2\n",
       "4  Sculthorpe wants Lions captaincy\\n\\nPaul Scult...      3"
      ]
     },
     "execution_count": 7,
     "metadata": {},
     "output_type": "execute_result"
    }
   ],
   "source": [
    "df.head()"
   ]
  },
  {
   "cell_type": "code",
   "execution_count": 8,
   "id": "76aed519",
   "metadata": {},
   "outputs": [],
   "source": [
    "import string\n",
    "import nltk\n",
    "from nltk import word_tokenize\n",
    "from nltk.corpus import stopwords\n",
    "from nltk.stem import WordNetLemmatizer"
   ]
  },
  {
   "cell_type": "code",
   "execution_count": 9,
   "id": "6b15a33f",
   "metadata": {},
   "outputs": [],
   "source": [
    "stop_words = nltk.corpus.stopwords.words(\"english\")"
   ]
  },
  {
   "cell_type": "code",
   "execution_count": 10,
   "id": "537f55cb",
   "metadata": {},
   "outputs": [],
   "source": [
    "lemma_nltk = WordNetLemmatizer()"
   ]
  },
  {
   "cell_type": "code",
   "execution_count": 11,
   "id": "b7886b2a",
   "metadata": {},
   "outputs": [],
   "source": [
    "def clean_text(text):\n",
    "    text = \"\".join([word.lower() for word in text if word not in string.punctuation])\n",
    "    tokens = word_tokenize(text)\n",
    "    text = \" \".join([lemma_nltk.lemmatize(word) for word in tokens if word not in stop_words])\n",
    "    return text"
   ]
  },
  {
   "cell_type": "code",
   "execution_count": 12,
   "id": "ca1452ea",
   "metadata": {},
   "outputs": [],
   "source": [
    "df['cleaned_text'] = df['text'].apply(lambda x:clean_text(x))"
   ]
  },
  {
   "cell_type": "code",
   "execution_count": 15,
   "id": "b1230701",
   "metadata": {},
   "outputs": [
    {
     "data": {
      "text/html": [
       "<div>\n",
       "<style scoped>\n",
       "    .dataframe tbody tr th:only-of-type {\n",
       "        vertical-align: middle;\n",
       "    }\n",
       "\n",
       "    .dataframe tbody tr th {\n",
       "        vertical-align: top;\n",
       "    }\n",
       "\n",
       "    .dataframe thead th {\n",
       "        text-align: right;\n",
       "    }\n",
       "</style>\n",
       "<table border=\"1\" class=\"dataframe\">\n",
       "  <thead>\n",
       "    <tr style=\"text-align: right;\">\n",
       "      <th></th>\n",
       "      <th>text</th>\n",
       "      <th>label</th>\n",
       "      <th>cleaned_text</th>\n",
       "    </tr>\n",
       "  </thead>\n",
       "  <tbody>\n",
       "    <tr>\n",
       "      <th>0</th>\n",
       "      <td>News Corp eyes video games market\\n\\nNews Corp...</td>\n",
       "      <td>0</td>\n",
       "      <td>news corp eye video game market news corp medi...</td>\n",
       "    </tr>\n",
       "    <tr>\n",
       "      <th>1</th>\n",
       "      <td>Wasps 31-37 Leicester\\n\\nLeicester withstood a...</td>\n",
       "      <td>3</td>\n",
       "      <td>wasp 3137 leicester leicester withstood stunni...</td>\n",
       "    </tr>\n",
       "    <tr>\n",
       "      <th>2</th>\n",
       "      <td>Looks and music to drive mobiles\\n\\nMobile pho...</td>\n",
       "      <td>4</td>\n",
       "      <td>look music drive mobile mobile phone still enj...</td>\n",
       "    </tr>\n",
       "    <tr>\n",
       "      <th>3</th>\n",
       "      <td>'Errors' doomed first Dome sale\\n\\nThe initial...</td>\n",
       "      <td>2</td>\n",
       "      <td>error doomed first dome sale initial attempt s...</td>\n",
       "    </tr>\n",
       "    <tr>\n",
       "      <th>4</th>\n",
       "      <td>Sculthorpe wants Lions captaincy\\n\\nPaul Scult...</td>\n",
       "      <td>3</td>\n",
       "      <td>sculthorpe want lion captaincy paul sculthorpe...</td>\n",
       "    </tr>\n",
       "  </tbody>\n",
       "</table>\n",
       "</div>"
      ],
      "text/plain": [
       "                                                text  label  \\\n",
       "0  News Corp eyes video games market\\n\\nNews Corp...      0   \n",
       "1  Wasps 31-37 Leicester\\n\\nLeicester withstood a...      3   \n",
       "2  Looks and music to drive mobiles\\n\\nMobile pho...      4   \n",
       "3  'Errors' doomed first Dome sale\\n\\nThe initial...      2   \n",
       "4  Sculthorpe wants Lions captaincy\\n\\nPaul Scult...      3   \n",
       "\n",
       "                                        cleaned_text  \n",
       "0  news corp eye video game market news corp medi...  \n",
       "1  wasp 3137 leicester leicester withstood stunni...  \n",
       "2  look music drive mobile mobile phone still enj...  \n",
       "3  error doomed first dome sale initial attempt s...  \n",
       "4  sculthorpe want lion captaincy paul sculthorpe...  "
      ]
     },
     "execution_count": 15,
     "metadata": {},
     "output_type": "execute_result"
    }
   ],
   "source": [
    "df.head()"
   ]
  },
  {
   "cell_type": "code",
   "execution_count": 23,
   "id": "9706ff1c",
   "metadata": {},
   "outputs": [
    {
     "data": {
      "text/plain": [
       "3    511\n",
       "0    510\n",
       "2    417\n",
       "4    401\n",
       "1    386\n",
       "Name: label, dtype: int64"
      ]
     },
     "execution_count": 23,
     "metadata": {},
     "output_type": "execute_result"
    }
   ],
   "source": [
    "df['label'].value_counts()"
   ]
  },
  {
   "cell_type": "code",
   "execution_count": 24,
   "id": "34af719c",
   "metadata": {},
   "outputs": [],
   "source": [
    "x = df['cleaned_text']"
   ]
  },
  {
   "cell_type": "code",
   "execution_count": 25,
   "id": "f2deace1",
   "metadata": {},
   "outputs": [],
   "source": [
    "from sklearn.feature_extraction.text import TfidfVectorizer\n",
    "tfidf = TfidfVectorizer()\n",
    "matrix_tfidf = tfidf.fit_transform(x)"
   ]
  },
  {
   "cell_type": "code",
   "execution_count": 28,
   "id": "98513eb2",
   "metadata": {},
   "outputs": [
    {
     "data": {
      "text/plain": [
       "['00', '000', '0001', '00051', '001', '002', '003', '004secs', '007', '01']"
      ]
     },
     "execution_count": 28,
     "metadata": {},
     "output_type": "execute_result"
    }
   ],
   "source": [
    "tfidf.get_feature_names()[:10]"
   ]
  },
  {
   "cell_type": "code",
   "execution_count": 29,
   "id": "457147dc",
   "metadata": {},
   "outputs": [
    {
     "name": "stdout",
     "output_type": "stream",
     "text": [
      "  (0, 16905)\t0.050059269598134004\n",
      "  (0, 28370)\t0.028953053124349114\n",
      "  (0, 11933)\t0.07110939720684743\n",
      "  (0, 17845)\t0.03690276196808114\n",
      "  (0, 3933)\t0.10989465983322635\n",
      "  (0, 21131)\t0.08871773547000333\n",
      "  (0, 7579)\t0.05761604941330739\n",
      "  (0, 11103)\t0.06985277389119637\n",
      "  (0, 27701)\t0.09765793535533737\n",
      "  (0, 19338)\t0.03479109410434867\n",
      "  (0, 13906)\t0.04501552591165636\n",
      "  (0, 7336)\t0.03633042619055001\n",
      "  (0, 3995)\t0.06711973003792475\n",
      "  (0, 10303)\t0.06762652089881488\n",
      "  (0, 12506)\t0.07110939720684743\n",
      "  (0, 26591)\t0.06869679249898836\n",
      "  (0, 27207)\t0.05378734801982421\n",
      "  (0, 26744)\t0.08484345153188616\n",
      "  (0, 14481)\t0.08401796642865107\n",
      "  (0, 9246)\t0.052646592836268644\n",
      "  (0, 11659)\t0.05969264243874516\n",
      "  (0, 12315)\t0.09250681528151795\n",
      "  (0, 27818)\t0.0329491654825204\n",
      "  (0, 14272)\t0.03859611144652516\n",
      "  (0, 12362)\t0.07110939720684743\n",
      "  :\t:\n",
      "  (2224, 20927)\t0.020386787411414913\n",
      "  (2224, 23286)\t0.11770596988066537\n",
      "  (2224, 25779)\t0.03367857347660637\n",
      "  (2224, 3359)\t0.03148495784686328\n",
      "  (2224, 29754)\t0.04793782931630839\n",
      "  (2224, 15713)\t0.0339661161998499\n",
      "  (2224, 11605)\t0.04954944618207276\n",
      "  (2224, 13502)\t0.033773511073659654\n",
      "  (2224, 9720)\t0.12106235001391061\n",
      "  (2224, 4346)\t0.03186746557697077\n",
      "  (2224, 27607)\t0.02395092839661773\n",
      "  (2224, 12992)\t0.09365398316947415\n",
      "  (2224, 8045)\t0.019448308283951055\n",
      "  (2224, 22938)\t0.25381681548180995\n",
      "  (2224, 20895)\t0.09063558801940351\n",
      "  (2224, 3556)\t0.04201796527452231\n",
      "  (2224, 4396)\t0.02356315216525233\n",
      "  (2224, 18426)\t0.036066880741579516\n",
      "  (2224, 28370)\t0.020174657695642584\n",
      "  (2224, 7336)\t0.050630509271904774\n",
      "  (2224, 17125)\t0.03019849851732766\n",
      "  (2224, 8627)\t0.02567132982750187\n",
      "  (2224, 12709)\t0.04598358489813987\n",
      "  (2224, 24142)\t0.04686116114372442\n",
      "  (2224, 12474)\t0.02626410615679953\n"
     ]
    }
   ],
   "source": [
    "print(matrix_tfidf)"
   ]
  },
  {
   "cell_type": "code",
   "execution_count": 30,
   "id": "81def729",
   "metadata": {},
   "outputs": [
    {
     "data": {
      "text/html": [
       "<div>\n",
       "<style scoped>\n",
       "    .dataframe tbody tr th:only-of-type {\n",
       "        vertical-align: middle;\n",
       "    }\n",
       "\n",
       "    .dataframe tbody tr th {\n",
       "        vertical-align: top;\n",
       "    }\n",
       "\n",
       "    .dataframe thead th {\n",
       "        text-align: right;\n",
       "    }\n",
       "</style>\n",
       "<table border=\"1\" class=\"dataframe\">\n",
       "  <thead>\n",
       "    <tr style=\"text-align: right;\">\n",
       "      <th></th>\n",
       "      <th>0</th>\n",
       "      <th>1</th>\n",
       "      <th>2</th>\n",
       "      <th>3</th>\n",
       "      <th>4</th>\n",
       "      <th>5</th>\n",
       "      <th>6</th>\n",
       "      <th>7</th>\n",
       "      <th>8</th>\n",
       "      <th>9</th>\n",
       "      <th>...</th>\n",
       "      <th>30538</th>\n",
       "      <th>30539</th>\n",
       "      <th>30540</th>\n",
       "      <th>30541</th>\n",
       "      <th>30542</th>\n",
       "      <th>30543</th>\n",
       "      <th>30544</th>\n",
       "      <th>30545</th>\n",
       "      <th>30546</th>\n",
       "      <th>30547</th>\n",
       "    </tr>\n",
       "  </thead>\n",
       "  <tbody>\n",
       "    <tr>\n",
       "      <th>0</th>\n",
       "      <td>0.0</td>\n",
       "      <td>0.0</td>\n",
       "      <td>0.0</td>\n",
       "      <td>0.0</td>\n",
       "      <td>0.0</td>\n",
       "      <td>0.0</td>\n",
       "      <td>0.0</td>\n",
       "      <td>0.0</td>\n",
       "      <td>0.0</td>\n",
       "      <td>0.0</td>\n",
       "      <td>...</td>\n",
       "      <td>0.000000</td>\n",
       "      <td>0.0</td>\n",
       "      <td>0.0</td>\n",
       "      <td>0.0</td>\n",
       "      <td>0.0</td>\n",
       "      <td>0.0</td>\n",
       "      <td>0.0</td>\n",
       "      <td>0.0</td>\n",
       "      <td>0.0</td>\n",
       "      <td>0.0</td>\n",
       "    </tr>\n",
       "    <tr>\n",
       "      <th>1</th>\n",
       "      <td>0.0</td>\n",
       "      <td>0.0</td>\n",
       "      <td>0.0</td>\n",
       "      <td>0.0</td>\n",
       "      <td>0.0</td>\n",
       "      <td>0.0</td>\n",
       "      <td>0.0</td>\n",
       "      <td>0.0</td>\n",
       "      <td>0.0</td>\n",
       "      <td>0.0</td>\n",
       "      <td>...</td>\n",
       "      <td>0.000000</td>\n",
       "      <td>0.0</td>\n",
       "      <td>0.0</td>\n",
       "      <td>0.0</td>\n",
       "      <td>0.0</td>\n",
       "      <td>0.0</td>\n",
       "      <td>0.0</td>\n",
       "      <td>0.0</td>\n",
       "      <td>0.0</td>\n",
       "      <td>0.0</td>\n",
       "    </tr>\n",
       "    <tr>\n",
       "      <th>2</th>\n",
       "      <td>0.0</td>\n",
       "      <td>0.0</td>\n",
       "      <td>0.0</td>\n",
       "      <td>0.0</td>\n",
       "      <td>0.0</td>\n",
       "      <td>0.0</td>\n",
       "      <td>0.0</td>\n",
       "      <td>0.0</td>\n",
       "      <td>0.0</td>\n",
       "      <td>0.0</td>\n",
       "      <td>...</td>\n",
       "      <td>0.050003</td>\n",
       "      <td>0.0</td>\n",
       "      <td>0.0</td>\n",
       "      <td>0.0</td>\n",
       "      <td>0.0</td>\n",
       "      <td>0.0</td>\n",
       "      <td>0.0</td>\n",
       "      <td>0.0</td>\n",
       "      <td>0.0</td>\n",
       "      <td>0.0</td>\n",
       "    </tr>\n",
       "    <tr>\n",
       "      <th>3</th>\n",
       "      <td>0.0</td>\n",
       "      <td>0.0</td>\n",
       "      <td>0.0</td>\n",
       "      <td>0.0</td>\n",
       "      <td>0.0</td>\n",
       "      <td>0.0</td>\n",
       "      <td>0.0</td>\n",
       "      <td>0.0</td>\n",
       "      <td>0.0</td>\n",
       "      <td>0.0</td>\n",
       "      <td>...</td>\n",
       "      <td>0.000000</td>\n",
       "      <td>0.0</td>\n",
       "      <td>0.0</td>\n",
       "      <td>0.0</td>\n",
       "      <td>0.0</td>\n",
       "      <td>0.0</td>\n",
       "      <td>0.0</td>\n",
       "      <td>0.0</td>\n",
       "      <td>0.0</td>\n",
       "      <td>0.0</td>\n",
       "    </tr>\n",
       "    <tr>\n",
       "      <th>4</th>\n",
       "      <td>0.0</td>\n",
       "      <td>0.0</td>\n",
       "      <td>0.0</td>\n",
       "      <td>0.0</td>\n",
       "      <td>0.0</td>\n",
       "      <td>0.0</td>\n",
       "      <td>0.0</td>\n",
       "      <td>0.0</td>\n",
       "      <td>0.0</td>\n",
       "      <td>0.0</td>\n",
       "      <td>...</td>\n",
       "      <td>0.000000</td>\n",
       "      <td>0.0</td>\n",
       "      <td>0.0</td>\n",
       "      <td>0.0</td>\n",
       "      <td>0.0</td>\n",
       "      <td>0.0</td>\n",
       "      <td>0.0</td>\n",
       "      <td>0.0</td>\n",
       "      <td>0.0</td>\n",
       "      <td>0.0</td>\n",
       "    </tr>\n",
       "  </tbody>\n",
       "</table>\n",
       "<p>5 rows × 30548 columns</p>\n",
       "</div>"
      ],
      "text/plain": [
       "   0      1      2      3      4      5      6      7      8      9      ...  \\\n",
       "0    0.0    0.0    0.0    0.0    0.0    0.0    0.0    0.0    0.0    0.0  ...   \n",
       "1    0.0    0.0    0.0    0.0    0.0    0.0    0.0    0.0    0.0    0.0  ...   \n",
       "2    0.0    0.0    0.0    0.0    0.0    0.0    0.0    0.0    0.0    0.0  ...   \n",
       "3    0.0    0.0    0.0    0.0    0.0    0.0    0.0    0.0    0.0    0.0  ...   \n",
       "4    0.0    0.0    0.0    0.0    0.0    0.0    0.0    0.0    0.0    0.0  ...   \n",
       "\n",
       "      30538  30539  30540  30541  30542  30543  30544  30545  30546  30547  \n",
       "0  0.000000    0.0    0.0    0.0    0.0    0.0    0.0    0.0    0.0    0.0  \n",
       "1  0.000000    0.0    0.0    0.0    0.0    0.0    0.0    0.0    0.0    0.0  \n",
       "2  0.050003    0.0    0.0    0.0    0.0    0.0    0.0    0.0    0.0    0.0  \n",
       "3  0.000000    0.0    0.0    0.0    0.0    0.0    0.0    0.0    0.0    0.0  \n",
       "4  0.000000    0.0    0.0    0.0    0.0    0.0    0.0    0.0    0.0    0.0  \n",
       "\n",
       "[5 rows x 30548 columns]"
      ]
     },
     "execution_count": 30,
     "metadata": {},
     "output_type": "execute_result"
    }
   ],
   "source": [
    "dataf = pd.DataFrame(matrix_tfidf.toarray())\n",
    "dataf.head()"
   ]
  },
  {
   "cell_type": "code",
   "execution_count": 33,
   "id": "d6230277",
   "metadata": {},
   "outputs": [
    {
     "data": {
      "text/plain": [
       "array([[0.97949017, 1.02775639, 0.98885546, 0.99691578, 1.00453841],\n",
       "       [1.0156534 , 1.0345258 , 1.00326547, 0.97504198, 1.00908365],\n",
       "       [0.92226898, 1.01907308, 0.98198674, 0.99751925, 0.9916932 ],\n",
       "       ...,\n",
       "       [0.94105657, 1.02070831, 0.98470147, 0.9989253 , 0.99042025],\n",
       "       [1.01659592, 1.04124662, 1.00515369, 1.01048895, 0.96779862],\n",
       "       [1.01317134, 1.0308442 , 1.0029164 , 0.9888339 , 1.01060823]])"
      ]
     },
     "execution_count": 33,
     "metadata": {},
     "output_type": "execute_result"
    }
   ],
   "source": [
    "km_model = KMeans(n_clusters=5)\n",
    "km_model.fit_transform(matrix_tfidf)"
   ]
  },
  {
   "cell_type": "code",
   "execution_count": 37,
   "id": "bab2bb4b",
   "metadata": {},
   "outputs": [
    {
     "data": {
      "text/plain": [
       "array([0, 3, 0, ..., 0, 4, 3])"
      ]
     },
     "execution_count": 37,
     "metadata": {},
     "output_type": "execute_result"
    }
   ],
   "source": [
    "y_pred = km_model.predict(dataf)\n",
    "y_pred"
   ]
  },
  {
   "cell_type": "code",
   "execution_count": 35,
   "id": "de41a255",
   "metadata": {},
   "outputs": [
    {
     "data": {
      "text/plain": [
       "array([0, 3, 0, ..., 0, 4, 3])"
      ]
     },
     "execution_count": 35,
     "metadata": {},
     "output_type": "execute_result"
    }
   ],
   "source": [
    "km_model.labels_"
   ]
  },
  {
   "cell_type": "code",
   "execution_count": 43,
   "id": "6d742809",
   "metadata": {},
   "outputs": [
    {
     "data": {
      "text/plain": [
       "array([[-0.05242701,  0.0408386 ],\n",
       "       [-0.07935445, -0.11957618],\n",
       "       [-0.07006639,  0.29757629],\n",
       "       ...,\n",
       "       [-0.0593486 ,  0.19549495],\n",
       "       [-0.09885498, -0.07631862],\n",
       "       [-0.03827498, -0.06198615]])"
      ]
     },
     "execution_count": 43,
     "metadata": {},
     "output_type": "execute_result"
    }
   ],
   "source": [
    "pca = PCA(n_components=2)\n",
    "reduced_features = pca.fit_transform(dataf)\n",
    "reduced_features"
   ]
  },
  {
   "cell_type": "code",
   "execution_count": 44,
   "id": "f6d31011",
   "metadata": {},
   "outputs": [
    {
     "data": {
      "text/plain": [
       "array([[0.00000000e+00, 4.58356181e-04, 0.00000000e+00, ...,\n",
       "        0.00000000e+00, 0.00000000e+00, 0.00000000e+00],\n",
       "       [0.00000000e+00, 0.00000000e+00, 0.00000000e+00, ...,\n",
       "        0.00000000e+00, 0.00000000e+00, 0.00000000e+00],\n",
       "       [0.00000000e+00, 0.00000000e+00, 8.59682810e-05, ...,\n",
       "        0.00000000e+00, 0.00000000e+00, 0.00000000e+00],\n",
       "       [7.53621241e-04, 0.00000000e+00, 0.00000000e+00, ...,\n",
       "        0.00000000e+00, 5.96515024e-04, 0.00000000e+00],\n",
       "       [0.00000000e+00, 0.00000000e+00, 0.00000000e+00, ...,\n",
       "        3.29271990e-04, 0.00000000e+00, 6.69150820e-04]])"
      ]
     },
     "execution_count": 44,
     "metadata": {},
     "output_type": "execute_result"
    }
   ],
   "source": [
    "km_model.cluster_centers_"
   ]
  },
  {
   "cell_type": "code",
   "execution_count": 45,
   "id": "8b5cd5fd",
   "metadata": {},
   "outputs": [
    {
     "data": {
      "text/plain": [
       "(5, 30548)"
      ]
     },
     "execution_count": 45,
     "metadata": {},
     "output_type": "execute_result"
    }
   ],
   "source": [
    "len(km_model.cluster_centers_) , len(km_model.cluster_centers_[0])"
   ]
  },
  {
   "cell_type": "code",
   "execution_count": 46,
   "id": "40b8429c",
   "metadata": {},
   "outputs": [
    {
     "data": {
      "text/plain": [
       "array([[-0.03447677,  0.11424143],\n",
       "       [ 0.23732749, -0.05245828],\n",
       "       [ 0.01031575,  0.05401169],\n",
       "       [-0.0707566 , -0.09760851],\n",
       "       [-0.07350405, -0.05362879]])"
      ]
     },
     "execution_count": 46,
     "metadata": {},
     "output_type": "execute_result"
    }
   ],
   "source": [
    "reduced_cluster_centers = pca.transform(km_model.cluster_centers_)\n",
    "reduced_cluster_centers"
   ]
  },
  {
   "cell_type": "code",
   "execution_count": 50,
   "id": "9bc6df78",
   "metadata": {},
   "outputs": [
    {
     "data": {
      "text/plain": [
       "<matplotlib.collections.PathCollection at 0x217f4a548b0>"
      ]
     },
     "execution_count": 50,
     "metadata": {},
     "output_type": "execute_result"
    },
    {
     "data": {
      "image/png": "[encoded data removed]",
      "text/plain": [
       "<Figure size 528x352 with 1 Axes>"
      ]
     },
     "metadata": {
      "needs_background": "light"
     },
     "output_type": "display_data"
    }
   ],
   "source": [
    "plt.figure(dpi=88)\n",
    "plt.scatter(reduced_features[:,0], reduced_features[:,1], c=km_model.predict(dataf))\n",
    "plt.scatter(reduced_cluster_centers[:, 0], reduced_cluster_centers[:,1], marker='x', s=150, c='b')"
   ]
  },
  {
   "cell_type": "code",
   "execution_count": null,
   "id": "f0fb0191",
   "metadata": {},
   "outputs": [],
   "source": []
  }
 ],
 "metadata": {
  "kernelspec": {
   "display_name": "Python 3 (ipykernel)",
   "language": "python",
   "name": "python3"
  },
  "language_info": {
   "codemirror_mode": {
    "name": "ipython",
    "version": 3
   },
   "file_extension": ".py",
   "mimetype": "text/x-python",
   "name": "python",
   "nbconvert_exporter": "python",
   "pygments_lexer": "ipython3",
   "version": "3.9.12"
  }
 },
 "nbformat": 4,
 "nbformat_minor": 5
}
