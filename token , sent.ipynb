{
 "cells": [
  {
   "cell_type": "code",
   "execution_count": 1,
   "id": "b8ec05dc",
   "metadata": {},
   "outputs": [],
   "source": [
    "import spacy"
   ]
  },
  {
   "cell_type": "code",
   "execution_count": 2,
   "id": "0b173b11",
   "metadata": {},
   "outputs": [
    {
     "data": {
      "text/plain": [
       "'3.4.1'"
      ]
     },
     "execution_count": 2,
     "metadata": {},
     "output_type": "execute_result"
    }
   ],
   "source": [
    "spacy.__version__"
   ]
  },
  {
   "cell_type": "code",
   "execution_count": 3,
   "id": "c6ff80de",
   "metadata": {},
   "outputs": [],
   "source": [
    "nlp = spacy.load(\"en_core_web_sm\")"
   ]
  },
  {
   "cell_type": "code",
   "execution_count": 4,
   "id": "6d60a661",
   "metadata": {},
   "outputs": [
    {
     "data": {
      "text/plain": [
       "spacy.lang.en.English"
      ]
     },
     "execution_count": 4,
     "metadata": {},
     "output_type": "execute_result"
    }
   ],
   "source": [
    "type(nlp)"
   ]
  },
  {
   "cell_type": "code",
   "execution_count": 5,
   "id": "13e9492e",
   "metadata": {},
   "outputs": [],
   "source": [
    "doc = nlp(\"Tesla is looking at buying U.S. startup for $6 million\")"
   ]
  },
  {
   "cell_type": "code",
   "execution_count": 6,
   "id": "8c1a2fe9",
   "metadata": {},
   "outputs": [
    {
     "data": {
      "text/plain": [
       "spacy.tokens.doc.Doc"
      ]
     },
     "execution_count": 6,
     "metadata": {},
     "output_type": "execute_result"
    }
   ],
   "source": [
    "type(doc)"
   ]
  },
  {
   "cell_type": "code",
   "execution_count": 12,
   "id": "c65da3cf",
   "metadata": {},
   "outputs": [
    {
     "name": "stdout",
     "output_type": "stream",
     "text": [
      "Tesla\n",
      "Xxxxx\n",
      "True\n",
      "----------------------\n",
      "is\n",
      "xx\n",
      "True\n",
      "----------------------\n",
      "looking\n",
      "xxxx\n",
      "True\n",
      "----------------------\n",
      "at\n",
      "xx\n",
      "True\n",
      "----------------------\n",
      "buying\n",
      "xxxx\n",
      "True\n",
      "----------------------\n",
      "U.S.\n",
      "X.X.\n",
      "False\n",
      "----------------------\n",
      "startup\n",
      "xxxx\n",
      "True\n",
      "----------------------\n",
      "for\n",
      "xxx\n",
      "True\n",
      "----------------------\n",
      "$\n",
      "$\n",
      "False\n",
      "----------------------\n",
      "6\n",
      "d\n",
      "False\n",
      "----------------------\n",
      "million\n",
      "xxxx\n",
      "True\n",
      "----------------------\n"
     ]
    }
   ],
   "source": [
    "for token in doc:\n",
    "    print(token.text)\n",
    "    print(token.shape_)\n",
    "    print(token.is_alpha)\n",
    "    print(\"----------------------\")"
   ]
  },
  {
   "cell_type": "code",
   "execution_count": 14,
   "id": "340a87f1",
   "metadata": {},
   "outputs": [
    {
     "data": {
      "text/plain": [
       "(Tesla, $)"
      ]
     },
     "execution_count": 14,
     "metadata": {},
     "output_type": "execute_result"
    }
   ],
   "source": [
    "doc[0] , doc[8]"
   ]
  },
  {
   "cell_type": "code",
   "execution_count": 19,
   "id": "d290da5f",
   "metadata": {},
   "outputs": [],
   "source": [
    "doc2 = nlp(''' \n",
    "Although commmonly attributed to John Lennon from his song \"Beautiful Boy\", \n",
    "10 \n",
    "the phrase \"Life is what happens to us while we are making other plans\" was written by \n",
    "cartoonist Allen Saunders and \n",
    "published in Reader\\'s Digest in 1957, when Lennon was 17. \n",
    "''')"
   ]
  },
  {
   "cell_type": "code",
   "execution_count": 20,
   "id": "a72b5aa9",
   "metadata": {},
   "outputs": [
    {
     "name": "stdout",
     "output_type": "stream",
     "text": [
      " \n",
      "\n",
      "Although\n",
      "commmonly\n",
      "attributed\n",
      "to\n",
      "John\n",
      "Lennon\n",
      "from\n",
      "his\n",
      "song\n",
      "\"\n",
      "Beautiful\n",
      "Boy\n",
      "\"\n",
      ",\n",
      "\n",
      "\n",
      "10\n",
      "\n",
      "\n",
      "the\n",
      "phrase\n",
      "\"\n",
      "Life\n",
      "is\n",
      "what\n",
      "happens\n",
      "to\n",
      "us\n",
      "while\n",
      "we\n",
      "are\n",
      "making\n",
      "other\n",
      "plans\n",
      "\"\n",
      "was\n",
      "written\n",
      "by\n",
      "\n",
      "\n",
      "cartoonist\n",
      "Allen\n",
      "Saunders\n",
      "and\n",
      "\n",
      "\n",
      "published\n",
      "in\n",
      "Reader\n",
      "'s\n",
      "Digest\n",
      "in\n",
      "1957\n",
      ",\n",
      "when\n",
      "Lennon\n",
      "was\n",
      "17\n",
      ".\n",
      "\n",
      "\n"
     ]
    }
   ],
   "source": [
    "for token in doc2:\n",
    "    print(token.text)"
   ]
  },
  {
   "cell_type": "code",
   "execution_count": 22,
   "id": "3f2aad5e",
   "metadata": {},
   "outputs": [
    {
     "name": "stdout",
     "output_type": "stream",
     "text": [
      "\"We're moving to L.A.!\"\n"
     ]
    }
   ],
   "source": [
    "mystring = '\"We\\'re moving to L.A.!\"'\n",
    "print(mystring)"
   ]
  },
  {
   "cell_type": "code",
   "execution_count": 23,
   "id": "c449e84c",
   "metadata": {},
   "outputs": [],
   "source": [
    "doc3 = nlp(mystring)"
   ]
  },
  {
   "cell_type": "code",
   "execution_count": 25,
   "id": "7814cada",
   "metadata": {},
   "outputs": [
    {
     "name": "stdout",
     "output_type": "stream",
     "text": [
      "\" | We | 're | moving | to | L.A. | ! | \" | "
     ]
    }
   ],
   "source": [
    "for token in doc3:\n",
    "    print(token.text , end=' | ')"
   ]
  },
  {
   "cell_type": "code",
   "execution_count": 26,
   "id": "7fdbbf27",
   "metadata": {},
   "outputs": [
    {
     "name": "stdout",
     "output_type": "stream",
     "text": [
      "We're here to help! Send snail-mail, email support@oursite.com or visit us at http://www.oursite.com!\n"
     ]
    }
   ],
   "source": [
    "doc4 = nlp(u\"We're here to help! Send snail-mail, email support@oursite.com or visit us at http://www.oursite.com!\")\n",
    "print(doc4)"
   ]
  },
  {
   "cell_type": "code",
   "execution_count": 27,
   "id": "bdb02849",
   "metadata": {},
   "outputs": [
    {
     "name": "stdout",
     "output_type": "stream",
     "text": [
      "We\n",
      "'re\n",
      "here\n",
      "to\n",
      "help\n",
      "!\n",
      "Send\n",
      "snail\n",
      "-\n",
      "mail\n",
      ",\n",
      "email\n",
      "support@oursite.com\n",
      "or\n",
      "visit\n",
      "us\n",
      "at\n",
      "http://www.oursite.com\n",
      "!\n"
     ]
    }
   ],
   "source": [
    "for token in doc4:\n",
    "    print(token.text)"
   ]
  },
  {
   "cell_type": "code",
   "execution_count": 28,
   "id": "f6e8494a",
   "metadata": {},
   "outputs": [
    {
     "data": {
      "text/plain": [
       "We"
      ]
     },
     "execution_count": 28,
     "metadata": {},
     "output_type": "execute_result"
    }
   ],
   "source": [
    "doc4[0]"
   ]
  },
  {
   "cell_type": "code",
   "execution_count": 29,
   "id": "60347380",
   "metadata": {},
   "outputs": [],
   "source": [
    "doc_1 = nlp('يعد الذكاء الإصطناعي من العلوم التي يتسارع التطور فيها بشكل لافت منذ عام 2005 و لمدة 15 ')"
   ]
  },
  {
   "cell_type": "code",
   "execution_count": 31,
   "id": "ebf0eaac",
   "metadata": {},
   "outputs": [
    {
     "name": "stdout",
     "output_type": "stream",
     "text": [
      "يعد\n",
      "الذكاء\n",
      "الإصطناعي\n",
      "من\n",
      "العلوم\n",
      "التي\n",
      "يتسارع\n",
      "التطور\n",
      "فيها\n",
      "بشكل\n",
      "لافت\n",
      "منذ\n",
      "عام\n",
      "2005\n",
      "و\n",
      "لمدة\n",
      "15\n"
     ]
    }
   ],
   "source": [
    "for token in doc_1:\n",
    "    print(token.text)"
   ]
  },
  {
   "cell_type": "code",
   "execution_count": 32,
   "id": "4b4c2a81",
   "metadata": {},
   "outputs": [],
   "source": [
    "doc_2 = nlp(''' \n",
    "أبو عبد الله محمد بن موسى الخوارزمي عالم رياضيات وفلك\n",
    "وجغرافيا مسلم. يكنى باسم الخوارزمي وأبي جعفر. قيل أنه ولد حوالي 164هـ 781م (وهو غير مؤكد) وقيل أنه توفي بعد \n",
    "232 هـ أي (بعد 847م). يعتبر\n",
    "من أوائل علماء الرياضيات المسلمين حيث ساهمت أعماله بدور كبير في تقدم الرياضيات في عصره. اتصل بالخليفة العباسي \n",
    " المأمون وعمل في بيت الحكمة في\n",
    "بغداد وكسب ثقة الخليفة إذ ولاه المأمون بيت الحكمة كما عهد إليه برسم خارطة للأرض عمل فيها أكثر من سبعين جغرافيا. \n",
    "قبل وفاته في 850 م/232 هـ\n",
    "17 \n",
    "كان الخوارزمي قد ترك العديد من المؤلفات في علوم الرياضيات والفلك والجغرافيا ومن أهمها كتاب المختصر في حساب \n",
    "الجبر والمقابلة الذي يعد أهم كتبه\n",
    "''')"
   ]
  },
  {
   "cell_type": "code",
   "execution_count": 33,
   "id": "bc071e03",
   "metadata": {},
   "outputs": [
    {
     "name": "stdout",
     "output_type": "stream",
     "text": [
      " \n",
      "\n",
      "أبو\n",
      "عبد\n",
      "الله\n",
      "محمد\n",
      "بن\n",
      "موسى\n",
      "الخوارزمي\n",
      "عالم\n",
      "رياضيات\n",
      "وفلك\n",
      "\n",
      "\n",
      "وجغرافيا\n",
      "مسلم\n",
      ".\n",
      "يكنى\n",
      "باسم\n",
      "الخوارزمي\n",
      "وأبي\n",
      "جعفر\n",
      ".\n",
      "قيل\n",
      "أنه\n",
      "ولد\n",
      "حوالي\n",
      "164هـ\n",
      "781\n",
      "م\n",
      "(\n",
      "وهو\n",
      "غير\n",
      "مؤكد\n",
      ")\n",
      "وقيل\n",
      "أنه\n",
      "توفي\n",
      "بعد\n",
      "\n",
      "\n",
      "232\n",
      "هـ\n",
      "أي\n",
      "(\n",
      "بعد\n",
      "847\n",
      "م\n",
      ")\n",
      ".\n",
      "يعتبر\n",
      "\n",
      "\n",
      "من\n",
      "أوائل\n",
      "علماء\n",
      "الرياضيات\n",
      "المسلمين\n",
      "حيث\n",
      "ساهمت\n",
      "أعماله\n",
      "بدور\n",
      "كبير\n",
      "في\n",
      "تقدم\n",
      "الرياضيات\n",
      "في\n",
      "عصره\n",
      ".\n",
      "اتصل\n",
      "بالخليفة\n",
      "العباسي\n",
      "\n",
      " \n",
      "المأمون\n",
      "وعمل\n",
      "في\n",
      "بيت\n",
      "الحكمة\n",
      "في\n",
      "\n",
      "\n",
      "بغداد\n",
      "وكسب\n",
      "ثقة\n",
      "الخليفة\n",
      "إذ\n",
      "ولاه\n",
      "المأمون\n",
      "بيت\n",
      "الحكمة\n",
      "كما\n",
      "عهد\n",
      "إليه\n",
      "برسم\n",
      "خارطة\n",
      "للأرض\n",
      "عمل\n",
      "فيها\n",
      "أكثر\n",
      "من\n",
      "سبعين\n",
      "جغرافيا\n",
      ".\n",
      "\n",
      "\n",
      "قبل\n",
      "وفاته\n",
      "في\n",
      "850\n",
      "م/232\n",
      "هـ\n",
      "\n",
      "\n",
      "17\n",
      "\n",
      "\n",
      "كان\n",
      "الخوارزمي\n",
      "قد\n",
      "ترك\n",
      "العديد\n",
      "من\n",
      "المؤلفات\n",
      "في\n",
      "علوم\n",
      "الرياضيات\n",
      "والفلك\n",
      "والجغرافيا\n",
      "ومن\n",
      "أهمها\n",
      "كتاب\n",
      "المختصر\n",
      "في\n",
      "حساب\n",
      "\n",
      "\n",
      "الجبر\n",
      "والمقابلة\n",
      "الذي\n",
      "يعد\n",
      "أهم\n",
      "كتبه\n",
      "\n",
      "\n"
     ]
    }
   ],
   "source": [
    "for token in doc_2:\n",
    "    print(token.text)"
   ]
  },
  {
   "cell_type": "code",
   "execution_count": 34,
   "id": "02f35f0b",
   "metadata": {},
   "outputs": [],
   "source": [
    "sent1 = nlp(u'This is the first sentence. This is another sentence. This is the last sentence.')"
   ]
  },
  {
   "cell_type": "code",
   "execution_count": 36,
   "id": "c9b70a1c",
   "metadata": {},
   "outputs": [
    {
     "name": "stdout",
     "output_type": "stream",
     "text": [
      "This is the first sentence.\n",
      "This is another sentence.\n",
      "This is the last sentence.\n"
     ]
    }
   ],
   "source": [
    "for s in sent1.sents:\n",
    "    print(s)"
   ]
  },
  {
   "cell_type": "code",
   "execution_count": 37,
   "id": "9bff2c9f",
   "metadata": {},
   "outputs": [
    {
     "data": {
      "text/plain": [
       "This"
      ]
     },
     "execution_count": 37,
     "metadata": {},
     "output_type": "execute_result"
    }
   ],
   "source": [
    "sent1[6]"
   ]
  },
  {
   "cell_type": "code",
   "execution_count": 38,
   "id": "4c24bc15",
   "metadata": {},
   "outputs": [
    {
     "data": {
      "text/plain": [
       "True"
      ]
     },
     "execution_count": 38,
     "metadata": {},
     "output_type": "execute_result"
    }
   ],
   "source": [
    "sent1[6].is_sent_start"
   ]
  },
  {
   "cell_type": "code",
   "execution_count": 39,
   "id": "2b92d1ec",
   "metadata": {},
   "outputs": [
    {
     "data": {
      "text/plain": [
       "False"
      ]
     },
     "execution_count": 39,
     "metadata": {},
     "output_type": "execute_result"
    }
   ],
   "source": [
    "sent1[7].is_sent_start"
   ]
  },
  {
   "cell_type": "code",
   "execution_count": 45,
   "id": "2d5348ab",
   "metadata": {},
   "outputs": [
    {
     "data": {
      "text/plain": [
       "This is the first sentence."
      ]
     },
     "execution_count": 45,
     "metadata": {},
     "output_type": "execute_result"
    }
   ],
   "source": [
    "list(sent1.sents)[0]"
   ]
  },
  {
   "cell_type": "code",
   "execution_count": 44,
   "id": "0dfd5b8e",
   "metadata": {},
   "outputs": [
    {
     "data": {
      "text/plain": [
       "6"
      ]
     },
     "execution_count": 44,
     "metadata": {},
     "output_type": "execute_result"
    }
   ],
   "source": [
    "list(sent1.sents)[0].end"
   ]
  },
  {
   "cell_type": "code",
   "execution_count": 47,
   "id": "754da399",
   "metadata": {},
   "outputs": [
    {
     "name": "stdout",
     "output_type": "stream",
     "text": [
      "True  This\n",
      "False  is\n",
      "False  the\n",
      "False  first\n",
      "False  sentence\n",
      "False  .\n",
      "True  This\n",
      "False  is\n",
      "False  another\n",
      "False  sentence\n",
      "False  .\n",
      "True  This\n",
      "False  is\n",
      "False  the\n",
      "False  last\n",
      "False  sentence\n",
      "False  .\n"
     ]
    }
   ],
   "source": [
    "for token in sent1:\n",
    "    print(token.is_sent_start , '' , token.text)"
   ]
  },
  {
   "cell_type": "code",
   "execution_count": 48,
   "id": "f445cd5f",
   "metadata": {},
   "outputs": [],
   "source": [
    "sent2 = nlp(u'\"Management is doing things right; leadership is doing the right things.\" -Peter Drucker')"
   ]
  },
  {
   "cell_type": "code",
   "execution_count": 49,
   "id": "4c0e9b6a",
   "metadata": {},
   "outputs": [
    {
     "name": "stdout",
     "output_type": "stream",
     "text": [
      "\"Management is doing things right; leadership is doing the right things.\"\n",
      "-Peter Drucker\n"
     ]
    }
   ],
   "source": [
    "for s in sent2.sents:\n",
    "    print(s)"
   ]
  },
  {
   "cell_type": "code",
   "execution_count": null,
   "id": "bc64a6d9",
   "metadata": {},
   "outputs": [],
   "source": []
  }
 ],
 "metadata": {
  "kernelspec": {
   "display_name": "Python 3 (ipykernel)",
   "language": "python",
   "name": "python3"
  },
  "language_info": {
   "codemirror_mode": {
    "name": "ipython",
    "version": 3
   },
   "file_extension": ".py",
   "mimetype": "text/x-python",
   "name": "python",
   "nbconvert_exporter": "python",
   "pygments_lexer": "ipython3",
   "version": "3.9.12"
  }
 },
 "nbformat": 4,
 "nbformat_minor": 5
}
