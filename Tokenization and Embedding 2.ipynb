{
 "cells": [
  {
   "cell_type": "code",
   "execution_count": 85,
   "id": "d17cc772",
   "metadata": {},
   "outputs": [],
   "source": [
    "import pandas as pd\n",
    "import numpy as np\n",
    "import tensorflow as tf\n",
    "import nltk\n",
    "import string\n",
    "from nltk import word_tokenize\n",
    "from nltk.corpus import stopwords\n",
    "from nltk.stem import WordNetLemmatizer"
   ]
  },
  {
   "cell_type": "code",
   "execution_count": 86,
   "id": "50c1efeb",
   "metadata": {},
   "outputs": [],
   "source": [
    "stop_words_list = nltk.corpus.stopwords.words(\"english\")\n",
    "lemma_nltk = WordNetLemmatizer()"
   ]
  },
  {
   "cell_type": "code",
   "execution_count": 87,
   "id": "c85a99c0",
   "metadata": {},
   "outputs": [],
   "source": [
    "data = pd.read_csv(\"J:/Data science/data/NLP/disaster/train.csv\")"
   ]
  },
  {
   "cell_type": "code",
   "execution_count": 88,
   "id": "f9446084",
   "metadata": {},
   "outputs": [
    {
     "data": {
      "text/html": [
       "<div>\n",
       "<style scoped>\n",
       "    .dataframe tbody tr th:only-of-type {\n",
       "        vertical-align: middle;\n",
       "    }\n",
       "\n",
       "    .dataframe tbody tr th {\n",
       "        vertical-align: top;\n",
       "    }\n",
       "\n",
       "    .dataframe thead th {\n",
       "        text-align: right;\n",
       "    }\n",
       "</style>\n",
       "<table border=\"1\" class=\"dataframe\">\n",
       "  <thead>\n",
       "    <tr style=\"text-align: right;\">\n",
       "      <th></th>\n",
       "      <th>id</th>\n",
       "      <th>keyword</th>\n",
       "      <th>location</th>\n",
       "      <th>text</th>\n",
       "      <th>target</th>\n",
       "    </tr>\n",
       "  </thead>\n",
       "  <tbody>\n",
       "    <tr>\n",
       "      <th>2644</th>\n",
       "      <td>3796</td>\n",
       "      <td>destruction</td>\n",
       "      <td>NaN</td>\n",
       "      <td>So you have a new weapon that can cause un-ima...</td>\n",
       "      <td>1</td>\n",
       "    </tr>\n",
       "    <tr>\n",
       "      <th>2227</th>\n",
       "      <td>3185</td>\n",
       "      <td>deluge</td>\n",
       "      <td>NaN</td>\n",
       "      <td>The f$&amp;amp;@ing things I do for #GISHWHES Just...</td>\n",
       "      <td>0</td>\n",
       "    </tr>\n",
       "    <tr>\n",
       "      <th>5448</th>\n",
       "      <td>7769</td>\n",
       "      <td>police</td>\n",
       "      <td>UK</td>\n",
       "      <td>DT @georgegalloway: RT @Galloway4Mayor: ÛÏThe...</td>\n",
       "      <td>1</td>\n",
       "    </tr>\n",
       "    <tr>\n",
       "      <th>132</th>\n",
       "      <td>191</td>\n",
       "      <td>aftershock</td>\n",
       "      <td>NaN</td>\n",
       "      <td>Aftershock back to school kick off was great. ...</td>\n",
       "      <td>0</td>\n",
       "    </tr>\n",
       "    <tr>\n",
       "      <th>6845</th>\n",
       "      <td>9810</td>\n",
       "      <td>trauma</td>\n",
       "      <td>Montgomery County, MD</td>\n",
       "      <td>in response to trauma Children of Addicts deve...</td>\n",
       "      <td>0</td>\n",
       "    </tr>\n",
       "  </tbody>\n",
       "</table>\n",
       "</div>"
      ],
      "text/plain": [
       "        id      keyword               location  \\\n",
       "2644  3796  destruction                    NaN   \n",
       "2227  3185       deluge                    NaN   \n",
       "5448  7769       police                     UK   \n",
       "132    191   aftershock                    NaN   \n",
       "6845  9810       trauma  Montgomery County, MD   \n",
       "\n",
       "                                                   text  target  \n",
       "2644  So you have a new weapon that can cause un-ima...       1  \n",
       "2227  The f$&amp;@ing things I do for #GISHWHES Just...       0  \n",
       "5448  DT @georgegalloway: RT @Galloway4Mayor: ÛÏThe...       1  \n",
       "132   Aftershock back to school kick off was great. ...       0  \n",
       "6845  in response to trauma Children of Addicts deve...       0  "
      ]
     },
     "execution_count": 88,
     "metadata": {},
     "output_type": "execute_result"
    }
   ],
   "source": [
    "df = data.sample(frac=1 , random_state=42)\n",
    "df.head()"
   ]
  },
  {
   "cell_type": "code",
   "execution_count": 89,
   "id": "63c51c41",
   "metadata": {},
   "outputs": [
    {
     "data": {
      "text/plain": [
       "(7613, 5)"
      ]
     },
     "execution_count": 89,
     "metadata": {},
     "output_type": "execute_result"
    }
   ],
   "source": [
    "df.shape"
   ]
  },
  {
   "cell_type": "code",
   "execution_count": 90,
   "id": "8edb3681",
   "metadata": {},
   "outputs": [
    {
     "data": {
      "text/plain": [
       "0    4342\n",
       "1    3271\n",
       "Name: target, dtype: int64"
      ]
     },
     "execution_count": 90,
     "metadata": {},
     "output_type": "execute_result"
    }
   ],
   "source": [
    "df.target.value_counts()"
   ]
  },
  {
   "cell_type": "code",
   "execution_count": 91,
   "id": "135bc0a3",
   "metadata": {},
   "outputs": [],
   "source": [
    "def clean_text(text):\n",
    "    text = \"\".join([word.lower() for word in text if word not in string.punctuation])\n",
    "    tokens = word_tokenize(text)\n",
    "    text = \" \".join([lemma_nltk.lemmatize(word) for word in tokens if word not in stop_words_list])\n",
    "    return text"
   ]
  },
  {
   "cell_type": "code",
   "execution_count": 92,
   "id": "8c92e9cc",
   "metadata": {},
   "outputs": [],
   "source": [
    "df['text'] = df['text'].apply(lambda x:clean_text(x))"
   ]
  },
  {
   "cell_type": "code",
   "execution_count": 93,
   "id": "eef40e20",
   "metadata": {},
   "outputs": [],
   "source": [
    "x = df['text']\n",
    "y = df['target']"
   ]
  },
  {
   "cell_type": "code",
   "execution_count": 94,
   "id": "1b25d2de",
   "metadata": {},
   "outputs": [
    {
     "data": {
      "text/plain": [
       "2644            new weapon cause unimaginable destruction\n",
       "2227    famping thing gishwhes got soaked deluge going...\n",
       "5448    dt georgegalloway rt galloway4mayor ûïthe col...\n",
       "132     aftershock back school kick great want thank e...\n",
       "6845    response trauma child addict develop defensive...\n",
       "Name: text, dtype: object"
      ]
     },
     "execution_count": 94,
     "metadata": {},
     "output_type": "execute_result"
    }
   ],
   "source": [
    "x.head()"
   ]
  },
  {
   "cell_type": "code",
   "execution_count": 95,
   "id": "a20aba20",
   "metadata": {},
   "outputs": [
    {
     "data": {
      "text/plain": [
       "2644    1\n",
       "2227    0\n",
       "5448    1\n",
       "132     0\n",
       "6845    0\n",
       "Name: target, dtype: int64"
      ]
     },
     "execution_count": 95,
     "metadata": {},
     "output_type": "execute_result"
    }
   ],
   "source": [
    "y.head()"
   ]
  },
  {
   "cell_type": "code",
   "execution_count": 96,
   "id": "200cdf82",
   "metadata": {},
   "outputs": [],
   "source": [
    "from sklearn.model_selection import train_test_split\n",
    "x_train ,x_test ,y_train ,y_test = train_test_split(x,y,test_size=0.3,random_state=42)"
   ]
  },
  {
   "cell_type": "code",
   "execution_count": 97,
   "id": "21e2d27b",
   "metadata": {},
   "outputs": [
    {
     "data": {
      "text/plain": [
       "53333"
      ]
     },
     "execution_count": 97,
     "metadata": {},
     "output_type": "execute_result"
    }
   ],
   "source": [
    "words = sum([len(i.split()) for i in x_train])\n",
    "words"
   ]
  },
  {
   "cell_type": "code",
   "execution_count": 98,
   "id": "94df1b2c",
   "metadata": {},
   "outputs": [
    {
     "data": {
      "text/plain": [
       "5329"
      ]
     },
     "execution_count": 98,
     "metadata": {},
     "output_type": "execute_result"
    }
   ],
   "source": [
    "len(x_train)"
   ]
  },
  {
   "cell_type": "code",
   "execution_count": 99,
   "id": "04df7745",
   "metadata": {},
   "outputs": [
    {
     "data": {
      "text/plain": [
       "10"
      ]
     },
     "execution_count": 99,
     "metadata": {},
     "output_type": "execute_result"
    }
   ],
   "source": [
    "avg = words / len(x_train)\n",
    "round(avg)"
   ]
  },
  {
   "cell_type": "code",
   "execution_count": 100,
   "id": "481140fe",
   "metadata": {},
   "outputs": [],
   "source": [
    "max_tokens = 10000\n",
    "max_sent_length = 10"
   ]
  },
  {
   "cell_type": "code",
   "execution_count": 101,
   "id": "cc051754",
   "metadata": {},
   "outputs": [],
   "source": [
    "from tensorflow.keras.layers.experimental.preprocessing import TextVectorization\n",
    "text_vector = TextVectorization(max_tokens = max_tokens,\n",
    "                                output_sequence_length=max_sent_length)"
   ]
  },
  {
   "cell_type": "code",
   "execution_count": 102,
   "id": "9f1c33af",
   "metadata": {},
   "outputs": [],
   "source": [
    "text_vector.adapt(x_train)"
   ]
  },
  {
   "cell_type": "code",
   "execution_count": 103,
   "id": "ddc8a82a",
   "metadata": {},
   "outputs": [
    {
     "data": {
      "text/plain": [
       "<tf.Tensor: shape=(1, 10), dtype=int64, numpy=array([[ 1, 57,  1,  0,  0,  0,  0,  0,  0,  0]], dtype=int64)>"
      ]
     },
     "execution_count": 103,
     "metadata": {},
     "output_type": "execute_result"
    }
   ],
   "source": [
    "sample_sent = \"i love you\"\n",
    "text_vector([sample_sent])"
   ]
  },
  {
   "cell_type": "markdown",
   "id": "23428254",
   "metadata": {},
   "source": [
    "# word Ebedding"
   ]
  },
  {
   "cell_type": "code",
   "execution_count": 104,
   "id": "1d5f3931",
   "metadata": {},
   "outputs": [
    {
     "data": {
      "text/plain": [
       "<keras.layers.core.embedding.Embedding at 0x2528bd9d3a0>"
      ]
     },
     "execution_count": 104,
     "metadata": {},
     "output_type": "execute_result"
    }
   ],
   "source": [
    "from tensorflow.keras import layers\n",
    "tf.random.set_seed(42)\n",
    "embedding = layers.Embedding(input_dim=max_tokens,\n",
    "                             input_length=max_sent_length,\n",
    "                             output_dim = 128,\n",
    "                             name = \"Embedding_1\"\n",
    "                             )\n",
    "embedding"
   ]
  },
  {
   "cell_type": "code",
   "execution_count": 105,
   "id": "9824ccd5",
   "metadata": {},
   "outputs": [
    {
     "data": {
      "text/plain": [
       "<tf.Tensor: shape=(1, 10, 128), dtype=float32, numpy=\n",
       "array([[[ 0.03567096,  0.02025517,  0.04264439, ..., -0.03750698,\n",
       "         -0.01763681,  0.04190821],\n",
       "        [ 0.01363448,  0.01463579, -0.00829039, ...,  0.02082897,\n",
       "         -0.0216069 ,  0.00767861],\n",
       "        [-0.01808893,  0.03785774, -0.00993693, ...,  0.01176222,\n",
       "         -0.03872883, -0.0382408 ],\n",
       "        ...,\n",
       "        [-0.01238489, -0.01569571,  0.04614357, ...,  0.00714378,\n",
       "         -0.04799243, -0.04700608],\n",
       "        [ 0.00593823,  0.03414381, -0.03037226, ..., -0.04380504,\n",
       "          0.00468301, -0.03307756],\n",
       "        [ 0.03977952, -0.03782602, -0.03646283, ...,  0.00236253,\n",
       "          0.03332629,  0.02803668]]], dtype=float32)>"
      ]
     },
     "execution_count": 105,
     "metadata": {},
     "output_type": "execute_result"
    }
   ],
   "source": [
    "import random\n",
    "random_sent = random.choice(x_train)\n",
    "sample_embedding = embedding(text_vector([random_sent]))\n",
    "sample_embedding"
   ]
  },
  {
   "cell_type": "code",
   "execution_count": 106,
   "id": "2906e644",
   "metadata": {},
   "outputs": [
    {
     "data": {
      "text/plain": [
       "<tf.Tensor: shape=(10, 128), dtype=float32, numpy=\n",
       "array([[ 0.03567096,  0.02025517,  0.04264439, ..., -0.03750698,\n",
       "        -0.01763681,  0.04190821],\n",
       "       [ 0.01363448,  0.01463579, -0.00829039, ...,  0.02082897,\n",
       "        -0.0216069 ,  0.00767861],\n",
       "       [-0.01808893,  0.03785774, -0.00993693, ...,  0.01176222,\n",
       "        -0.03872883, -0.0382408 ],\n",
       "       ...,\n",
       "       [-0.01238489, -0.01569571,  0.04614357, ...,  0.00714378,\n",
       "        -0.04799243, -0.04700608],\n",
       "       [ 0.00593823,  0.03414381, -0.03037226, ..., -0.04380504,\n",
       "         0.00468301, -0.03307756],\n",
       "       [ 0.03977952, -0.03782602, -0.03646283, ...,  0.00236253,\n",
       "         0.03332629,  0.02803668]], dtype=float32)>"
      ]
     },
     "execution_count": 106,
     "metadata": {},
     "output_type": "execute_result"
    }
   ],
   "source": [
    "sample_embedding[0]"
   ]
  },
  {
   "cell_type": "code",
   "execution_count": 107,
   "id": "425a1549",
   "metadata": {},
   "outputs": [
    {
     "data": {
      "text/plain": [
       "<tf.Tensor: shape=(128,), dtype=float32, numpy=\n",
       "array([ 0.03567096,  0.02025517,  0.04264439,  0.02908177, -0.01494061,\n",
       "        0.04725884, -0.02846882, -0.04813309,  0.01245219, -0.03131226,\n",
       "        0.01051384,  0.04916995, -0.03936596,  0.00277791,  0.03728781,\n",
       "        0.0211118 ,  0.04353425, -0.01747558,  0.0106712 , -0.01926885,\n",
       "       -0.00797834,  0.04189848, -0.00493519,  0.04509734, -0.02319825,\n",
       "       -0.02310714,  0.04454556,  0.04610752,  0.00197711, -0.00327367,\n",
       "       -0.02855313, -0.04643349, -0.01936264, -0.01700542, -0.02423441,\n",
       "       -0.03488116, -0.00625985,  0.0282595 , -0.02348395, -0.04004522,\n",
       "       -0.01669728, -0.01591397, -0.0194787 , -0.00074703, -0.002533  ,\n",
       "       -0.01032245, -0.03525096, -0.00737032, -0.04728321, -0.04323356,\n",
       "       -0.00975309, -0.02156738, -0.0441628 ,  0.02443285, -0.0375182 ,\n",
       "       -0.00805396,  0.04794754, -0.01009747, -0.04560684,  0.03612586,\n",
       "        0.04411975, -0.04938265,  0.00379644,  0.04981407, -0.01356051,\n",
       "        0.03948248, -0.02090982, -0.02633299, -0.01027896,  0.0189605 ,\n",
       "        0.02042842, -0.02164384, -0.04384836, -0.02396303,  0.01242731,\n",
       "        0.03361944, -0.04314416, -0.00133848,  0.01224115, -0.00982654,\n",
       "        0.01359935, -0.01335553,  0.04124352, -0.00186599,  0.01203624,\n",
       "       -0.00892077,  0.01536312, -0.01355494, -0.03958027, -0.02774072,\n",
       "        0.0368934 , -0.01004919,  0.0403716 ,  0.00454277,  0.01070368,\n",
       "        0.00887835,  0.02192514,  0.04902479, -0.00873668,  0.02979692,\n",
       "        0.00598671, -0.01018921, -0.02723454,  0.00192185,  0.02512565,\n",
       "        0.04232178,  0.04245839, -0.0210861 ,  0.0233827 ,  0.00448527,\n",
       "       -0.03528678,  0.01306227,  0.04011861,  0.03344605,  0.02477494,\n",
       "       -0.03847627, -0.01736026, -0.01082452, -0.00700214, -0.03213158,\n",
       "       -0.00901481,  0.03123954, -0.02224764,  0.03240405,  0.00959424,\n",
       "       -0.03750698, -0.01763681,  0.04190821], dtype=float32)>"
      ]
     },
     "execution_count": 107,
     "metadata": {},
     "output_type": "execute_result"
    }
   ],
   "source": [
    "sample_embedding[0][0]"
   ]
  },
  {
   "cell_type": "code",
   "execution_count": 108,
   "id": "cc75f1c2",
   "metadata": {},
   "outputs": [],
   "source": [
    "from sklearn.naive_bayes import MultinomialNB\n",
    "from sklearn.metrics import confusion_matrix ,accuracy_score,precision_recall_fscore_support\n",
    "from sklearn.pipeline import Pipeline\n",
    "from sklearn.feature_extraction.text import TfidfVectorizer"
   ]
  },
  {
   "cell_type": "code",
   "execution_count": 109,
   "id": "55329246",
   "metadata": {},
   "outputs": [
    {
     "data": {
      "text/plain": [
       "Pipeline(steps=[('tfidf', TfidfVectorizer()), ('nb', MultinomialNB())])"
      ]
     },
     "execution_count": 109,
     "metadata": {},
     "output_type": "execute_result"
    }
   ],
   "source": [
    "model_0 = Pipeline([\n",
    "                    (\"tfidf\" , TfidfVectorizer()),\n",
    "                    (\"nb\" , MultinomialNB())\n",
    "])\n",
    "model_0.fit(x_train,y_train)"
   ]
  },
  {
   "cell_type": "code",
   "execution_count": 110,
   "id": "994eacd3",
   "metadata": {},
   "outputs": [
    {
     "data": {
      "text/plain": [
       "array([0, 1, 1, 0, 0, 1, 1, 1, 1, 0], dtype=int64)"
      ]
     },
     "execution_count": 110,
     "metadata": {},
     "output_type": "execute_result"
    }
   ],
   "source": [
    "y_pred = model_0.predict(x_test)\n",
    "y_pred[:10]"
   ]
  },
  {
   "cell_type": "code",
   "execution_count": 111,
   "id": "3327b6f7",
   "metadata": {},
   "outputs": [
    {
     "data": {
      "text/plain": [
       "0.7915936952714536"
      ]
     },
     "execution_count": 111,
     "metadata": {},
     "output_type": "execute_result"
    }
   ],
   "source": [
    "score_naive = accuracy_score(y_test,y_pred)\n",
    "score_naive"
   ]
  },
  {
   "cell_type": "code",
   "execution_count": 112,
   "id": "c0dbe3c3",
   "metadata": {},
   "outputs": [],
   "source": [
    "def calculate_results(y_test,y_pred):\n",
    "    model_acc = accuracy_score(y_test,y_pred)*100\n",
    "    model_precition , model_recall , model_f1, _ = precision_recall_fscore_support(y_test,\n",
    "                                                                                  y_pred,\n",
    "                                                                                  average=\"weighted\")\n",
    "    model_results = {\"accuracy\" : model_acc,\n",
    "                     \"precition\" : model_precition,\n",
    "                     \"recall\" : model_recall,\n",
    "                     \"f1_score\" : model_f1}\n",
    "    return model_results"
   ]
  },
  {
   "cell_type": "code",
   "execution_count": 113,
   "id": "bebb090d",
   "metadata": {},
   "outputs": [
    {
     "data": {
      "text/plain": [
       "{'accuracy': 79.15936952714536,\n",
       " 'precition': 0.8057580492418782,\n",
       " 'recall': 0.7915936952714536,\n",
       " 'f1_score': 0.785415143145281}"
      ]
     },
     "execution_count": 113,
     "metadata": {},
     "output_type": "execute_result"
    }
   ],
   "source": [
    "baseline_model = calculate_results(y_test,y_pred)\n",
    "baseline_model"
   ]
  },
  {
   "cell_type": "code",
   "execution_count": 114,
   "id": "10348fb1",
   "metadata": {},
   "outputs": [
    {
     "data": {
      "text/plain": [
       "2644            new weapon cause unimaginable destruction\n",
       "2227    famping thing gishwhes got soaked deluge going...\n",
       "5448    dt georgegalloway rt galloway4mayor ûïthe col...\n",
       "132     aftershock back school kick great want thank e...\n",
       "6845    response trauma child addict develop defensive...\n",
       "Name: text, dtype: object"
      ]
     },
     "execution_count": 114,
     "metadata": {},
     "output_type": "execute_result"
    }
   ],
   "source": [
    "x.head()"
   ]
  },
  {
   "cell_type": "code",
   "execution_count": 115,
   "id": "474503f4",
   "metadata": {},
   "outputs": [
    {
     "data": {
      "text/plain": [
       "2470    modiministry railway minister prabhu call mp d...\n",
       "3455    man squeeze another man head bare hand literal...\n",
       "1977    drug alcohol jackson vroman house httptco5oqhq...\n",
       "7216    danagould waynesteratl agree background check ...\n",
       "1028    know hate body buy 2 bag chip variety pack fru...\n",
       "Name: text, dtype: object"
      ]
     },
     "execution_count": 115,
     "metadata": {},
     "output_type": "execute_result"
    }
   ],
   "source": [
    "x_train.head()"
   ]
  },
  {
   "cell_type": "code",
   "execution_count": 116,
   "id": "93131f91",
   "metadata": {},
   "outputs": [
    {
     "data": {
      "text/plain": [
       "<tf.Tensor: shape=(7613, 10), dtype=int64, numpy=\n",
       "array([[  10,   73,  171, ...,    0,    0,    0],\n",
       "       [   1,  126,    1, ..., 7718, 6029, 1718],\n",
       "       [4437,    1,   50, ..., 1938, 7573, 8756],\n",
       "       ...,\n",
       "       [7850,    1, 1657, ...,  881, 4666, 3036],\n",
       "       [ 177,   26,  363, ..., 1158,  575,    1],\n",
       "       [1806, 1898, 2329, ...,   15,    1,    0]], dtype=int64)>"
      ]
     },
     "execution_count": 116,
     "metadata": {},
     "output_type": "execute_result"
    }
   ],
   "source": [
    "text_vector(x)"
   ]
  },
  {
   "cell_type": "code",
   "execution_count": 128,
   "id": "6c9c0d54",
   "metadata": {},
   "outputs": [],
   "source": [
    "from tensorflow.keras import layers\n",
    "inputs = layers.Input(shape=(1,) , dtype=\"string\")\n",
    "x = text_vector(inputs)\n",
    "x = embedding(x)\n",
    "x = layers.GlobalAveragePooling1D()(x)\n",
    "outputs = layers.Dense(1, activation=\"sigmoid\")(x)\n",
    "model_1 = tf.keras.Model(inputs,outputs , name=\"model_1_dense\")"
   ]
  },
  {
   "cell_type": "code",
   "execution_count": 129,
   "id": "e5982e5f",
   "metadata": {},
   "outputs": [],
   "source": [
    "model_1.compile(loss = tf.keras.losses.binary_crossentropy,\n",
    "                optimizer = tf.keras.optimizers.Adam(),\n",
    "                metrics = [\"accuracy\"])"
   ]
  },
  {
   "cell_type": "code",
   "execution_count": 130,
   "id": "ee9eecea",
   "metadata": {},
   "outputs": [
    {
     "name": "stdout",
     "output_type": "stream",
     "text": [
      "Model: \"model_1_dense\"\n",
      "_________________________________________________________________\n",
      " Layer (type)                Output Shape              Param #   \n",
      "=================================================================\n",
      " input_8 (InputLayer)        [(None, 1)]               0         \n",
      "                                                                 \n",
      " text_vectorization_1 (TextV  (None, 10)               0         \n",
      " ectorization)                                                   \n",
      "                                                                 \n",
      " Embedding_1 (Embedding)     (None, 10, 128)           1280000   \n",
      "                                                                 \n",
      " global_average_pooling1d_4   (None, 128)              0         \n",
      " (GlobalAveragePooling1D)                                        \n",
      "                                                                 \n",
      " dense_4 (Dense)             (None, 1)                 129       \n",
      "                                                                 \n",
      "=================================================================\n",
      "Total params: 1,280,129\n",
      "Trainable params: 1,280,129\n",
      "Non-trainable params: 0\n",
      "_________________________________________________________________\n"
     ]
    }
   ],
   "source": [
    "model_1.summary()"
   ]
  },
  {
   "cell_type": "code",
   "execution_count": 132,
   "id": "65693349",
   "metadata": {},
   "outputs": [
    {
     "name": "stdout",
     "output_type": "stream",
     "text": [
      "Epoch 1/5\n",
      "167/167 [==============================] - 6s 18ms/step - loss: 0.6259 - accuracy: 0.7016\n",
      "Epoch 2/5\n",
      "167/167 [==============================] - 3s 18ms/step - loss: 0.4507 - accuracy: 0.8287\n",
      "Epoch 3/5\n",
      "167/167 [==============================] - 3s 18ms/step - loss: 0.3265 - accuracy: 0.8831\n",
      "Epoch 4/5\n",
      "167/167 [==============================] - 3s 18ms/step - loss: 0.2526 - accuracy: 0.9120\n",
      "Epoch 5/5\n",
      "167/167 [==============================] - 3s 18ms/step - loss: 0.2012 - accuracy: 0.9324\n"
     ]
    },
    {
     "data": {
      "text/plain": [
       "<keras.callbacks.History at 0x2528d685760>"
      ]
     },
     "execution_count": 132,
     "metadata": {},
     "output_type": "execute_result"
    }
   ],
   "source": [
    "model_1_history = model_1.fit(x_train,y_train,epochs=5)\n",
    "model_1_history"
   ]
  },
  {
   "cell_type": "code",
   "execution_count": 136,
   "id": "47a835c6",
   "metadata": {},
   "outputs": [
    {
     "name": "stdout",
     "output_type": "stream",
     "text": [
      "72/72 [==============================] - 0s 1ms/step - loss: 0.4878 - accuracy: 0.7925\n"
     ]
    },
    {
     "data": {
      "text/plain": [
       "[0.48780906200408936, 0.792469322681427]"
      ]
     },
     "execution_count": 136,
     "metadata": {},
     "output_type": "execute_result"
    }
   ],
   "source": [
    "model_1.evaluate(x_test,y_test)"
   ]
  },
  {
   "cell_type": "code",
   "execution_count": 134,
   "id": "20c44a57",
   "metadata": {},
   "outputs": [
    {
     "data": {
      "text/plain": [
       "0.7915936952714536"
      ]
     },
     "execution_count": 134,
     "metadata": {},
     "output_type": "execute_result"
    }
   ],
   "source": [
    "score_model_1 = calculate_results(y_test,y_pred)\n",
    "score_naive"
   ]
  },
  {
   "cell_type": "code",
   "execution_count": 137,
   "id": "161fac4f",
   "metadata": {},
   "outputs": [
    {
     "name": "stdout",
     "output_type": "stream",
     "text": [
      "72/72 [==============================] - 0s 945us/step\n"
     ]
    },
    {
     "data": {
      "text/plain": [
       "array([[0.58484423],\n",
       "       [0.9150744 ],\n",
       "       [0.9907011 ],\n",
       "       [0.08557672],\n",
       "       [0.04157984]], dtype=float32)"
      ]
     },
     "execution_count": 137,
     "metadata": {},
     "output_type": "execute_result"
    }
   ],
   "source": [
    "model_1_pred_probs = model_1.predict(x_test)\n",
    "model_1_pred_probs[:5]"
   ]
  },
  {
   "cell_type": "code",
   "execution_count": 143,
   "id": "295abaa3",
   "metadata": {},
   "outputs": [
    {
     "data": {
      "text/plain": [
       "<tf.Tensor: shape=(20,), dtype=float32, numpy=\n",
       "array([1., 1., 1., 0., 0., 1., 1., 1., 1., 0., 0., 0., 0., 0., 0., 0., 0.,\n",
       "       0., 0., 1.], dtype=float32)>"
      ]
     },
     "execution_count": 143,
     "metadata": {},
     "output_type": "execute_result"
    }
   ],
   "source": [
    "model_1_preds = tf.squeeze(tf.round(model_1_pred_probs))\n",
    "# squeeze removes single dimensions\n",
    "model_1_preds[:20]"
   ]
  },
  {
   "cell_type": "code",
   "execution_count": 147,
   "id": "0242a266",
   "metadata": {},
   "outputs": [
    {
     "data": {
      "text/plain": [
       "{'accuracy': 79.24693520140104,\n",
       " 'precition': 0.7943083059920605,\n",
       " 'recall': 0.7924693520140105,\n",
       " 'f1_score': 0.7903047845302098}"
      ]
     },
     "execution_count": 147,
     "metadata": {},
     "output_type": "execute_result"
    }
   ],
   "source": [
    "score_model_1 = calculate_results(y_test,model_1_preds)\n",
    "score_model_1"
   ]
  },
  {
   "cell_type": "code",
   "execution_count": 148,
   "id": "36e42425",
   "metadata": {},
   "outputs": [],
   "source": [
    "def compare_baseline_to_new_results(baseline_results, new_model_results):\n",
    "    for key, value in baseline_results.items():\n",
    "        print(f\"Baseline {key}: {value:.2f}, New {key}: {new_model_results[key]:.2f}, Difference: {new_model_results[key]-value:.2f}\")"
   ]
  },
  {
   "cell_type": "code",
   "execution_count": 152,
   "id": "c8c07a61",
   "metadata": {},
   "outputs": [
    {
     "name": "stdout",
     "output_type": "stream",
     "text": [
      "Baseline accuracy: 79.16, New accuracy: 79.25, Difference: 0.09\n",
      "Baseline precition: 0.81, New precition: 0.79, Difference: -0.01\n",
      "Baseline recall: 0.79, New recall: 0.79, Difference: 0.00\n",
      "Baseline f1_score: 0.79, New f1_score: 0.79, Difference: 0.00\n"
     ]
    }
   ],
   "source": [
    "compare_baseline_to_new_results(baseline_results=baseline_model, new_model_results=score_model_1)"
   ]
  },
  {
   "cell_type": "code",
   "execution_count": null,
   "id": "4ff29e40",
   "metadata": {},
   "outputs": [],
   "source": []
  }
 ],
 "metadata": {
  "kernelspec": {
   "display_name": "Python 3 (ipykernel)",
   "language": "python",
   "name": "python3"
  },
  "language_info": {
   "codemirror_mode": {
    "name": "ipython",
    "version": 3
   },
   "file_extension": ".py",
   "mimetype": "text/x-python",
   "name": "python",
   "nbconvert_exporter": "python",
   "pygments_lexer": "ipython3",
   "version": "3.9.12"
  }
 },
 "nbformat": 4,
 "nbformat_minor": 5
}
