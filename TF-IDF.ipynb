{
 "cells": [
  {
   "cell_type": "code",
   "execution_count": 51,
   "id": "74a33f86",
   "metadata": {},
   "outputs": [],
   "source": [
    "allsentences = [\"Joe waited for the train\", \n",
    " \"The train was late\", \n",
    " \"Mary and Samantha took the bus\", \n",
    " \"I looked for Mary and Samantha at the bus station\", \n",
    " \"Mary and Samantha arrived at the bus station early but waited until noon for the bus\"] "
   ]
  },
  {
   "cell_type": "code",
   "execution_count": 52,
   "id": "e8227e92",
   "metadata": {},
   "outputs": [],
   "source": [
    "from sklearn.feature_extraction.text import TfidfVectorizer"
   ]
  },
  {
   "cell_type": "code",
   "execution_count": 53,
   "id": "b696f40a",
   "metadata": {},
   "outputs": [],
   "source": [
    "tfidf = TfidfVectorizer(stop_words='english')"
   ]
  },
  {
   "cell_type": "code",
   "execution_count": 54,
   "id": "01b494de",
   "metadata": {},
   "outputs": [],
   "source": [
    "tfidf_matrix = tfidf.fit_transform(allsentences)"
   ]
  },
  {
   "cell_type": "code",
   "execution_count": 55,
   "id": "de8b4a65",
   "metadata": {},
   "outputs": [
    {
     "name": "stderr",
     "output_type": "stream",
     "text": [
      "C:\\Users\\Abdelrahman\\anaconda3\\lib\\site-packages\\sklearn\\utils\\deprecation.py:87: FutureWarning: Function get_feature_names is deprecated; get_feature_names is deprecated in 1.0 and will be removed in 1.2. Please use get_feature_names_out instead.\n",
      "  warnings.warn(msg, category=FutureWarning)\n"
     ]
    },
    {
     "data": {
      "text/plain": [
       "['arrived',\n",
       " 'bus',\n",
       " 'early',\n",
       " 'joe',\n",
       " 'late',\n",
       " 'looked',\n",
       " 'mary',\n",
       " 'noon',\n",
       " 'samantha',\n",
       " 'station',\n",
       " 'took',\n",
       " 'train',\n",
       " 'waited']"
      ]
     },
     "execution_count": 55,
     "metadata": {},
     "output_type": "execute_result"
    }
   ],
   "source": [
    "tfidf.get_feature_names()"
   ]
  },
  {
   "cell_type": "code",
   "execution_count": 56,
   "id": "afe10c38",
   "metadata": {},
   "outputs": [
    {
     "data": {
      "text/plain": [
       "array([[0.        , 0.        , 0.        , 0.659118  , 0.        ,\n",
       "        0.        , 0.        , 0.        , 0.        , 0.        ,\n",
       "        0.        , 0.53177225, 0.53177225],\n",
       "       [0.        , 0.        , 0.        , 0.        , 0.77828292,\n",
       "        0.        , 0.        , 0.        , 0.        , 0.        ,\n",
       "        0.        , 0.62791376, 0.        ],\n",
       "       [0.        , 0.43728676, 0.        , 0.        , 0.        ,\n",
       "        0.        , 0.43728676, 0.        , 0.43728676, 0.        ,\n",
       "        0.65294782, 0.        , 0.        ],\n",
       "       [0.        , 0.38688672, 0.        , 0.        , 0.        ,\n",
       "        0.57769148, 0.38688672, 0.        , 0.38688672, 0.46607785,\n",
       "        0.        , 0.        , 0.        ],\n",
       "       [0.37815591, 0.50651084, 0.37815591, 0.        , 0.        ,\n",
       "        0.        , 0.25325542, 0.37815591, 0.25325542, 0.30509381,\n",
       "        0.        , 0.        , 0.30509381]])"
      ]
     },
     "execution_count": 56,
     "metadata": {},
     "output_type": "execute_result"
    }
   ],
   "source": [
    "tfidf_matrix.toarray()"
   ]
  },
  {
   "cell_type": "code",
   "execution_count": 57,
   "id": "01f9910f",
   "metadata": {},
   "outputs": [
    {
     "data": {
      "text/plain": [
       "(5, 13)"
      ]
     },
     "execution_count": 57,
     "metadata": {},
     "output_type": "execute_result"
    }
   ],
   "source": [
    "tfidf_matrix.shape"
   ]
  },
  {
   "cell_type": "code",
   "execution_count": 58,
   "id": "793c8a1e",
   "metadata": {},
   "outputs": [],
   "source": [
    "import pandas as pd"
   ]
  },
  {
   "cell_type": "code",
   "execution_count": 59,
   "id": "77f04b47",
   "metadata": {},
   "outputs": [],
   "source": [
    "documentA = 'the man went out for a walk' \n",
    "documentB = 'the children sat around the fire'"
   ]
  },
  {
   "cell_type": "code",
   "execution_count": 60,
   "id": "9bda4353",
   "metadata": {},
   "outputs": [],
   "source": [
    "tfidf = TfidfVectorizer(stop_words='english')"
   ]
  },
  {
   "cell_type": "code",
   "execution_count": 61,
   "id": "766cef94",
   "metadata": {},
   "outputs": [],
   "source": [
    "tfidf_matrix = tfidf.fit_transform([documentA,documentB])"
   ]
  },
  {
   "cell_type": "code",
   "execution_count": 62,
   "id": "12bdca49",
   "metadata": {
    "scrolled": true
   },
   "outputs": [
    {
     "data": {
      "text/html": [
       "<div>\n",
       "<style scoped>\n",
       "    .dataframe tbody tr th:only-of-type {\n",
       "        vertical-align: middle;\n",
       "    }\n",
       "\n",
       "    .dataframe tbody tr th {\n",
       "        vertical-align: top;\n",
       "    }\n",
       "\n",
       "    .dataframe thead th {\n",
       "        text-align: right;\n",
       "    }\n",
       "</style>\n",
       "<table border=\"1\" class=\"dataframe\">\n",
       "  <thead>\n",
       "    <tr style=\"text-align: right;\">\n",
       "      <th></th>\n",
       "      <th>0</th>\n",
       "      <th>1</th>\n",
       "      <th>2</th>\n",
       "      <th>3</th>\n",
       "      <th>4</th>\n",
       "    </tr>\n",
       "  </thead>\n",
       "  <tbody>\n",
       "    <tr>\n",
       "      <th>0</th>\n",
       "      <td>0.000000</td>\n",
       "      <td>0.57735</td>\n",
       "      <td>0.000000</td>\n",
       "      <td>0.57735</td>\n",
       "      <td>0.57735</td>\n",
       "    </tr>\n",
       "    <tr>\n",
       "      <th>1</th>\n",
       "      <td>0.707107</td>\n",
       "      <td>0.00000</td>\n",
       "      <td>0.707107</td>\n",
       "      <td>0.00000</td>\n",
       "      <td>0.00000</td>\n",
       "    </tr>\n",
       "  </tbody>\n",
       "</table>\n",
       "</div>"
      ],
      "text/plain": [
       "          0        1         2        3        4\n",
       "0  0.000000  0.57735  0.000000  0.57735  0.57735\n",
       "1  0.707107  0.00000  0.707107  0.00000  0.00000"
      ]
     },
     "execution_count": 62,
     "metadata": {},
     "output_type": "execute_result"
    }
   ],
   "source": [
    "tfidf_matrix = pd.DataFrame.sparse.from_spmatrix(tfidf_matrix)\n",
    "tfidf_matrix"
   ]
  },
  {
   "cell_type": "code",
   "execution_count": 64,
   "id": "2fbadc56",
   "metadata": {},
   "outputs": [
    {
     "name": "stderr",
     "output_type": "stream",
     "text": [
      "C:\\Users\\Abdelrahman\\anaconda3\\lib\\site-packages\\sklearn\\utils\\deprecation.py:87: FutureWarning: Function get_feature_names is deprecated; get_feature_names is deprecated in 1.0 and will be removed in 1.2. Please use get_feature_names_out instead.\n",
      "  warnings.warn(msg, category=FutureWarning)\n"
     ]
    },
    {
     "data": {
      "text/plain": [
       "['children', 'man', 'sat', 'walk', 'went']"
      ]
     },
     "execution_count": 64,
     "metadata": {},
     "output_type": "execute_result"
    }
   ],
   "source": [
    "tfidf.get_feature_names()"
   ]
  },
  {
   "cell_type": "code",
   "execution_count": null,
   "id": "624cde60",
   "metadata": {},
   "outputs": [],
   "source": [
    "# dense = tfidf_matrix.todense() \n",
    "# dense"
   ]
  },
  {
   "cell_type": "code",
   "execution_count": null,
   "id": "9bb03a23",
   "metadata": {},
   "outputs": [],
   "source": [
    "# denselist = dense.tolist()\n",
    "# denselist"
   ]
  },
  {
   "cell_type": "code",
   "execution_count": null,
   "id": "05a70ecf",
   "metadata": {},
   "outputs": [],
   "source": [
    "# df = pd.DataFrame(denselist, columns=tfidf.get_feature_names()) \n",
    "# df.head() "
   ]
  },
  {
   "cell_type": "code",
   "execution_count": null,
   "id": "a4cf9d6f",
   "metadata": {},
   "outputs": [],
   "source": [
    "# df.shape"
   ]
  },
  {
   "cell_type": "code",
   "execution_count": null,
   "id": "15343a69",
   "metadata": {},
   "outputs": [],
   "source": []
  }
 ],
 "metadata": {
  "kernelspec": {
   "display_name": "Python 3 (ipykernel)",
   "language": "python",
   "name": "python3"
  },
  "language_info": {
   "codemirror_mode": {
    "name": "ipython",
    "version": 3
   },
   "file_extension": ".py",
   "mimetype": "text/x-python",
   "name": "python",
   "nbconvert_exporter": "python",
   "pygments_lexer": "ipython3",
   "version": "3.9.12"
  }
 },
 "nbformat": 4,
 "nbformat_minor": 5
}
