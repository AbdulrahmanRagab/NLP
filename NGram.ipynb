{
 "cells": [
  {
   "cell_type": "code",
   "execution_count": 5,
   "id": "26a3cf31",
   "metadata": {},
   "outputs": [],
   "source": [
    "import nltk\n",
    "from nltk.util import ngrams\n",
    "from nltk.tokenize import word_tokenize"
   ]
  },
  {
   "cell_type": "code",
   "execution_count": 2,
   "id": "81e152c7",
   "metadata": {},
   "outputs": [],
   "source": [
    "text = \"moses supposes his toeses are roses but moses supposes erroneously\""
   ]
  },
  {
   "cell_type": "code",
   "execution_count": 3,
   "id": "8fceef47",
   "metadata": {},
   "outputs": [
    {
     "name": "stdout",
     "output_type": "stream",
     "text": [
      "('m', 'o')\n",
      "('o', 's')\n",
      "('s', 'e')\n",
      "('e', 's')\n",
      "('s', ' ')\n",
      "(' ', 's')\n",
      "('s', 'u')\n",
      "('u', 'p')\n",
      "('p', 'p')\n",
      "('p', 'o')\n",
      "('o', 's')\n",
      "('s', 'e')\n",
      "('e', 's')\n",
      "('s', ' ')\n",
      "(' ', 'h')\n",
      "('h', 'i')\n",
      "('i', 's')\n",
      "('s', ' ')\n",
      "(' ', 't')\n",
      "('t', 'o')\n",
      "('o', 'e')\n",
      "('e', 's')\n",
      "('s', 'e')\n",
      "('e', 's')\n",
      "('s', ' ')\n",
      "(' ', 'a')\n",
      "('a', 'r')\n",
      "('r', 'e')\n",
      "('e', ' ')\n",
      "(' ', 'r')\n",
      "('r', 'o')\n",
      "('o', 's')\n",
      "('s', 'e')\n",
      "('e', 's')\n",
      "('s', ' ')\n",
      "(' ', 'b')\n",
      "('b', 'u')\n",
      "('u', 't')\n",
      "('t', ' ')\n",
      "(' ', 'm')\n",
      "('m', 'o')\n",
      "('o', 's')\n",
      "('s', 'e')\n",
      "('e', 's')\n",
      "('s', ' ')\n",
      "(' ', 's')\n",
      "('s', 'u')\n",
      "('u', 'p')\n",
      "('p', 'p')\n",
      "('p', 'o')\n",
      "('o', 's')\n",
      "('s', 'e')\n",
      "('e', 's')\n",
      "('s', ' ')\n",
      "(' ', 'e')\n",
      "('e', 'r')\n",
      "('r', 'r')\n",
      "('r', 'o')\n",
      "('o', 'n')\n",
      "('n', 'e')\n",
      "('e', 'o')\n",
      "('o', 'u')\n",
      "('u', 's')\n",
      "('s', 'l')\n",
      "('l', 'y')\n"
     ]
    }
   ],
   "source": [
    "bigram = ngrams(text,2)\n",
    "for i in bigram:\n",
    "    print(i)"
   ]
  },
  {
   "cell_type": "code",
   "execution_count": 7,
   "id": "058a5544",
   "metadata": {},
   "outputs": [
    {
     "name": "stdout",
     "output_type": "stream",
     "text": [
      "moses supposes his toeses are roses but moses supposes erroneously\n",
      "('moses', 'supposes')\n",
      "('supposes', 'his')\n",
      "('his', 'toeses')\n",
      "('toeses', 'are')\n",
      "('are', 'roses')\n",
      "('roses', 'but')\n",
      "('but', 'moses')\n",
      "('moses', 'supposes')\n",
      "('supposes', 'erroneously')\n"
     ]
    }
   ],
   "source": [
    "print(text)\n",
    "bigram = ngrams(word_tokenize(text) , 2)\n",
    "for i in bigram:\n",
    "    print(i)"
   ]
  },
  {
   "cell_type": "code",
   "execution_count": 8,
   "id": "586c4d96",
   "metadata": {},
   "outputs": [
    {
     "name": "stdout",
     "output_type": "stream",
     "text": [
      "moses supposes his toeses are roses but moses supposes erroneously\n",
      "('moses', 'supposes', 'his')\n",
      "('supposes', 'his', 'toeses')\n",
      "('his', 'toeses', 'are')\n",
      "('toeses', 'are', 'roses')\n",
      "('are', 'roses', 'but')\n",
      "('roses', 'but', 'moses')\n",
      "('but', 'moses', 'supposes')\n",
      "('moses', 'supposes', 'erroneously')\n"
     ]
    }
   ],
   "source": [
    "print(text)\n",
    "trigram = ngrams(word_tokenize(text) , 3)\n",
    "for i in trigram:\n",
    "    print(i)"
   ]
  },
  {
   "cell_type": "code",
   "execution_count": null,
   "id": "c4b9d499",
   "metadata": {},
   "outputs": [],
   "source": []
  }
 ],
 "metadata": {
  "kernelspec": {
   "display_name": "Python 3 (ipykernel)",
   "language": "python",
   "name": "python3"
  },
  "language_info": {
   "codemirror_mode": {
    "name": "ipython",
    "version": 3
   },
   "file_extension": ".py",
   "mimetype": "text/x-python",
   "name": "python",
   "nbconvert_exporter": "python",
   "pygments_lexer": "ipython3",
   "version": "3.9.12"
  }
 },
 "nbformat": 4,
 "nbformat_minor": 5
}
