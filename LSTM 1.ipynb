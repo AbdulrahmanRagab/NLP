{
 "cells": [
  {
   "cell_type": "code",
   "execution_count": 1,
   "id": "d17cc772",
   "metadata": {},
   "outputs": [],
   "source": [
    "import pandas as pd\n",
    "import numpy as np\n",
    "import tensorflow as tf\n",
    "import nltk\n",
    "import string\n",
    "from nltk import word_tokenize\n",
    "from nltk.corpus import stopwords\n",
    "from nltk.stem import WordNetLemmatizer"
   ]
  },
  {
   "cell_type": "code",
   "execution_count": 2,
   "id": "50c1efeb",
   "metadata": {},
   "outputs": [],
   "source": [
    "stop_words_list = nltk.corpus.stopwords.words(\"english\")\n",
    "lemma_nltk = WordNetLemmatizer()"
   ]
  },
  {
   "cell_type": "code",
   "execution_count": 3,
   "id": "c85a99c0",
   "metadata": {},
   "outputs": [],
   "source": [
    "data = pd.read_csv(\"J:/Data science/data/NLP/disaster/train.csv\")"
   ]
  },
  {
   "cell_type": "code",
   "execution_count": 4,
   "id": "f9446084",
   "metadata": {},
   "outputs": [
    {
     "data": {
      "text/html": [
       "<div>\n",
       "<style scoped>\n",
       "    .dataframe tbody tr th:only-of-type {\n",
       "        vertical-align: middle;\n",
       "    }\n",
       "\n",
       "    .dataframe tbody tr th {\n",
       "        vertical-align: top;\n",
       "    }\n",
       "\n",
       "    .dataframe thead th {\n",
       "        text-align: right;\n",
       "    }\n",
       "</style>\n",
       "<table border=\"1\" class=\"dataframe\">\n",
       "  <thead>\n",
       "    <tr style=\"text-align: right;\">\n",
       "      <th></th>\n",
       "      <th>id</th>\n",
       "      <th>keyword</th>\n",
       "      <th>location</th>\n",
       "      <th>text</th>\n",
       "      <th>target</th>\n",
       "    </tr>\n",
       "  </thead>\n",
       "  <tbody>\n",
       "    <tr>\n",
       "      <th>2644</th>\n",
       "      <td>3796</td>\n",
       "      <td>destruction</td>\n",
       "      <td>NaN</td>\n",
       "      <td>So you have a new weapon that can cause un-ima...</td>\n",
       "      <td>1</td>\n",
       "    </tr>\n",
       "    <tr>\n",
       "      <th>2227</th>\n",
       "      <td>3185</td>\n",
       "      <td>deluge</td>\n",
       "      <td>NaN</td>\n",
       "      <td>The f$&amp;amp;@ing things I do for #GISHWHES Just...</td>\n",
       "      <td>0</td>\n",
       "    </tr>\n",
       "    <tr>\n",
       "      <th>5448</th>\n",
       "      <td>7769</td>\n",
       "      <td>police</td>\n",
       "      <td>UK</td>\n",
       "      <td>DT @georgegalloway: RT @Galloway4Mayor: ÛÏThe...</td>\n",
       "      <td>1</td>\n",
       "    </tr>\n",
       "    <tr>\n",
       "      <th>132</th>\n",
       "      <td>191</td>\n",
       "      <td>aftershock</td>\n",
       "      <td>NaN</td>\n",
       "      <td>Aftershock back to school kick off was great. ...</td>\n",
       "      <td>0</td>\n",
       "    </tr>\n",
       "    <tr>\n",
       "      <th>6845</th>\n",
       "      <td>9810</td>\n",
       "      <td>trauma</td>\n",
       "      <td>Montgomery County, MD</td>\n",
       "      <td>in response to trauma Children of Addicts deve...</td>\n",
       "      <td>0</td>\n",
       "    </tr>\n",
       "  </tbody>\n",
       "</table>\n",
       "</div>"
      ],
      "text/plain": [
       "        id      keyword               location  \\\n",
       "2644  3796  destruction                    NaN   \n",
       "2227  3185       deluge                    NaN   \n",
       "5448  7769       police                     UK   \n",
       "132    191   aftershock                    NaN   \n",
       "6845  9810       trauma  Montgomery County, MD   \n",
       "\n",
       "                                                   text  target  \n",
       "2644  So you have a new weapon that can cause un-ima...       1  \n",
       "2227  The f$&amp;@ing things I do for #GISHWHES Just...       0  \n",
       "5448  DT @georgegalloway: RT @Galloway4Mayor: ÛÏThe...       1  \n",
       "132   Aftershock back to school kick off was great. ...       0  \n",
       "6845  in response to trauma Children of Addicts deve...       0  "
      ]
     },
     "execution_count": 4,
     "metadata": {},
     "output_type": "execute_result"
    }
   ],
   "source": [
    "df = data.sample(frac=1 , random_state=42)\n",
    "df.head()"
   ]
  },
  {
   "cell_type": "code",
   "execution_count": 5,
   "id": "63c51c41",
   "metadata": {},
   "outputs": [
    {
     "data": {
      "text/plain": [
       "(7613, 5)"
      ]
     },
     "execution_count": 5,
     "metadata": {},
     "output_type": "execute_result"
    }
   ],
   "source": [
    "df.shape"
   ]
  },
  {
   "cell_type": "code",
   "execution_count": 6,
   "id": "8edb3681",
   "metadata": {},
   "outputs": [
    {
     "data": {
      "text/plain": [
       "0    4342\n",
       "1    3271\n",
       "Name: target, dtype: int64"
      ]
     },
     "execution_count": 6,
     "metadata": {},
     "output_type": "execute_result"
    }
   ],
   "source": [
    "df.target.value_counts()"
   ]
  },
  {
   "cell_type": "code",
   "execution_count": 7,
   "id": "135bc0a3",
   "metadata": {},
   "outputs": [],
   "source": [
    "def clean_text(text):\n",
    "    text = \"\".join([word.lower() for word in text if word not in string.punctuation])\n",
    "    tokens = word_tokenize(text)\n",
    "    text = \" \".join([lemma_nltk.lemmatize(word) for word in tokens if word not in stop_words_list])\n",
    "    return text"
   ]
  },
  {
   "cell_type": "code",
   "execution_count": 8,
   "id": "8c92e9cc",
   "metadata": {},
   "outputs": [],
   "source": [
    "df['text'] = df['text'].apply(lambda x:clean_text(x))"
   ]
  },
  {
   "cell_type": "code",
   "execution_count": 9,
   "id": "eef40e20",
   "metadata": {},
   "outputs": [],
   "source": [
    "x = df['text']\n",
    "y = df['target']"
   ]
  },
  {
   "cell_type": "code",
   "execution_count": 10,
   "id": "1b25d2de",
   "metadata": {},
   "outputs": [
    {
     "data": {
      "text/plain": [
       "2644            new weapon cause unimaginable destruction\n",
       "2227    famping thing gishwhes got soaked deluge going...\n",
       "5448    dt georgegalloway rt galloway4mayor ûïthe col...\n",
       "132     aftershock back school kick great want thank e...\n",
       "6845    response trauma child addict develop defensive...\n",
       "Name: text, dtype: object"
      ]
     },
     "execution_count": 10,
     "metadata": {},
     "output_type": "execute_result"
    }
   ],
   "source": [
    "x.head()"
   ]
  },
  {
   "cell_type": "code",
   "execution_count": 11,
   "id": "a20aba20",
   "metadata": {},
   "outputs": [
    {
     "data": {
      "text/plain": [
       "2644    1\n",
       "2227    0\n",
       "5448    1\n",
       "132     0\n",
       "6845    0\n",
       "Name: target, dtype: int64"
      ]
     },
     "execution_count": 11,
     "metadata": {},
     "output_type": "execute_result"
    }
   ],
   "source": [
    "y.head()"
   ]
  },
  {
   "cell_type": "code",
   "execution_count": 12,
   "id": "200cdf82",
   "metadata": {},
   "outputs": [],
   "source": [
    "from sklearn.model_selection import train_test_split\n",
    "x_train ,x_test ,y_train ,y_test = train_test_split(x,y,test_size=0.3,random_state=42)"
   ]
  },
  {
   "cell_type": "code",
   "execution_count": 13,
   "id": "90c364da",
   "metadata": {},
   "outputs": [
    {
     "data": {
      "text/plain": [
       "325"
      ]
     },
     "execution_count": 13,
     "metadata": {},
     "output_type": "execute_result"
    }
   ],
   "source": [
    "sum(set([len(i.split()) for i in x_train]))"
   ]
  },
  {
   "cell_type": "code",
   "execution_count": 14,
   "id": "0d6e42b3",
   "metadata": {},
   "outputs": [
    {
     "data": {
      "text/plain": [
       "53333"
      ]
     },
     "execution_count": 14,
     "metadata": {},
     "output_type": "execute_result"
    }
   ],
   "source": [
    "words = sum([len(i.split()) for i in x_train])\n",
    "words"
   ]
  },
  {
   "cell_type": "code",
   "execution_count": 15,
   "id": "21e2d27b",
   "metadata": {},
   "outputs": [
    {
     "data": {
      "text/plain": [
       "53333"
      ]
     },
     "execution_count": 15,
     "metadata": {},
     "output_type": "execute_result"
    }
   ],
   "source": [
    "words = sum([len(i.split()) for i in x_train])\n",
    "words"
   ]
  },
  {
   "cell_type": "code",
   "execution_count": 16,
   "id": "94df1b2c",
   "metadata": {},
   "outputs": [
    {
     "data": {
      "text/plain": [
       "5329"
      ]
     },
     "execution_count": 16,
     "metadata": {},
     "output_type": "execute_result"
    }
   ],
   "source": [
    "len(x_train)"
   ]
  },
  {
   "cell_type": "code",
   "execution_count": 17,
   "id": "04df7745",
   "metadata": {},
   "outputs": [
    {
     "data": {
      "text/plain": [
       "10"
      ]
     },
     "execution_count": 17,
     "metadata": {},
     "output_type": "execute_result"
    }
   ],
   "source": [
    "avg = words / len(x_train)\n",
    "round(avg)"
   ]
  },
  {
   "cell_type": "code",
   "execution_count": 18,
   "id": "481140fe",
   "metadata": {},
   "outputs": [],
   "source": [
    "max_tokens = 10000\n",
    "max_sent_length = 10"
   ]
  },
  {
   "cell_type": "code",
   "execution_count": 19,
   "id": "c4e82dfe",
   "metadata": {},
   "outputs": [],
   "source": [
    "from tensorflow.keras.layers.experimental.preprocessing import TextVectorization"
   ]
  },
  {
   "cell_type": "code",
   "execution_count": 20,
   "id": "a91b4fb7",
   "metadata": {},
   "outputs": [],
   "source": [
    "text_vectorizer = TextVectorization(max_tokens=max_tokens,\n",
    "                                    output_sequence_length=max_sent_length)"
   ]
  },
  {
   "cell_type": "code",
   "execution_count": 21,
   "id": "fac98085",
   "metadata": {},
   "outputs": [],
   "source": [
    "text_vectorizer.adapt(x_train)"
   ]
  },
  {
   "cell_type": "code",
   "execution_count": 22,
   "id": "a23886cc",
   "metadata": {},
   "outputs": [],
   "source": [
    "from tensorflow.keras import layers\n",
    "tf.random.set_seed(42)\n",
    "embedding = layers.Embedding(input_dim=max_tokens,\n",
    "                             input_length=max_sent_length,\n",
    "                             output_dim=64)          "
   ]
  },
  {
   "cell_type": "code",
   "execution_count": 24,
   "id": "2f4813b8",
   "metadata": {},
   "outputs": [],
   "source": [
    "from tensorflow.keras.models import Sequential\n",
    "from tensorflow.keras.layers import Dense,TextVectorization, Flatten, LSTM, Dropout, Activation, Embedding"
   ]
  },
  {
   "cell_type": "code",
   "execution_count": 26,
   "id": "42a1b4e2",
   "metadata": {},
   "outputs": [],
   "source": [
    "model = Sequential([\n",
    "    tf.keras.Input(shape=(1,) , dtype=\"string\"),\n",
    "    text_vectorizer,\n",
    "    embedding,\n",
    "    tf.keras.layers.LSTM(64),\n",
    "    tf.keras.layers.Dense(1 , activation=\"sigmoid\")\n",
    "])"
   ]
  },
  {
   "cell_type": "code",
   "execution_count": 27,
   "id": "7abad62d",
   "metadata": {},
   "outputs": [],
   "source": [
    "model.compile(loss=tf.keras.losses.binary_crossentropy,\n",
    "              optimizer = tf.keras.optimizers.Adam(),\n",
    "              metrics=[\"accuracy\"])"
   ]
  },
  {
   "cell_type": "code",
   "execution_count": 28,
   "id": "1230e45d",
   "metadata": {},
   "outputs": [
    {
     "name": "stdout",
     "output_type": "stream",
     "text": [
      "Model: \"sequential\"\n",
      "_________________________________________________________________\n",
      " Layer (type)                Output Shape              Param #   \n",
      "=================================================================\n",
      " text_vectorization (TextVec  (None, 10)               0         \n",
      " torization)                                                     \n",
      "                                                                 \n",
      " embedding (Embedding)       (None, 10, 64)            640000    \n",
      "                                                                 \n",
      " lstm_1 (LSTM)               (None, 64)                33024     \n",
      "                                                                 \n",
      " dense_1 (Dense)             (None, 1)                 65        \n",
      "                                                                 \n",
      "=================================================================\n",
      "Total params: 673,089\n",
      "Trainable params: 673,089\n",
      "Non-trainable params: 0\n",
      "_________________________________________________________________\n"
     ]
    }
   ],
   "source": [
    "model.summary()"
   ]
  },
  {
   "cell_type": "code",
   "execution_count": 29,
   "id": "36325067",
   "metadata": {},
   "outputs": [
    {
     "name": "stdout",
     "output_type": "stream",
     "text": [
      "Epoch 1/5\n",
      "167/167 [==============================] - 6s 11ms/step - loss: 0.5352 - accuracy: 0.7264\n",
      "Epoch 2/5\n",
      "167/167 [==============================] - 2s 11ms/step - loss: 0.2957 - accuracy: 0.8784\n",
      "Epoch 3/5\n",
      "167/167 [==============================] - 2s 11ms/step - loss: 0.1692 - accuracy: 0.9411\n",
      "Epoch 4/5\n",
      "167/167 [==============================] - 2s 11ms/step - loss: 0.1136 - accuracy: 0.9613\n",
      "Epoch 5/5\n",
      "167/167 [==============================] - 2s 10ms/step - loss: 0.0796 - accuracy: 0.9688\n"
     ]
    },
    {
     "data": {
      "text/plain": [
       "<keras.callbacks.History at 0x24c744fdaf0>"
      ]
     },
     "execution_count": 29,
     "metadata": {},
     "output_type": "execute_result"
    }
   ],
   "source": [
    "model_history = model.fit(x_train,y_train,epochs=5)\n",
    "model_history"
   ]
  },
  {
   "cell_type": "code",
   "execution_count": 30,
   "id": "ea0965df",
   "metadata": {},
   "outputs": [
    {
     "name": "stdout",
     "output_type": "stream",
     "text": [
      "72/72 [==============================] - 1s 2ms/step - loss: 0.9692 - accuracy: 0.7408\n"
     ]
    },
    {
     "data": {
      "text/plain": [
       "[0.9691628217697144, 0.7408056259155273]"
      ]
     },
     "execution_count": 30,
     "metadata": {},
     "output_type": "execute_result"
    }
   ],
   "source": [
    "model.evaluate(x_test,y_test)"
   ]
  },
  {
   "cell_type": "code",
   "execution_count": 32,
   "id": "310c1b1a",
   "metadata": {},
   "outputs": [],
   "source": [
    "model2 = Sequential([\n",
    "    tf.keras.Input(shape=(1,) , dtype=\"string\"),\n",
    "    text_vectorizer,\n",
    "    embedding,\n",
    "    tf.keras.layers.LSTM(64 , return_sequences=True),\n",
    "    tf.keras.layers.LSTM(64),\n",
    "    layers.Dense(1,activation=\"sigmoid\")\n",
    "])"
   ]
  },
  {
   "cell_type": "code",
   "execution_count": 33,
   "id": "e301f798",
   "metadata": {},
   "outputs": [],
   "source": [
    "model2.compile(loss=tf.keras.losses.binary_crossentropy,\n",
    "              optimizer = tf.keras.optimizers.Adam(),\n",
    "              metrics=[\"accuracy\"])"
   ]
  },
  {
   "cell_type": "code",
   "execution_count": 34,
   "id": "ba8cb3a0",
   "metadata": {},
   "outputs": [
    {
     "name": "stdout",
     "output_type": "stream",
     "text": [
      "Model: \"sequential_2\"\n",
      "_________________________________________________________________\n",
      " Layer (type)                Output Shape              Param #   \n",
      "=================================================================\n",
      " text_vectorization (TextVec  (None, 10)               0         \n",
      " torization)                                                     \n",
      "                                                                 \n",
      " embedding (Embedding)       (None, 10, 64)            640000    \n",
      "                                                                 \n",
      " lstm_4 (LSTM)               (None, 10, 64)            33024     \n",
      "                                                                 \n",
      " lstm_5 (LSTM)               (None, 64)                33024     \n",
      "                                                                 \n",
      " dense_3 (Dense)             (None, 1)                 65        \n",
      "                                                                 \n",
      "=================================================================\n",
      "Total params: 706,113\n",
      "Trainable params: 706,113\n",
      "Non-trainable params: 0\n",
      "_________________________________________________________________\n"
     ]
    }
   ],
   "source": [
    "model2.summary()"
   ]
  },
  {
   "cell_type": "code",
   "execution_count": 35,
   "id": "626e1c38",
   "metadata": {},
   "outputs": [
    {
     "name": "stdout",
     "output_type": "stream",
     "text": [
      "Epoch 1/5\n",
      "167/167 [==============================] - 2s 10ms/step - loss: 0.0554 - accuracy: 0.9758\n",
      "Epoch 2/5\n",
      "167/167 [==============================] - 2s 10ms/step - loss: 0.0455 - accuracy: 0.9797\n",
      "Epoch 3/5\n",
      "167/167 [==============================] - 2s 13ms/step - loss: 0.0396 - accuracy: 0.9810\n",
      "Epoch 4/5\n",
      "167/167 [==============================] - 2s 12ms/step - loss: 0.0410 - accuracy: 0.9810\n",
      "Epoch 5/5\n",
      "167/167 [==============================] - 2s 10ms/step - loss: 0.0382 - accuracy: 0.9801\n"
     ]
    },
    {
     "data": {
      "text/plain": [
       "<keras.callbacks.History at 0x24c051aabb0>"
      ]
     },
     "execution_count": 35,
     "metadata": {},
     "output_type": "execute_result"
    }
   ],
   "source": [
    "model2_history = model.fit(x_train,y_train,epochs=5)\n",
    "model2_history"
   ]
  },
  {
   "cell_type": "code",
   "execution_count": 36,
   "id": "eb53b1cb",
   "metadata": {},
   "outputs": [
    {
     "name": "stdout",
     "output_type": "stream",
     "text": [
      "72/72 [==============================] - 2s 3ms/step - loss: 0.6908 - accuracy: 0.7023\n"
     ]
    },
    {
     "data": {
      "text/plain": [
       "[0.6907997727394104, 0.7022767066955566]"
      ]
     },
     "execution_count": 36,
     "metadata": {},
     "output_type": "execute_result"
    }
   ],
   "source": [
    "model2.evaluate(x_test,y_test)"
   ]
  },
  {
   "cell_type": "code",
   "execution_count": 65,
   "id": "d710162f",
   "metadata": {},
   "outputs": [],
   "source": [
    "model3 = Sequential([\n",
    "    tf.keras.Input(shape=(1,) , dtype=\"string\"),\n",
    "    text_vectorizer,\n",
    "    embedding,\n",
    "    tf.keras.layers.Bidirectional(tf.keras.layers.LSTM(64)),\n",
    "    tf.keras.layers.Dense(32 , activation=\"relu\"),\n",
    "    tf.keras.layers.Dense(1 , activation=\"sigmoid\")\n",
    "])"
   ]
  },
  {
   "cell_type": "code",
   "execution_count": 66,
   "id": "51efa6db",
   "metadata": {},
   "outputs": [],
   "source": [
    "model3.compile(loss=tf.keras.losses.binary_crossentropy,\n",
    "              optimizer = tf.keras.optimizers.Adam(),\n",
    "              metrics=[\"accuracy\"])"
   ]
  },
  {
   "cell_type": "code",
   "execution_count": 67,
   "id": "f130dd59",
   "metadata": {},
   "outputs": [
    {
     "name": "stdout",
     "output_type": "stream",
     "text": [
      "Model: \"sequential_9\"\n",
      "_________________________________________________________________\n",
      " Layer (type)                Output Shape              Param #   \n",
      "=================================================================\n",
      " text_vectorization (TextVec  (None, 10)               0         \n",
      " torization)                                                     \n",
      "                                                                 \n",
      " embedding (Embedding)       (None, 10, 64)            640000    \n",
      "                                                                 \n",
      " bidirectional_8 (Bidirectio  (None, 128)              66048     \n",
      " nal)                                                            \n",
      "                                                                 \n",
      " dense_14 (Dense)            (None, 32)                4128      \n",
      "                                                                 \n",
      " dense_15 (Dense)            (None, 1)                 33        \n",
      "                                                                 \n",
      "=================================================================\n",
      "Total params: 710,209\n",
      "Trainable params: 710,209\n",
      "Non-trainable params: 0\n",
      "_________________________________________________________________\n"
     ]
    }
   ],
   "source": [
    "model3.summary()"
   ]
  },
  {
   "cell_type": "code",
   "execution_count": 68,
   "id": "946063f6",
   "metadata": {},
   "outputs": [
    {
     "name": "stdout",
     "output_type": "stream",
     "text": [
      "Epoch 1/5\n",
      "167/167 [==============================] - 6s 12ms/step - loss: 0.1289 - accuracy: 0.9720\n",
      "Epoch 2/5\n",
      "167/167 [==============================] - 2s 11ms/step - loss: 0.0301 - accuracy: 0.9844\n",
      "Epoch 3/5\n",
      "167/167 [==============================] - 2s 11ms/step - loss: 0.0240 - accuracy: 0.9854\n",
      "Epoch 4/5\n",
      "167/167 [==============================] - 2s 11ms/step - loss: 0.0252 - accuracy: 0.9857\n",
      "Epoch 5/5\n",
      "167/167 [==============================] - 2s 12ms/step - loss: 0.0243 - accuracy: 0.9863\n"
     ]
    },
    {
     "data": {
      "text/plain": [
       "<keras.callbacks.History at 0x24c0e3cd250>"
      ]
     },
     "execution_count": 68,
     "metadata": {},
     "output_type": "execute_result"
    }
   ],
   "source": [
    "model3_history = model3.fit(x_train,y_train,epochs=5)\n",
    "model3_history"
   ]
  },
  {
   "cell_type": "code",
   "execution_count": 69,
   "id": "f66fa3e2",
   "metadata": {},
   "outputs": [
    {
     "name": "stdout",
     "output_type": "stream",
     "text": [
      "72/72 [==============================] - 1s 3ms/step - loss: 1.9971 - accuracy: 0.7106\n"
     ]
    },
    {
     "data": {
      "text/plain": [
       "[1.9970803260803223, 0.710595428943634]"
      ]
     },
     "execution_count": 69,
     "metadata": {},
     "output_type": "execute_result"
    }
   ],
   "source": [
    "model3.evaluate(x_test,y_test)"
   ]
  },
  {
   "cell_type": "code",
   "execution_count": 82,
   "id": "06f8b63d",
   "metadata": {},
   "outputs": [],
   "source": [
    "model4 = Sequential([\n",
    "    tf.keras.Input(shape=(1,) , dtype=\"string\"),\n",
    "    text_vectorizer,\n",
    "    embedding,\n",
    "    tf.keras.layers.Bidirectional(tf.keras.layers.LSTM(64 , return_sequences=True)),\n",
    "    tf.keras.layers.Bidirectional(tf.keras.layers.LSTM(32)),\n",
    "    tf.keras.layers.Dense(64 , activation=\"relu\"),\n",
    "    tf.keras.layers.Dense(1 , activation=\"sigmoid\")\n",
    "])"
   ]
  },
  {
   "cell_type": "code",
   "execution_count": 83,
   "id": "30579288",
   "metadata": {},
   "outputs": [],
   "source": [
    "model4.compile(loss=tf.keras.losses.binary_crossentropy,\n",
    "              optimizer = tf.keras.optimizers.Adam(),\n",
    "              metrics=[\"accuracy\"])"
   ]
  },
  {
   "cell_type": "code",
   "execution_count": 84,
   "id": "5905920b",
   "metadata": {},
   "outputs": [
    {
     "name": "stdout",
     "output_type": "stream",
     "text": [
      "Model: \"sequential_11\"\n",
      "_________________________________________________________________\n",
      " Layer (type)                Output Shape              Param #   \n",
      "=================================================================\n",
      " text_vectorization (TextVec  (None, 10)               0         \n",
      " torization)                                                     \n",
      "                                                                 \n",
      " embedding (Embedding)       (None, 10, 64)            640000    \n",
      "                                                                 \n",
      " bidirectional_11 (Bidirecti  (None, 10, 128)          66048     \n",
      " onal)                                                           \n",
      "                                                                 \n",
      " bidirectional_12 (Bidirecti  (None, 64)               41216     \n",
      " onal)                                                           \n",
      "                                                                 \n",
      " dense_18 (Dense)            (None, 64)                4160      \n",
      "                                                                 \n",
      " dense_19 (Dense)            (None, 1)                 65        \n",
      "                                                                 \n",
      "=================================================================\n",
      "Total params: 751,489\n",
      "Trainable params: 751,489\n",
      "Non-trainable params: 0\n",
      "_________________________________________________________________\n"
     ]
    }
   ],
   "source": [
    "model4.summary()"
   ]
  },
  {
   "cell_type": "code",
   "execution_count": 85,
   "id": "ac9814b4",
   "metadata": {},
   "outputs": [
    {
     "name": "stdout",
     "output_type": "stream",
     "text": [
      "Epoch 1/5\n",
      "167/167 [==============================] - 8s 15ms/step - loss: 0.1053 - accuracy: 0.9735\n",
      "Epoch 2/5\n",
      "167/167 [==============================] - 2s 15ms/step - loss: 0.0260 - accuracy: 0.9861\n",
      "Epoch 3/5\n",
      "167/167 [==============================] - 2s 15ms/step - loss: 0.0241 - accuracy: 0.9867\n",
      "Epoch 4/5\n",
      "167/167 [==============================] - 2s 15ms/step - loss: 0.0217 - accuracy: 0.9872\n",
      "Epoch 5/5\n",
      "167/167 [==============================] - 2s 15ms/step - loss: 0.0280 - accuracy: 0.9857\n"
     ]
    },
    {
     "data": {
      "text/plain": [
       "<keras.callbacks.History at 0x24c1a3f2460>"
      ]
     },
     "execution_count": 85,
     "metadata": {},
     "output_type": "execute_result"
    }
   ],
   "source": [
    "model3_history = model4.fit(x_train,y_train,epochs=5)\n",
    "model3_history"
   ]
  },
  {
   "cell_type": "code",
   "execution_count": 86,
   "id": "9f7c5059",
   "metadata": {},
   "outputs": [
    {
     "name": "stdout",
     "output_type": "stream",
     "text": [
      "72/72 [==============================] - 2s 4ms/step - loss: 1.5362 - accuracy: 0.7264\n"
     ]
    },
    {
     "data": {
      "text/plain": [
       "[1.5362179279327393, 0.7263572812080383]"
      ]
     },
     "execution_count": 86,
     "metadata": {},
     "output_type": "execute_result"
    }
   ],
   "source": [
    "model4.evaluate(x_test,y_test)"
   ]
  },
  {
   "cell_type": "code",
   "execution_count": null,
   "id": "d02c6e32",
   "metadata": {},
   "outputs": [],
   "source": []
  }
 ],
 "metadata": {
  "kernelspec": {
   "display_name": "Python 3 (ipykernel)",
   "language": "python",
   "name": "python3"
  },
  "language_info": {
   "codemirror_mode": {
    "name": "ipython",
    "version": 3
   },
   "file_extension": ".py",
   "mimetype": "text/x-python",
   "name": "python",
   "nbconvert_exporter": "python",
   "pygments_lexer": "ipython3",
   "version": "3.9.12"
  }
 },
 "nbformat": 4,
 "nbformat_minor": 5
}
