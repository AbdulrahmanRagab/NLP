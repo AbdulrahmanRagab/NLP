{
 "cells": [
  {
   "cell_type": "code",
   "execution_count": 34,
   "id": "56c92784",
   "metadata": {},
   "outputs": [],
   "source": [
    "import nltk\n",
    "import pandas as pd\n",
    "import os , re\n",
    "from sklearn.feature_extraction.text import CountVectorizer , TfidfVectorizer\n",
    "from sklearn.model_selection import train_test_split\n",
    "from sklearn.linear_model import LogisticRegression\n",
    "from sklearn.svm import LinearSVC\n",
    "from sklearn.metrics import accuracy_score,confusion_matrix"
   ]
  },
  {
   "cell_type": "code",
   "execution_count": 35,
   "id": "5754a365",
   "metadata": {},
   "outputs": [],
   "source": [
    "from nltk.corpus import stopwords\n",
    "stop_words = stopwords.words(\"english\")"
   ]
  },
  {
   "cell_type": "code",
   "execution_count": 54,
   "id": "67b0ffd4",
   "metadata": {},
   "outputs": [],
   "source": [
    "from nltk.tokenize import word_tokenize\n",
    "from nltk.stem import WordNetLemmatizer\n",
    "lemma = WordNetLemmatizer()"
   ]
  },
  {
   "cell_type": "code",
   "execution_count": 37,
   "id": "ff9e81a5",
   "metadata": {},
   "outputs": [],
   "source": [
    "train_rev = []\n",
    "for line in open(r'J:/Data science/data/NLP/movie_data/full_train.txt','r',\n",
    "                 encoding='utf-8'):\n",
    "    train_rev.append(line.strip())"
   ]
  },
  {
   "cell_type": "code",
   "execution_count": 38,
   "id": "ba43b4f1",
   "metadata": {},
   "outputs": [],
   "source": [
    "test_rev = []\n",
    "for line in open(r'J:/Data science/data/NLP/movie_data/full_test.txt','r',\n",
    "                 encoding='utf-8'):\n",
    "    test_rev.append(line.strip())"
   ]
  },
  {
   "cell_type": "code",
   "execution_count": 39,
   "id": "25121510",
   "metadata": {},
   "outputs": [
    {
     "data": {
      "text/plain": [
       "'Bromwell High is a cartoon comedy. It ran at the same time as some other programs about school life, such as \"Teachers\". My 35 years in the teaching profession lead me to believe that Bromwell High\\'s satire is much closer to reality than is \"Teachers\". The scramble to survive financially, the insightful students who can see right through their pathetic teachers\\' pomp, the pettiness of the whole situation, all remind me of the schools I knew and their students. When I saw the episode in which a student repeatedly tried to burn down the school, I immediately recalled ......... at .......... High. A classic line: INSPECTOR: I\\'m here to sack one of your teachers. STUDENT: Welcome to Bromwell High. I expect that many adults of my age think that Bromwell High is far fetched. What a pity that it isn\\'t!'"
      ]
     },
     "execution_count": 39,
     "metadata": {},
     "output_type": "execute_result"
    }
   ],
   "source": [
    "train_rev[0]"
   ]
  },
  {
   "cell_type": "code",
   "execution_count": 40,
   "id": "06ac06a0",
   "metadata": {},
   "outputs": [
    {
     "data": {
      "text/plain": [
       "\"I went and saw this movie last night after being coaxed to by a few friends of mine. I'll admit that I was reluctant to see it because from what I knew of Ashton Kutcher he was only able to do comedy. I was wrong. Kutcher played the character of Jake Fischer very well, and Kevin Costner played Ben Randall with such professionalism. The sign of a good movie is that it can toy with our emotions. This one did exactly that. The entire theater (which was sold out) was overcome by laughter during the first half of the movie, and were moved to tears during the second half. While exiting the theater I not only saw many women in tears, but many full grown men as well, trying desperately not to let anyone see them crying. This movie was great, and I suggest that you go see it before you judge.\""
      ]
     },
     "execution_count": 40,
     "metadata": {},
     "output_type": "execute_result"
    }
   ],
   "source": [
    "test_rev[0]"
   ]
  },
  {
   "cell_type": "code",
   "execution_count": 41,
   "id": "d87f121e",
   "metadata": {},
   "outputs": [],
   "source": [
    "replace_no_space = re.compile(\"(\\.)|(\\;)|(\\:)|(\\!)|(\\')|(\\?)|(\\,)|(\\\")|(\\()|(\\))|(\\[)|(\\)])|(\\d+)\")\n",
    "replace_with_space = re.compile(\"(<br\\s*/><br\\s*/>)|(\\-)|(\\/)\")\n",
    "no_sapce = \"\"\n",
    "space = \" \""
   ]
  },
  {
   "cell_type": "code",
   "execution_count": 42,
   "id": "472912e2",
   "metadata": {},
   "outputs": [],
   "source": [
    "def preprocess(reviews):\n",
    "    reviews = [replace_no_space.sub(no_sapce , line.lower()) for line in reviews]\n",
    "    reviews = [replace_with_space.sub(space , line.lower()) for line in reviews]\n",
    "    return reviews"
   ]
  },
  {
   "cell_type": "code",
   "execution_count": 43,
   "id": "5a2c13e6",
   "metadata": {},
   "outputs": [],
   "source": [
    "train_clean_rev = preprocess(train_rev)\n",
    "test_clean_rev = preprocess(test_rev)"
   ]
  },
  {
   "cell_type": "code",
   "execution_count": 44,
   "id": "180c8386",
   "metadata": {},
   "outputs": [],
   "source": [
    "vectorizer = CountVectorizer(stop_words=\"english\")\n",
    "x = vectorizer.fit_transform(train_clean_rev)\n",
    "x_test = vectorizer.transform(test_clean_rev)"
   ]
  },
  {
   "cell_type": "code",
   "execution_count": 45,
   "id": "4576f927",
   "metadata": {},
   "outputs": [],
   "source": [
    "y = [1 if i < 12500 else 0 for i in range(25000)]"
   ]
  },
  {
   "cell_type": "code",
   "execution_count": 46,
   "id": "6e0e911c",
   "metadata": {},
   "outputs": [],
   "source": [
    "x_train ,x_val ,y_train ,y_val = train_test_split(x,y,test_size=0.35,random_state=42)"
   ]
  },
  {
   "cell_type": "code",
   "execution_count": 47,
   "id": "4b264f67",
   "metadata": {},
   "outputs": [
    {
     "name": "stderr",
     "output_type": "stream",
     "text": [
      "C:\\Users\\Abdelrahman\\anaconda3\\lib\\site-packages\\sklearn\\linear_model\\_logistic.py:814: ConvergenceWarning: lbfgs failed to converge (status=1):\n",
      "STOP: TOTAL NO. of ITERATIONS REACHED LIMIT.\n",
      "\n",
      "Increase the number of iterations (max_iter) or scale the data as shown in:\n",
      "    https://scikit-learn.org/stable/modules/preprocessing.html\n",
      "Please also refer to the documentation for alternative solver options:\n",
      "    https://scikit-learn.org/stable/modules/linear_model.html#logistic-regression\n",
      "  n_iter_i = _check_optimize_result(\n"
     ]
    },
    {
     "data": {
      "text/plain": [
       "LogisticRegression()"
      ]
     },
     "execution_count": 47,
     "metadata": {},
     "output_type": "execute_result"
    }
   ],
   "source": [
    "model = LogisticRegression()\n",
    "model.fit(x_train , y_train)"
   ]
  },
  {
   "cell_type": "code",
   "execution_count": 48,
   "id": "b77a36fd",
   "metadata": {},
   "outputs": [],
   "source": [
    "y_pred = model.predict(x_val)"
   ]
  },
  {
   "cell_type": "code",
   "execution_count": 49,
   "id": "39e26eb1",
   "metadata": {},
   "outputs": [
    {
     "data": {
      "text/plain": [
       "0.8758857142857143"
      ]
     },
     "execution_count": 49,
     "metadata": {},
     "output_type": "execute_result"
    }
   ],
   "source": [
    "accuracy_score(y_val,y_pred)"
   ]
  },
  {
   "cell_type": "code",
   "execution_count": 50,
   "id": "777d3be2",
   "metadata": {},
   "outputs": [
    {
     "data": {
      "text/plain": [
       "LinearSVC(C=0.01)"
      ]
     },
     "execution_count": 50,
     "metadata": {},
     "output_type": "execute_result"
    }
   ],
   "source": [
    "model_2 = LinearSVC(C=0.01)\n",
    "model_2.fit(x_train,y_train)"
   ]
  },
  {
   "cell_type": "code",
   "execution_count": 51,
   "id": "51e3cdef",
   "metadata": {},
   "outputs": [],
   "source": [
    "y_pred = model_2.predict(x_val)"
   ]
  },
  {
   "cell_type": "code",
   "execution_count": 52,
   "id": "37243d5b",
   "metadata": {},
   "outputs": [
    {
     "data": {
      "text/plain": [
       "0.8790857142857142"
      ]
     },
     "execution_count": 52,
     "metadata": {},
     "output_type": "execute_result"
    }
   ],
   "source": [
    "accuracy_score(y_val,y_pred)"
   ]
  },
  {
   "cell_type": "code",
   "execution_count": 93,
   "id": "d015f38c",
   "metadata": {},
   "outputs": [],
   "source": [
    "# def lematiziation(text):\n",
    "#     tokens = word_tokenize(text)\n",
    "#     text = [\" \".join([lemma.lemmatize(word) for word in tokens if word not in stop_words])]\n",
    "#     return text\n",
    "\n",
    "# def lematiziation(text):\n",
    "# #     tokens = word_tokenize(text)\n",
    "#     return [' '.join([lemma.lemmatize(word) for word in review.split()]) for review in text]\n",
    "\n",
    "def lematiziation(text):\n",
    "    return [' '.join([lemma.lemmatize(word) for word in review.split()]) for review in text]"
   ]
  },
  {
   "cell_type": "code",
   "execution_count": 94,
   "id": "fed827fb",
   "metadata": {},
   "outputs": [],
   "source": [
    "lemma_train = lematiziation(train_clean_rev)\n",
    "lemma_test = lematiziation(test_clean_rev)"
   ]
  },
  {
   "cell_type": "code",
   "execution_count": 95,
   "id": "8f637c9f",
   "metadata": {},
   "outputs": [
    {
     "data": {
      "text/plain": [
       "'bromwell high is a cartoon comedy it ran at the same time a some other program about school life such a teacher my year in the teaching profession lead me to believe that bromwell high satire is much closer to reality than is teacher the scramble to survive financially the insightful student who can see right through their pathetic teacher pomp the pettiness of the whole situation all remind me of the school i knew and their student when i saw the episode in which a student repeatedly tried to burn down the school i immediately recalled at high a classic line inspector im here to sack one of your teacher student welcome to bromwell high i expect that many adult of my age think that bromwell high is far fetched what a pity that it isnt'"
      ]
     },
     "execution_count": 95,
     "metadata": {},
     "output_type": "execute_result"
    }
   ],
   "source": [
    "lemma_train[0]"
   ]
  },
  {
   "cell_type": "code",
   "execution_count": 96,
   "id": "f8532581",
   "metadata": {},
   "outputs": [
    {
     "data": {
      "text/plain": [
       "'i went and saw this movie last night after being coaxed to by a few friend of mine ill admit that i wa reluctant to see it because from what i knew of ashton kutcher he wa only able to do comedy i wa wrong kutcher played the character of jake fischer very well and kevin costner played ben randall with such professionalism the sign of a good movie is that it can toy with our emotion this one did exactly that the entire theater which wa sold out wa overcome by laughter during the first half of the movie and were moved to tear during the second half while exiting the theater i not only saw many woman in tear but many full grown men a well trying desperately not to let anyone see them cry this movie wa great and i suggest that you go see it before you judge'"
      ]
     },
     "execution_count": 96,
     "metadata": {},
     "output_type": "execute_result"
    }
   ],
   "source": [
    "lemma_test[0]"
   ]
  },
  {
   "cell_type": "code",
   "execution_count": 99,
   "id": "5c5335cd",
   "metadata": {},
   "outputs": [],
   "source": [
    "vectorizer = CountVectorizer(stop_words=\"english\")\n",
    "x = vectorizer.fit_transform(lemma_train)\n",
    "x_test = vectorizer.transform(lemma_test)"
   ]
  },
  {
   "cell_type": "code",
   "execution_count": 100,
   "id": "766c614f",
   "metadata": {},
   "outputs": [],
   "source": [
    "x_train ,x_val ,y_train ,y_val = train_test_split(x,y,test_size=0.35,random_state=42)"
   ]
  },
  {
   "cell_type": "code",
   "execution_count": 104,
   "id": "ac339642",
   "metadata": {},
   "outputs": [
    {
     "name": "stderr",
     "output_type": "stream",
     "text": [
      "C:\\Users\\Abdelrahman\\anaconda3\\lib\\site-packages\\sklearn\\linear_model\\_logistic.py:814: ConvergenceWarning: lbfgs failed to converge (status=1):\n",
      "STOP: TOTAL NO. of ITERATIONS REACHED LIMIT.\n",
      "\n",
      "Increase the number of iterations (max_iter) or scale the data as shown in:\n",
      "    https://scikit-learn.org/stable/modules/preprocessing.html\n",
      "Please also refer to the documentation for alternative solver options:\n",
      "    https://scikit-learn.org/stable/modules/linear_model.html#logistic-regression\n",
      "  n_iter_i = _check_optimize_result(\n"
     ]
    },
    {
     "data": {
      "text/plain": [
       "LogisticRegression()"
      ]
     },
     "execution_count": 104,
     "metadata": {},
     "output_type": "execute_result"
    }
   ],
   "source": [
    "model_3 = LogisticRegression()\n",
    "model_3.fit(x_train , y_train)"
   ]
  },
  {
   "cell_type": "code",
   "execution_count": 105,
   "id": "956b441c",
   "metadata": {},
   "outputs": [],
   "source": [
    "y_pred = model_3.predict(x_val)"
   ]
  },
  {
   "cell_type": "code",
   "execution_count": 106,
   "id": "0bba6488",
   "metadata": {},
   "outputs": [
    {
     "data": {
      "text/plain": [
       "0.8700571428571429"
      ]
     },
     "execution_count": 106,
     "metadata": {},
     "output_type": "execute_result"
    }
   ],
   "source": [
    "accuracy_score(y_val,y_pred)"
   ]
  },
  {
   "cell_type": "code",
   "execution_count": 107,
   "id": "ede72477",
   "metadata": {},
   "outputs": [],
   "source": [
    "tfidf = TfidfVectorizer(stop_words=\"english\")\n",
    "x = tfidf.fit_transform(lemma_train)\n",
    "x_text = tfidf.transform(lemma_test)"
   ]
  },
  {
   "cell_type": "code",
   "execution_count": 112,
   "id": "49bf6c21",
   "metadata": {},
   "outputs": [],
   "source": [
    "x_train ,x_val ,y_train ,y_val = train_test_split(x,y,test_size=0.38,random_state=42)"
   ]
  },
  {
   "cell_type": "code",
   "execution_count": 113,
   "id": "9e35c3f6",
   "metadata": {},
   "outputs": [
    {
     "name": "stdout",
     "output_type": "stream",
     "text": [
      "0.8821052631578947 \n",
      " [[4085  648]\n",
      " [ 472 4295]]\n"
     ]
    }
   ],
   "source": [
    "model_4 = LogisticRegression()\n",
    "model_4.fit(x_train,y_train)\n",
    "y_pred = model_4.predict(x_val)\n",
    "acc = accuracy_score(y_val,y_pred)\n",
    "conf = confusion_matrix(y_val,y_pred)\n",
    "print(acc , \"\\n\" , conf)"
   ]
  },
  {
   "cell_type": "code",
   "execution_count": 116,
   "id": "972f0454",
   "metadata": {},
   "outputs": [
    {
     "name": "stdout",
     "output_type": "stream",
     "text": [
      "accuracy =  0.8051578947368421 \n",
      " [[3543 1190]\n",
      " [ 661 4106]]\n"
     ]
    }
   ],
   "source": [
    "from sklearn.ensemble import GradientBoostingClassifier\n",
    "grad = GradientBoostingClassifier(n_estimators=100)\n",
    "grad.fit(x_train,y_train)\n",
    "y_pred = grad.predict(x_val)\n",
    "acc = accuracy_score(y_val,y_pred)\n",
    "conf = confusion_matrix(y_val,y_pred)\n",
    "print(\"accuracy = \" ,acc , \"\\n\" , conf)"
   ]
  },
  {
   "cell_type": "code",
   "execution_count": null,
   "id": "63f4b0de",
   "metadata": {},
   "outputs": [],
   "source": []
  }
 ],
 "metadata": {
  "kernelspec": {
   "display_name": "Python 3 (ipykernel)",
   "language": "python",
   "name": "python3"
  },
  "language_info": {
   "codemirror_mode": {
    "name": "ipython",
    "version": 3
   },
   "file_extension": ".py",
   "mimetype": "text/x-python",
   "name": "python",
   "nbconvert_exporter": "python",
   "pygments_lexer": "ipython3",
   "version": "3.9.12"
  }
 },
 "nbformat": 4,
 "nbformat_minor": 5
}
