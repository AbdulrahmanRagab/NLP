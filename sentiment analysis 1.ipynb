{
 "cells": [
  {
   "cell_type": "code",
   "execution_count": 28,
   "id": "24c8dc12",
   "metadata": {},
   "outputs": [],
   "source": [
    "import nltk\n",
    "import pandas as pd\n",
    "import os , re\n",
    "from sklearn.feature_extraction.text import CountVectorizer , TfidfVectorizer\n",
    "from sklearn.model_selection import train_test_split\n",
    "from sklearn.linear_model import LogisticRegression\n",
    "from sklearn.metrics import accuracy_score,confusion_matrix"
   ]
  },
  {
   "cell_type": "code",
   "execution_count": 29,
   "id": "20938664",
   "metadata": {},
   "outputs": [],
   "source": [
    "train_reviews = []\n",
    "for line in open(r'J:/Data science/data/NLP/movie_data/full_train.txt','r',\n",
    "                 encoding='utf-8'):\n",
    "    train_reviews.append(line.strip())"
   ]
  },
  {
   "cell_type": "code",
   "execution_count": 30,
   "id": "5b69dd30",
   "metadata": {},
   "outputs": [
    {
     "data": {
      "text/plain": [
       "['Bromwell High is a cartoon comedy. It ran at the same time as some other programs about school life, such as \"Teachers\". My 35 years in the teaching profession lead me to believe that Bromwell High\\'s satire is much closer to reality than is \"Teachers\". The scramble to survive financially, the insightful students who can see right through their pathetic teachers\\' pomp, the pettiness of the whole situation, all remind me of the schools I knew and their students. When I saw the episode in which a student repeatedly tried to burn down the school, I immediately recalled ......... at .......... High. A classic line: INSPECTOR: I\\'m here to sack one of your teachers. STUDENT: Welcome to Bromwell High. I expect that many adults of my age think that Bromwell High is far fetched. What a pity that it isn\\'t!']"
      ]
     },
     "execution_count": 30,
     "metadata": {},
     "output_type": "execute_result"
    }
   ],
   "source": [
    "train_reviews[:1]"
   ]
  },
  {
   "cell_type": "code",
   "execution_count": 31,
   "id": "a5836c82",
   "metadata": {},
   "outputs": [],
   "source": [
    "test_reviews = []\n",
    "for line in open(r'J:/Data science/data/NLP/movie_data/full_test.txt','r',\n",
    "                 encoding='utf-8'):\n",
    "    test_reviews.append(line.strip())"
   ]
  },
  {
   "cell_type": "code",
   "execution_count": 32,
   "id": "c0e84e21",
   "metadata": {},
   "outputs": [],
   "source": [
    "replace_no_space = re.compile(\"(\\.)|(\\;)|(\\:)|(\\!)|(\\')|(\\?)|(\\,)|(\\\")|(\\()|(\\))|(\\[)|(\\)])|(\\d+)\")\n",
    "replace_with_space = re.compile(\"(<br\\s*/><br\\s*/>)|(\\-)|(\\/)\")\n",
    "no_sapce = \"\"\n",
    "space = \" \""
   ]
  },
  {
   "cell_type": "code",
   "execution_count": 33,
   "id": "119bd503",
   "metadata": {},
   "outputs": [],
   "source": [
    "def preprocess_rev(reviews):\n",
    "    reviews = [replace_no_space.sub(no_sapce , line.lower()) for line in reviews]\n",
    "    reviews = [replace_with_space.sub(space , line) for line in reviews]\n",
    "    return reviews"
   ]
  },
  {
   "cell_type": "code",
   "execution_count": 34,
   "id": "4aaae803",
   "metadata": {},
   "outputs": [],
   "source": [
    "clean_train_rev =preprocess_rev(train_reviews)\n",
    "clean_test_rev = preprocess_rev(test_reviews)"
   ]
  },
  {
   "cell_type": "code",
   "execution_count": 35,
   "id": "4dc2d097",
   "metadata": {},
   "outputs": [
    {
     "data": {
      "text/plain": [
       "'bromwell high is a cartoon comedy it ran at the same time as some other programs about school life such as teachers my  years in the teaching profession lead me to believe that bromwell highs satire is much closer to reality than is teachers the scramble to survive financially the insightful students who can see right through their pathetic teachers pomp the pettiness of the whole situation all remind me of the schools i knew and their students when i saw the episode in which a student repeatedly tried to burn down the school i immediately recalled  at  high a classic line inspector im here to sack one of your teachers student welcome to bromwell high i expect that many adults of my age think that bromwell high is far fetched what a pity that it isnt'"
      ]
     },
     "execution_count": 35,
     "metadata": {},
     "output_type": "execute_result"
    }
   ],
   "source": [
    "clean_train_rev[0]"
   ]
  },
  {
   "cell_type": "code",
   "execution_count": 36,
   "id": "351c1ca4",
   "metadata": {},
   "outputs": [
    {
     "data": {
      "text/plain": [
       "\"I went and saw this movie last night after being coaxed to by a few friends of mine. I'll admit that I was reluctant to see it because from what I knew of Ashton Kutcher he was only able to do comedy. I was wrong. Kutcher played the character of Jake Fischer very well, and Kevin Costner played Ben Randall with such professionalism. The sign of a good movie is that it can toy with our emotions. This one did exactly that. The entire theater (which was sold out) was overcome by laughter during the first half of the movie, and were moved to tears during the second half. While exiting the theater I not only saw many women in tears, but many full grown men as well, trying desperately not to let anyone see them crying. This movie was great, and I suggest that you go see it before you judge.\""
      ]
     },
     "execution_count": 36,
     "metadata": {},
     "output_type": "execute_result"
    }
   ],
   "source": [
    "test_reviews[0]"
   ]
  },
  {
   "cell_type": "code",
   "execution_count": 37,
   "id": "5bd563d3",
   "metadata": {},
   "outputs": [],
   "source": [
    "vectorizer = CountVectorizer(binary=True)\n",
    "x = vectorizer.fit_transform(clean_train_rev)\n",
    "x_text = vectorizer.transform(clean_test_rev)"
   ]
  },
  {
   "cell_type": "code",
   "execution_count": 38,
   "id": "8de5dae4",
   "metadata": {},
   "outputs": [],
   "source": [
    "y = [1 if i < 12500 else 0 for i in range(25000)]"
   ]
  },
  {
   "cell_type": "code",
   "execution_count": 39,
   "id": "0781e778",
   "metadata": {},
   "outputs": [
    {
     "data": {
      "text/plain": [
       "0"
      ]
     },
     "execution_count": 39,
     "metadata": {},
     "output_type": "execute_result"
    }
   ],
   "source": [
    "y[20000]"
   ]
  },
  {
   "cell_type": "code",
   "execution_count": 40,
   "id": "c7c6c617",
   "metadata": {},
   "outputs": [],
   "source": [
    "x_train ,x_val ,y_train ,y_val = train_test_split(x,y,test_size=0.35,random_state=42)"
   ]
  },
  {
   "cell_type": "code",
   "execution_count": 41,
   "id": "1edf46b0",
   "metadata": {},
   "outputs": [],
   "source": [
    "# c_val = [0.1 , 0.5, 1]\n",
    "# for c in c_val:\n",
    "#     model = LogisticRegression(C=c)\n",
    "#     model.fit(x_train,y_train)\n",
    "#     print(c , acc )"
   ]
  },
  {
   "cell_type": "code",
   "execution_count": 42,
   "id": "26880161",
   "metadata": {},
   "outputs": [],
   "source": [
    "# y_pred = model.predict(x_val)\n",
    "# y_pred"
   ]
  },
  {
   "cell_type": "code",
   "execution_count": 43,
   "id": "8701cdf6",
   "metadata": {},
   "outputs": [],
   "source": [
    "#  acc = accuracy_score(y_val,y_pred)"
   ]
  },
  {
   "cell_type": "code",
   "execution_count": 44,
   "id": "01885e2f",
   "metadata": {},
   "outputs": [],
   "source": [
    "# confusion_matrix(y_val,y_pred)"
   ]
  },
  {
   "cell_type": "code",
   "execution_count": 45,
   "id": "9d97ce44",
   "metadata": {},
   "outputs": [
    {
     "name": "stderr",
     "output_type": "stream",
     "text": [
      "C:\\Users\\Abdelrahman\\anaconda3\\lib\\site-packages\\sklearn\\linear_model\\_logistic.py:814: ConvergenceWarning: lbfgs failed to converge (status=1):\n",
      "STOP: TOTAL NO. of ITERATIONS REACHED LIMIT.\n",
      "\n",
      "Increase the number of iterations (max_iter) or scale the data as shown in:\n",
      "    https://scikit-learn.org/stable/modules/preprocessing.html\n",
      "Please also refer to the documentation for alternative solver options:\n",
      "    https://scikit-learn.org/stable/modules/linear_model.html#logistic-regression\n",
      "  n_iter_i = _check_optimize_result(\n"
     ]
    },
    {
     "data": {
      "text/plain": [
       "LogisticRegression(C=0.5)"
      ]
     },
     "execution_count": 45,
     "metadata": {},
     "output_type": "execute_result"
    }
   ],
   "source": [
    "final_model = LogisticRegression(C=0.5)\n",
    "final_model.fit(x_train,y_train)"
   ]
  },
  {
   "cell_type": "code",
   "execution_count": 46,
   "id": "1be69387",
   "metadata": {},
   "outputs": [],
   "source": [
    "y_pred = final_model.predict(x_val)"
   ]
  },
  {
   "cell_type": "code",
   "execution_count": 47,
   "id": "a31c0b23",
   "metadata": {},
   "outputs": [
    {
     "data": {
      "text/plain": [
       "0.8762285714285715"
      ]
     },
     "execution_count": 47,
     "metadata": {},
     "output_type": "execute_result"
    }
   ],
   "source": [
    "accuracy_score(y_val,y_pred)"
   ]
  },
  {
   "cell_type": "code",
   "execution_count": 48,
   "id": "c13bfafd",
   "metadata": {},
   "outputs": [
    {
     "name": "stderr",
     "output_type": "stream",
     "text": [
      "C:\\Users\\Abdelrahman\\anaconda3\\lib\\site-packages\\sklearn\\utils\\deprecation.py:87: FutureWarning: Function get_feature_names is deprecated; get_feature_names is deprecated in 1.0 and will be removed in 1.2. Please use get_feature_names_out instead.\n",
      "  warnings.warn(msg, category=FutureWarning)\n"
     ]
    }
   ],
   "source": [
    "feat_name = vectorizer.get_feature_names()"
   ]
  },
  {
   "cell_type": "code",
   "execution_count": 51,
   "id": "7dbd7790",
   "metadata": {},
   "outputs": [],
   "source": [
    "feat_to_coef = {word : coef for word,coef in zip(feat_name,final_model.coef_[0])}"
   ]
  },
  {
   "cell_type": "code",
   "execution_count": 54,
   "id": "279f3769",
   "metadata": {},
   "outputs": [
    {
     "name": "stdout",
     "output_type": "stream",
     "text": [
      "('excellent', 1.3920983711938704)\n",
      "('perfect', 1.2996019334044469)\n",
      "('superb', 1.1718824139376491)\n",
      "('wonderfully', 1.0562410550184498)\n",
      "('wonderful', 1.0516092192128932)\n"
     ]
    }
   ],
   "source": [
    "for best_pos in sorted(feat_to_coef.items() ,key=lambda x:x[1],reverse=True)[:5]:\n",
    "    print(best_pos)"
   ]
  },
  {
   "cell_type": "code",
   "execution_count": 56,
   "id": "77a4f02a",
   "metadata": {},
   "outputs": [
    {
     "name": "stdout",
     "output_type": "stream",
     "text": [
      "('worst', -2.0320548016489766)\n",
      "('waste', -1.814096854369008)\n",
      "('awful', -1.4692740727344629)\n",
      "('poorly', -1.3787460531510778)\n",
      "('dull', -1.2688146146377504)\n"
     ]
    }
   ],
   "source": [
    "for worst in sorted(feat_to_coef.items(),key=lambda x:x[1])[:5]:\n",
    "    print(worst)"
   ]
  },
  {
   "cell_type": "code",
   "execution_count": null,
   "id": "2a4d9fda",
   "metadata": {},
   "outputs": [],
   "source": []
  }
 ],
 "metadata": {
  "kernelspec": {
   "display_name": "Python 3 (ipykernel)",
   "language": "python",
   "name": "python3"
  },
  "language_info": {
   "codemirror_mode": {
    "name": "ipython",
    "version": 3
   },
   "file_extension": ".py",
   "mimetype": "text/x-python",
   "name": "python",
   "nbconvert_exporter": "python",
   "pygments_lexer": "ipython3",
   "version": "3.9.12"
  }
 },
 "nbformat": 4,
 "nbformat_minor": 5
}
