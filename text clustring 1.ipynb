{
 "cells": [
  {
   "cell_type": "code",
   "execution_count": 13,
   "id": "078c8715",
   "metadata": {},
   "outputs": [],
   "source": [
    "import pandas as pd\n",
    "import numpy as np\n",
    "import nltk"
   ]
  },
  {
   "cell_type": "code",
   "execution_count": 14,
   "id": "c29dcdc3",
   "metadata": {},
   "outputs": [],
   "source": [
    "documents = [\"This little kitty came to play when I was eating at a restaurant.\",\n",
    " \"Merley has the best squooshy kitten belly.\",\n",
    " \"Google Translate app is incredible.\",\n",
    " \"If you open 100 tab in google you get a smiley face.\",\n",
    " \"Best cat photo I've ever taken.\",\n",
    " \"Climbing ninja cat.\",\n",
    " \"Impressed with google map feedback.\",\n",
    " \"Key promoter extension for Google Chrome.\"]"
   ]
  },
  {
   "cell_type": "code",
   "execution_count": 15,
   "id": "69050555",
   "metadata": {},
   "outputs": [],
   "source": [
    "from sklearn.feature_extraction.text import TfidfVectorizer"
   ]
  },
  {
   "cell_type": "code",
   "execution_count": 16,
   "id": "871be411",
   "metadata": {},
   "outputs": [],
   "source": [
    "tfidf = TfidfVectorizer(stop_words=\"english\")\n",
    "matrix_tfidf = tfidf.fit_transform(documents)"
   ]
  },
  {
   "cell_type": "code",
   "execution_count": 17,
   "id": "3239672b",
   "metadata": {},
   "outputs": [],
   "source": [
    "from sklearn.cluster import KMeans"
   ]
  },
  {
   "cell_type": "code",
   "execution_count": 18,
   "id": "43e03be7",
   "metadata": {},
   "outputs": [
    {
     "data": {
      "text/plain": [
       "KMeans(n_clusters=2)"
      ]
     },
     "execution_count": 18,
     "metadata": {},
     "output_type": "execute_result"
    }
   ],
   "source": [
    "n_clust = 2\n",
    "kmean_model = KMeans(n_clusters=n_clust)\n",
    "kmean_model.fit(matrix_tfidf)"
   ]
  },
  {
   "cell_type": "code",
   "execution_count": 19,
   "id": "40fd0c35",
   "metadata": {},
   "outputs": [
    {
     "data": {
      "text/plain": [
       "array([[0.0860499 , 0.10843242, 0.        , 0.        , 0.08164966,\n",
       "        0.        , 0.09532397, 0.        , 0.08164966, 0.09532397,\n",
       "        0.0860499 , 0.10843242, 0.2525154 , 0.10843242, 0.10843242,\n",
       "        0.09532397, 0.        , 0.08164966, 0.08164966, 0.10843242,\n",
       "        0.        , 0.        , 0.0860499 , 0.        , 0.08164966,\n",
       "        0.09532397, 0.08164966, 0.0860499 , 0.        , 0.0860499 ,\n",
       "        0.        , 0.10843242, 0.        ],\n",
       "       [0.        , 0.        , 0.15371637, 0.26193384, 0.        ,\n",
       "        0.30304549, 0.        , 0.20277105, 0.        , 0.        ,\n",
       "        0.        , 0.        , 0.        , 0.        , 0.        ,\n",
       "        0.        , 0.15371637, 0.        , 0.        , 0.        ,\n",
       "        0.15371637, 0.20277105, 0.        , 0.15882473, 0.        ,\n",
       "        0.        , 0.        , 0.        , 0.15371637, 0.        ,\n",
       "        0.15882473, 0.        , 0.15882473]])"
      ]
     },
     "execution_count": 19,
     "metadata": {},
     "output_type": "execute_result"
    }
   ],
   "source": [
    "kmean_model.cluster_centers_"
   ]
  },
  {
   "cell_type": "code",
   "execution_count": 20,
   "id": "fe307d68",
   "metadata": {},
   "outputs": [
    {
     "data": {
      "text/plain": [
       "array([[12, 31,  1, 11, 13, 19, 14,  9, 25,  6, 15,  0, 29, 27, 10, 22,\n",
       "         8, 17, 18,  4, 24, 26,  3,  2,  5, 32,  7, 20, 21, 23, 28, 30,\n",
       "        16],\n",
       "       [ 5,  3,  7, 21, 32, 23, 30,  2, 20, 16, 28, 22, 10,  1, 29,  4,\n",
       "        27,  6, 26,  8,  9, 11, 24, 12, 13, 14, 15, 31, 17, 18, 19, 25,\n",
       "         0]], dtype=int64)"
      ]
     },
     "execution_count": 20,
     "metadata": {},
     "output_type": "execute_result"
    }
   ],
   "source": [
    "order_centorids = kmean_model.cluster_centers_.argsort()[:,::-1]\n",
    "order_centorids"
   ]
  },
  {
   "cell_type": "code",
   "execution_count": 21,
   "id": "e7c7fabf",
   "metadata": {},
   "outputs": [
    {
     "name": "stderr",
     "output_type": "stream",
     "text": [
      "C:\\Users\\Abdelrahman\\anaconda3\\lib\\site-packages\\sklearn\\utils\\deprecation.py:87: FutureWarning: Function get_feature_names is deprecated; get_feature_names is deprecated in 1.0 and will be removed in 1.2. Please use get_feature_names_out instead.\n",
      "  warnings.warn(msg, category=FutureWarning)\n"
     ]
    },
    {
     "data": {
      "text/plain": [
       "['100',\n",
       " 'app',\n",
       " 'belly',\n",
       " 'best',\n",
       " 'came',\n",
       " 'cat',\n",
       " 'chrome',\n",
       " 'climbing',\n",
       " 'eating',\n",
       " 'extension',\n",
       " 'face',\n",
       " 'feedback',\n",
       " 'google',\n",
       " 'impressed',\n",
       " 'incredible',\n",
       " 'key',\n",
       " 'kitten',\n",
       " 'kitty',\n",
       " 'little',\n",
       " 'map',\n",
       " 'merley',\n",
       " 'ninja',\n",
       " 'open',\n",
       " 'photo',\n",
       " 'play',\n",
       " 'promoter',\n",
       " 'restaurant',\n",
       " 'smiley',\n",
       " 'squooshy',\n",
       " 'tab',\n",
       " 'taken',\n",
       " 'translate',\n",
       " 've']"
      ]
     },
     "execution_count": 21,
     "metadata": {},
     "output_type": "execute_result"
    }
   ],
   "source": [
    "feat = tfidf.get_feature_names()\n",
    "feat"
   ]
  },
  {
   "cell_type": "code",
   "execution_count": 23,
   "id": "f0b3a852",
   "metadata": {},
   "outputs": [
    {
     "name": "stdout",
     "output_type": "stream",
     "text": [
      "cluster id is  0\n",
      "google\n",
      "translate\n",
      "app\n",
      "feedback\n",
      "impressed\n",
      "map\n",
      "incredible\n",
      "extension\n",
      "promoter\n",
      "chrome\n",
      "--------------\n",
      "cluster id is  1\n",
      "cat\n",
      "best\n",
      "climbing\n",
      "ninja\n",
      "ve\n",
      "photo\n",
      "taken\n",
      "belly\n",
      "merley\n",
      "kitten\n",
      "--------------\n",
      "\n",
      "\n"
     ]
    }
   ],
   "source": [
    "for i in range(n_clust):\n",
    "    print(\"cluster id is \" , i)\n",
    "    for idd in order_centorids[i,:10]:\n",
    "        print(feat[idd])\n",
    "    print(\"--------------\")\n",
    "print(\"\\n\")"
   ]
  },
  {
   "cell_type": "code",
   "execution_count": 26,
   "id": "4424817c",
   "metadata": {},
   "outputs": [
    {
     "data": {
      "text/plain": [
       "array([0])"
      ]
     },
     "execution_count": 26,
     "metadata": {},
     "output_type": "execute_result"
    }
   ],
   "source": [
    "y = tfidf.transform([\"chrome browser to open\"])\n",
    "y_pred = kmean_model.predict(y)\n",
    "y_pred"
   ]
  },
  {
   "cell_type": "code",
   "execution_count": 28,
   "id": "308b813d",
   "metadata": {},
   "outputs": [
    {
     "data": {
      "text/plain": [
       "array([1])"
      ]
     },
     "execution_count": 28,
     "metadata": {},
     "output_type": "execute_result"
    }
   ],
   "source": [
    "y = tfidf.transform([\"cat is hungry\"])\n",
    "y_pred = kmean_model.predict(y)\n",
    "y_pred"
   ]
  },
  {
   "cell_type": "code",
   "execution_count": null,
   "id": "4b8e6bb6",
   "metadata": {},
   "outputs": [],
   "source": []
  }
 ],
 "metadata": {
  "kernelspec": {
   "display_name": "Python 3 (ipykernel)",
   "language": "python",
   "name": "python3"
  },
  "language_info": {
   "codemirror_mode": {
    "name": "ipython",
    "version": 3
   },
   "file_extension": ".py",
   "mimetype": "text/x-python",
   "name": "python",
   "nbconvert_exporter": "python",
   "pygments_lexer": "ipython3",
   "version": "3.9.12"
  }
 },
 "nbformat": 4,
 "nbformat_minor": 5
}
